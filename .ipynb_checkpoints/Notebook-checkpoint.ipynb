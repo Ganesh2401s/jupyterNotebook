{
 "cells": [
  {
   "cell_type": "code",
   "execution_count": 3,
   "id": "ba8fb7ea-8f3e-4b06-99a5-49d1b3f55d18",
   "metadata": {},
   "outputs": [
    {
     "name": "stdout",
     "output_type": "stream",
     "text": [
      " Pandas Version: 2.2.3\n",
      " Numpy Version: 2.2.2\n",
      " matplotlib Version: 3.10.0\n",
      " seaborn Version: 0.13.2\n"
     ]
    }
   ],
   "source": [
    "import pandas, numpy, matplotlib, seaborn\n",
    "print(f\" Pandas Version: {pandas.__version__}\")\n",
    "print(f\" Numpy Version: {numpy.__version__}\")\n",
    "print(f\" matplotlib Version: {matplotlib.__version__}\")\n",
    "print(f\" seaborn Version: {seaborn.__version__}\")"
   ]
  },
  {
   "cell_type": "code",
   "execution_count": null,
   "id": "43b83bd5-2861-4f83-a7a6-f2ccbe495545",
   "metadata": {},
   "outputs": [],
   "source": [
    "import pandas as pd\n"
   ]
  }
 ],
 "metadata": {
  "kernelspec": {
   "display_name": "Python 3.13",
   "language": "python",
   "name": "python313"
  },
  "language_info": {
   "codemirror_mode": {
    "name": "ipython",
    "version": 3
   },
   "file_extension": ".py",
   "mimetype": "text/x-python",
   "name": "python",
   "nbconvert_exporter": "python",
   "pygments_lexer": "ipython3",
   "version": "3.13.1"
  }
 },
 "nbformat": 4,
 "nbformat_minor": 5
}
