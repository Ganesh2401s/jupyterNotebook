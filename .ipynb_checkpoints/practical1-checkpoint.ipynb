{
 "cells": [
  {
   "cell_type": "code",
   "execution_count": 1,
   "id": "ba8fb7ea-8f3e-4b06-99a5-49d1b3f55d18",
   "metadata": {},
   "outputs": [
    {
     "name": "stdout",
     "output_type": "stream",
     "text": [
      " Pandas Version: 2.2.3\n",
      " Numpy Version: 2.2.2\n",
      " matplotlib Version: 3.10.0\n",
      " seaborn Version: 0.13.2\n"
     ]
    }
   ],
   "source": [
    "import pandas, numpy, matplotlib, seaborn\n",
    "print(f\" Pandas Version: {pandas.__version__}\")\n",
    "print(f\" Numpy Version: {numpy.__version__}\")\n",
    "print(f\" matplotlib Version: {matplotlib.__version__}\")\n",
    "print(f\" seaborn Version: {seaborn.__version__}\")"
   ]
  },
  {
   "cell_type": "code",
   "execution_count": 3,
   "id": "43b83bd5-2861-4f83-a7a6-f2ccbe495545",
   "metadata": {},
   "outputs": [
    {
     "name": "stdout",
     "output_type": "stream",
     "text": [
      "         Subject        Date  Roll No         Student Name  Status\n",
      "0  BDS-PG-Theory  2025-01-23  2406001              Abhinav  Absent\n",
      "1  BDS-PG-Theory  2025-01-23  2406004          Akriti Arya  Absent\n",
      "2  BDS-PG-Theory  2025-01-23  2406005   Anandita Srivastav  Absent\n",
      "3  BDS-PG-Theory  2025-01-23  2406008       Archana Kumari  Absent\n",
      "4  BDS-PG-Theory  2025-01-23  2406010  Deepanshu Sabharwal  Absent\n",
      "\n",
      "\n",
      "Identifying missing values:\n",
      "   Subject   Date  Roll No  Student Name  Status\n",
      "0    False  False    False         False   False\n",
      "1    False  False    False         False   False\n",
      "2    False  False    False         False   False\n",
      "3    False  False    False         False   False\n",
      "4    False  False    False         False   False\n",
      "Number of missing values: \n",
      "Subject         0\n",
      "Date            0\n",
      "Roll No         0\n",
      "Student Name    0\n",
      "Status          0\n",
      "dtype: int64\n",
      "         Subject        Date  Roll No         Student Name  Status\n",
      "0  BDS-PG-Theory  2025-01-23  2406001              Abhinav  Absent\n",
      "1  BDS-PG-Theory  2025-01-23  2406004          Akriti Arya  Absent\n",
      "2  BDS-PG-Theory  2025-01-23  2406005   Anandita Srivastav  Absent\n",
      "3  BDS-PG-Theory  2025-01-23  2406008       Archana Kumari  Absent\n",
      "4  BDS-PG-Theory  2025-01-23  2406010  Deepanshu Sabharwal  Absent\n",
      "\n",
      "\n"
     ]
    },
    {
     "ename": "KeyError",
     "evalue": "'Science'",
     "output_type": "error",
     "traceback": [
      "\u001b[1;31m---------------------------------------------------------------------------\u001b[0m",
      "\u001b[1;31mKeyError\u001b[0m                                  Traceback (most recent call last)",
      "File \u001b[1;32m~\\AppData\\Roaming\\Python\\Python313\\site-packages\\pandas\\core\\indexes\\base.py:3805\u001b[0m, in \u001b[0;36mIndex.get_loc\u001b[1;34m(self, key)\u001b[0m\n\u001b[0;32m   3804\u001b[0m \u001b[38;5;28;01mtry\u001b[39;00m:\n\u001b[1;32m-> 3805\u001b[0m     \u001b[38;5;28;01mreturn\u001b[39;00m \u001b[38;5;28;43mself\u001b[39;49m\u001b[38;5;241;43m.\u001b[39;49m\u001b[43m_engine\u001b[49m\u001b[38;5;241;43m.\u001b[39;49m\u001b[43mget_loc\u001b[49m\u001b[43m(\u001b[49m\u001b[43mcasted_key\u001b[49m\u001b[43m)\u001b[49m\n\u001b[0;32m   3806\u001b[0m \u001b[38;5;28;01mexcept\u001b[39;00m \u001b[38;5;167;01mKeyError\u001b[39;00m \u001b[38;5;28;01mas\u001b[39;00m err:\n",
      "File \u001b[1;32mindex.pyx:167\u001b[0m, in \u001b[0;36mpandas._libs.index.IndexEngine.get_loc\u001b[1;34m()\u001b[0m\n",
      "File \u001b[1;32mindex.pyx:196\u001b[0m, in \u001b[0;36mpandas._libs.index.IndexEngine.get_loc\u001b[1;34m()\u001b[0m\n",
      "File \u001b[1;32mpandas\\\\_libs\\\\hashtable_class_helper.pxi:7081\u001b[0m, in \u001b[0;36mpandas._libs.hashtable.PyObjectHashTable.get_item\u001b[1;34m()\u001b[0m\n",
      "File \u001b[1;32mpandas\\\\_libs\\\\hashtable_class_helper.pxi:7089\u001b[0m, in \u001b[0;36mpandas._libs.hashtable.PyObjectHashTable.get_item\u001b[1;34m()\u001b[0m\n",
      "\u001b[1;31mKeyError\u001b[0m: 'Science'",
      "\nThe above exception was the direct cause of the following exception:\n",
      "\u001b[1;31mKeyError\u001b[0m                                  Traceback (most recent call last)",
      "Cell \u001b[1;32mIn[3], line 50\u001b[0m\n\u001b[0;32m     48\u001b[0m df_no_outliers \u001b[38;5;241m=\u001b[39m students_data\u001b[38;5;241m.\u001b[39mcopy()\n\u001b[0;32m     49\u001b[0m \u001b[38;5;28;01mfor\u001b[39;00m column \u001b[38;5;129;01min\u001b[39;00m [\u001b[38;5;124m'\u001b[39m\u001b[38;5;124mScience\u001b[39m\u001b[38;5;124m'\u001b[39m, \u001b[38;5;124m'\u001b[39m\u001b[38;5;124mEnglish\u001b[39m\u001b[38;5;124m'\u001b[39m]:\n\u001b[1;32m---> 50\u001b[0m     df_no_outliers \u001b[38;5;241m=\u001b[39m \u001b[43mremove_outliers\u001b[49m\u001b[43m(\u001b[49m\u001b[43mdf_no_outliers\u001b[49m\u001b[43m,\u001b[49m\u001b[43m \u001b[49m\u001b[43mcolumn\u001b[49m\u001b[43m)\u001b[49m\n\u001b[0;32m     51\u001b[0m     \u001b[38;5;28mprint\u001b[39m(df_no_outliers)\n\u001b[0;32m     52\u001b[0m     \u001b[38;5;28mprint\u001b[39m(\u001b[38;5;124m\"\u001b[39m\u001b[38;5;130;01m\\n\u001b[39;00m\u001b[38;5;124m\"\u001b[39m)\n",
      "Cell \u001b[1;32mIn[3], line 38\u001b[0m, in \u001b[0;36mremove_outliers\u001b[1;34m(df, column)\u001b[0m\n\u001b[0;32m     37\u001b[0m \u001b[38;5;28;01mdef\u001b[39;00m\u001b[38;5;250m \u001b[39m\u001b[38;5;21mremove_outliers\u001b[39m(df, column):\n\u001b[1;32m---> 38\u001b[0m     Q1 \u001b[38;5;241m=\u001b[39m \u001b[43mdf\u001b[49m\u001b[43m[\u001b[49m\u001b[43mcolumn\u001b[49m\u001b[43m]\u001b[49m\u001b[38;5;241m.\u001b[39mquantile(\u001b[38;5;241m0.25\u001b[39m)\n\u001b[0;32m     39\u001b[0m     Q3 \u001b[38;5;241m=\u001b[39m df[column]\u001b[38;5;241m.\u001b[39mquantile(\u001b[38;5;241m0.75\u001b[39m)\n\u001b[0;32m     40\u001b[0m     IQR \u001b[38;5;241m=\u001b[39m Q3 \u001b[38;5;241m-\u001b[39m Q1\n",
      "File \u001b[1;32m~\\AppData\\Roaming\\Python\\Python313\\site-packages\\pandas\\core\\frame.py:4102\u001b[0m, in \u001b[0;36mDataFrame.__getitem__\u001b[1;34m(self, key)\u001b[0m\n\u001b[0;32m   4100\u001b[0m \u001b[38;5;28;01mif\u001b[39;00m \u001b[38;5;28mself\u001b[39m\u001b[38;5;241m.\u001b[39mcolumns\u001b[38;5;241m.\u001b[39mnlevels \u001b[38;5;241m>\u001b[39m \u001b[38;5;241m1\u001b[39m:\n\u001b[0;32m   4101\u001b[0m     \u001b[38;5;28;01mreturn\u001b[39;00m \u001b[38;5;28mself\u001b[39m\u001b[38;5;241m.\u001b[39m_getitem_multilevel(key)\n\u001b[1;32m-> 4102\u001b[0m indexer \u001b[38;5;241m=\u001b[39m \u001b[38;5;28;43mself\u001b[39;49m\u001b[38;5;241;43m.\u001b[39;49m\u001b[43mcolumns\u001b[49m\u001b[38;5;241;43m.\u001b[39;49m\u001b[43mget_loc\u001b[49m\u001b[43m(\u001b[49m\u001b[43mkey\u001b[49m\u001b[43m)\u001b[49m\n\u001b[0;32m   4103\u001b[0m \u001b[38;5;28;01mif\u001b[39;00m is_integer(indexer):\n\u001b[0;32m   4104\u001b[0m     indexer \u001b[38;5;241m=\u001b[39m [indexer]\n",
      "File \u001b[1;32m~\\AppData\\Roaming\\Python\\Python313\\site-packages\\pandas\\core\\indexes\\base.py:3812\u001b[0m, in \u001b[0;36mIndex.get_loc\u001b[1;34m(self, key)\u001b[0m\n\u001b[0;32m   3807\u001b[0m     \u001b[38;5;28;01mif\u001b[39;00m \u001b[38;5;28misinstance\u001b[39m(casted_key, \u001b[38;5;28mslice\u001b[39m) \u001b[38;5;129;01mor\u001b[39;00m (\n\u001b[0;32m   3808\u001b[0m         \u001b[38;5;28misinstance\u001b[39m(casted_key, abc\u001b[38;5;241m.\u001b[39mIterable)\n\u001b[0;32m   3809\u001b[0m         \u001b[38;5;129;01mand\u001b[39;00m \u001b[38;5;28many\u001b[39m(\u001b[38;5;28misinstance\u001b[39m(x, \u001b[38;5;28mslice\u001b[39m) \u001b[38;5;28;01mfor\u001b[39;00m x \u001b[38;5;129;01min\u001b[39;00m casted_key)\n\u001b[0;32m   3810\u001b[0m     ):\n\u001b[0;32m   3811\u001b[0m         \u001b[38;5;28;01mraise\u001b[39;00m InvalidIndexError(key)\n\u001b[1;32m-> 3812\u001b[0m     \u001b[38;5;28;01mraise\u001b[39;00m \u001b[38;5;167;01mKeyError\u001b[39;00m(key) \u001b[38;5;28;01mfrom\u001b[39;00m\u001b[38;5;250m \u001b[39m\u001b[38;5;21;01merr\u001b[39;00m\n\u001b[0;32m   3813\u001b[0m \u001b[38;5;28;01mexcept\u001b[39;00m \u001b[38;5;167;01mTypeError\u001b[39;00m:\n\u001b[0;32m   3814\u001b[0m     \u001b[38;5;66;03m# If we have a listlike key, _check_indexing_error will raise\u001b[39;00m\n\u001b[0;32m   3815\u001b[0m     \u001b[38;5;66;03m#  InvalidIndexError. Otherwise we fall through and re-raise\u001b[39;00m\n\u001b[0;32m   3816\u001b[0m     \u001b[38;5;66;03m#  the TypeError.\u001b[39;00m\n\u001b[0;32m   3817\u001b[0m     \u001b[38;5;28mself\u001b[39m\u001b[38;5;241m.\u001b[39m_check_indexing_error(key)\n",
      "\u001b[1;31mKeyError\u001b[0m: 'Science'"
     ]
    }
   ],
   "source": [
    "#Question 1: Load a Pandas DataFrame with a selected dataset. Identify and count the missing values in a dataframe. \n",
    "#Clean the data after removing noise as follows: \n",
    "#a. Drop duplicate rows.\n",
    "#b. Detect the outliers and remove the rows having more than two outliers identified using boxplot.\n",
    "#c. Identify the most correlated positively correlated attributes and negatively correlated attributes.\n",
    "\n",
    "import pandas as pd\n",
    "students_data = pd.read_csv(\"attendance_data.csv\").head()\n",
    "print(students_data)\n",
    "print(\"\\n\")\n",
    "\n",
    "\n",
    "#identifying null values\n",
    "identify_values = students_data.isnull()\n",
    "print(\"Identifying missing values:\")\n",
    "print(identify_values)\n",
    "\n",
    "\n",
    "#calculating total null values \n",
    "count_values = students_data.isnull().sum()\n",
    "print(\"Number of missing values: \")\n",
    "print(count_values)\n",
    "\n",
    "#Dropping duplicate rows.\n",
    "students_data.drop_duplicates(inplace=True)\n",
    "\n",
    "\n",
    "#Correct index of the dataframe \n",
    "list = []\n",
    "for i in range(0, len(students_data)):\n",
    "    list.append(i)\n",
    "students_data.index = list\n",
    "print(students_data)\n",
    "print(\"\\n\")\n",
    "    \n",
    "# Detect the outliers and remove the rows having outliers\n",
    "def remove_outliers(df, column):\n",
    "    Q1 = df[column].quantile(0.25)\n",
    "    Q3 = df[column].quantile(0.75)\n",
    "    IQR = Q3 - Q1\n",
    "    lower_bound = Q1 - 1.5 * IQR\n",
    "    upper_bound = Q3 + 1.5 * IQR\n",
    "    return df[(df[column] >= lower_bound) & (df[column] <= upper_bound)]\n",
    "    \n",
    "\n",
    "#Apply the function to the Maths, Science and English columns\n",
    "\n",
    "df_no_outliers = students_data.copy()\n",
    "for column in ['Science', 'English']:\n",
    "    df_no_outliers = remove_outliers(df_no_outliers, column)\n",
    "    print(df_no_outliers)\n",
    "    print(\"\\n\")\n",
    "\n",
    "# Identifying correlated attributes\n",
    "corr_matrix = df_no_outliers[['Science', 'English']].corr()\n",
    "most_positively_correlated = corr_matrix.max()\n",
    "most_negatively_correlated = corr_matrix.min()\n",
    "\n",
    "print(\"Most Positively Correlated attributes: \")\n",
    "print(most_positively_correlated)\n",
    "print(\"Most Negatively Correlated attributes: \")\n",
    "print(most_negatively_correlated)\n"
   ]
  },
  {
   "cell_type": "code",
   "execution_count": null,
   "id": "caa4fa56-bad4-40f9-ac96-007cda779c3e",
   "metadata": {},
   "outputs": [],
   "source": [
    " \n"
   ]
  },
  {
   "cell_type": "code",
   "execution_count": null,
   "id": "2817c8ad-64b1-4c34-8716-ab4cf34d739e",
   "metadata": {},
   "outputs": [],
   "source": []
  },
  {
   "cell_type": "code",
   "execution_count": null,
   "id": "fd325d90-e004-4aed-ac3e-fc08d2f7ad3d",
   "metadata": {},
   "outputs": [],
   "source": [
    " from sklearn.datasets import load_iris\n",
    "\n",
    "# Load the iris dataset\n",
    "iris = load_iris()\n",
    "\n",
    "# Extract features (X) and target labels (y)\n",
    "X = iris.data   # Feature variables (sepal length, sepal width, petal length, petal width)\n",
    "y = iris.target # Target labels (species of iris flower)\n",
    "\n",
    "# Print feature names and target names\n",
    "print(\"Feature names:\", iris.feature_names)\n",
    "print(\"Target names:\", iris.target_names)\n"
   ]
  },
  {
   "cell_type": "code",
   "execution_count": null,
   "id": "32e5ec59-2765-4b33-8b5a-dc1d9af70076",
   "metadata": {},
   "outputs": [],
   "source": [
    "import pandas as pd\n",
    "\n",
    "# Create DataFrame\n",
    "df = pd.DataFrame(data=iris.data, columns=iris.feature_names)\n",
    "\n",
    "# Add target labels\n",
    "df['species'] = iris.target\n",
    "\n",
    "# Map target values to species names\n",
    "df['species'] = df['species'].map({0: 'setosa', 1: 'versicolor', 2: 'virginica'})\n",
    "\n",
    "# Display the first few rows\n",
    "print(df.head())\n"
   ]
  },
  {
   "cell_type": "code",
   "execution_count": null,
   "id": "27aae8f8-972f-49ef-adfd-5c8eedbf4493",
   "metadata": {},
   "outputs": [],
   "source": [
    " "
   ]
  },
  {
   "cell_type": "code",
   "execution_count": null,
   "id": "ac10c6e1-a3cb-461f-a9bf-6f457aa1cc88",
   "metadata": {},
   "outputs": [],
   "source": [
    "import seaborn as sns\n",
    "import pandas as pd\n",
    "import matplotlib.pyplot as plt\n",
    "\n",
    "# Load Titanic dataset from Seaborn\n",
    "df = sns.load_dataset(\"titanic\")"
   ]
  },
  {
   "cell_type": "code",
   "execution_count": null,
   "id": "75730f80-26ac-4d23-bd0b-732912cd2289",
   "metadata": {},
   "outputs": [],
   "source": [
    "# (a) Bar chart: Frequency of survivors and non-survivors for male and female passengers\n",
    "sns.countplot(x=\"sex\", hue=\"survived\", data=df, palette=\"coolwarm\")\n",
    "plt.xlabel(\"Sex\")\n",
    "plt.ylabel(\"Count\")\n",
    "plt.title(\"Survival Count by Gender\")\n",
    "plt.legend(title=\"Survived\", labels=[\"No\", \"Yes\"])\n",
    "plt.show()"
   ]
  },
  {
   "cell_type": "code",
   "execution_count": null,
   "id": "e60107f9-b298-4428-99fa-ed5c841aead6",
   "metadata": {},
   "outputs": [],
   "source": [
    "# (b) Scatter plot for two selected features: Age vs Fare\n",
    "sns.scatterplot(x=df[\"age\"], y=df[\"fare\"], hue=df[\"survived\"], palette=\"coolwarm\", alpha=0.7)\n",
    "plt.xlabel(\"Age\")\n",
    "plt.ylabel(\"Fare\")\n",
    "plt.title(\"Scatter Plot of Age vs Fare\")\n",
    "plt.legend(title=\"Survived\", labels=[\"No\", \"Yes\"])\n",
    "plt.show()"
   ]
  },
  {
   "cell_type": "code",
   "execution_count": null,
   "id": "ec82a91b-3626-4bd3-8089-c43a4a57751a",
   "metadata": {},
   "outputs": [],
   "source": [
    "# (c) Density distribution for Age and Fare\n",
    "sns.kdeplot(df[\"age\"].dropna(), fill=True, label=\"Age\")\n",
    "sns.kdeplot(df[\"fare\"].dropna(), fill=True, label=\"Fare\")\n",
    "plt.xlabel(\"Value\")\n",
    "plt.ylabel(\"Density\")\n",
    "plt.title(\"Density Distribution of Age and Fare\")\n",
    "plt.legend()\n",
    "plt.show()"
   ]
  },
  {
   "cell_type": "code",
   "execution_count": null,
   "id": "e04d6b15-167b-4e45-aeb4-dcdc0b490758",
   "metadata": {},
   "outputs": [],
   "source": [
    "# (d) Pair plot to show pairwise bivariate distribution\n",
    "sns.pairplot(df[['age', 'fare', 'pclass', 'survived']].dropna(), hue='survived', palette=\"coolwarm\")\n",
    "plt.show()"
   ]
  },
  {
   "cell_type": "code",
   "execution_count": null,
   "id": "cfdfbe0b-91c9-4187-86e9-4a648d6c6ace",
   "metadata": {},
   "outputs": [],
   "source": [
    "# (4a) Find total number of passengers with age less than 30\n",
    "young_passengers = df[df[\"age\"] < 30].shape[0]\n",
    "print(f\"Total passengers with age less than 30: {young_passengers}\")"
   ]
  },
  {
   "cell_type": "code",
   "execution_count": null,
   "id": "d839fdb9-4ab6-47fc-bde3-87ea50f681b8",
   "metadata": {},
   "outputs": [],
   "source": [
    "# (4b) Find total fare paid by passengers of first class\n",
    "total_fare_first_class = df[df[\"pclass\"] == 1][\"fare\"].sum()\n",
    "print(f\"Total fare paid by first-class passengers: {total_fare_first_class:.2f}\")"
   ]
  },
  {
   "cell_type": "code",
   "execution_count": null,
   "id": "85ae1416-454f-46c0-a7a1-e2c1d5c2e978",
   "metadata": {},
   "outputs": [],
   "source": [
    "# (4c) Compare number of survivors of each passenger class\n",
    "survival_by_class = df.groupby(\"pclass\")[\"survived\"].sum()\n",
    "print(\"Survivors by Passenger Class:\")\n",
    "print(survival_by_class)"
   ]
  },
  {
   "cell_type": "code",
   "execution_count": null,
   "id": "59a7a268-06ce-43b0-ab3b-08cfee39cc71",
   "metadata": {},
   "outputs": [],
   "source": [
    "#Question 2: import iris date using sklearn library or download it \n",
    "#a. Compute mean, median , mode, standard deviation, confidence interval and standard error for each feature.\n",
    "#b. Compute correlation coefficients between each pair of features and plot heatmap\n",
    "#c. Find covariance between length of sepal and petal\n",
    "#d. Build contigency table for class feature."
   ]
  },
  {
   "cell_type": "code",
   "execution_count": null,
   "id": "8f03e1fe-1a90-478a-9d31-cc35b38b41bb",
   "metadata": {},
   "outputs": [],
   "source": [
    "import pandas as pd \n",
    "import numpy as np \n",
    "import scipy.stats as sts\n",
    "iris"
   ]
  }
 ],
 "metadata": {
  "kernelspec": {
   "display_name": "Python 3.13",
   "language": "python",
   "name": "python313"
  },
  "language_info": {
   "codemirror_mode": {
    "name": "ipython",
    "version": 3
   },
   "file_extension": ".py",
   "mimetype": "text/x-python",
   "name": "python",
   "nbconvert_exporter": "python",
   "pygments_lexer": "ipython3",
   "version": "3.13.1"
  }
 },
 "nbformat": 4,
 "nbformat_minor": 5
}
