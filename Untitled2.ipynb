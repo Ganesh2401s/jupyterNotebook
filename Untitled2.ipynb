{
 "cells": [
  {
   "cell_type": "code",
   "execution_count": 1,
   "id": "ff0dd3a1-7bf1-47b5-bfba-0456fe341647",
   "metadata": {},
   "outputs": [
    {
     "name": "stdout",
     "output_type": "stream",
     "text": [
      "[[ 0  1  2]\n",
      " [ 3  4  5]\n",
      " [ 6  7  8]\n",
      " [ 9 10 11]]\n"
     ]
    }
   ],
   "source": [
    "import pandas as pd\n",
    "import numpy as np \n",
    "y = np.arange(12).reshape(4, 3)\n",
    "print(y)"
   ]
  },
  {
   "cell_type": "code",
   "execution_count": 2,
   "id": "ac4f5e82-d9cf-47c0-bea0-f89a96f03dab",
   "metadata": {},
   "outputs": [
    {
     "name": "stdout",
     "output_type": "stream",
     "text": [
      "[[ 0  1  2]\n",
      " [ 3  4  5]\n",
      " [-1 -1 -1]\n",
      " [-1 -1 -1]]\n"
     ]
    }
   ],
   "source": [
    "y[(y > 5)] = -1\n",
    "print(y)"
   ]
  },
  {
   "cell_type": "code",
   "execution_count": 3,
   "id": "a4e0265c-2716-4e65-817d-cc7614a1b07a",
   "metadata": {},
   "outputs": [
    {
     "name": "stdout",
     "output_type": "stream",
     "text": [
      "[[2 4]\n",
      " [5 1]]\n",
      "[[1 1]\n",
      " [1 1]]\n"
     ]
    }
   ],
   "source": [
    "import numpy as np\n",
    "x = np.array([[2, 4], [5, 1]])\n",
    "print(x)\n",
    "z = np.ones_like(x)\n",
    "print(z)\n"
   ]
  },
  {
   "cell_type": "code",
   "execution_count": 4,
   "id": "66c64f59-94ef-4929-95b3-512177efb19b",
   "metadata": {},
   "outputs": [
    {
     "name": "stdout",
     "output_type": "stream",
     "text": [
      "[[2. 0.]\n",
      " [0. 1.]]\n"
     ]
    }
   ],
   "source": [
    "w = np.eye(2)* x\n",
    "print(w)"
   ]
  },
  {
   "cell_type": "code",
   "execution_count": 5,
   "id": "d89ca9b6-d634-4c03-bc1b-f02a445c55cd",
   "metadata": {},
   "outputs": [
    {
     "data": {
      "text/plain": [
       "E    40\n",
       "D    35\n",
       "B    30\n",
       "A    25\n",
       "dtype: int64"
      ]
     },
     "execution_count": 5,
     "metadata": {},
     "output_type": "execute_result"
    }
   ],
   "source": [
    "import pandas as pd\n",
    "Series1 = {\n",
    "    \"A\" : 1, \n",
    "    \"B\" : 2, \n",
    "    \"C\" : 3, \n",
    "    \"D\" : 4, \n",
    "}\n",
    "\n",
    "Series2 = {\n",
    "    \"A\" : 5, \n",
    "    \"B\" : 6, \n",
    "    \"D\" : 7, \n",
    "    \"E\" : 8, \n",
    "}\n",
    "S1 = pd.Series(Series1)\n",
    "S2 = pd.Series(Series2)\n",
    "S2[: : -1]*5"
   ]
  },
  {
   "cell_type": "code",
   "execution_count": 6,
   "id": "507052af-817d-42e3-98f7-3672f7d1ec5e",
   "metadata": {},
   "outputs": [
    {
     "data": {
      "text/plain": [
       "array([[ 5, 10, 20],\n",
       "       [20, 13, 43],\n",
       "       [34, 27, 67],\n",
       "       [12, 46, 77]])"
      ]
     },
     "execution_count": 6,
     "metadata": {},
     "output_type": "execute_result"
    }
   ],
   "source": [
    "list = [[5, 10, 20], \n",
    "         [20, 13, 43], \n",
    "         [34, 27, 67], \n",
    "         [12, 46, 77]]\n",
    "import numpy as np \n",
    "matrix = np.array(list)\n",
    "matrix"
   ]
  },
  {
   "cell_type": "code",
   "execution_count": 7,
   "id": "7654a701-821a-4c38-bec8-3a444759a1d4",
   "metadata": {},
   "outputs": [],
   "source": [
    "transpose = matrix.T"
   ]
  },
  {
   "cell_type": "code",
   "execution_count": 8,
   "id": "0d0019a2-ccca-49e8-a819-bb2cf1910b6d",
   "metadata": {},
   "outputs": [
    {
     "data": {
      "text/plain": [
       "array([[10, 20]])"
      ]
     },
     "execution_count": 8,
     "metadata": {},
     "output_type": "execute_result"
    }
   ],
   "source": [
    "matrix[:1, 1:]"
   ]
  },
  {
   "cell_type": "code",
   "execution_count": 9,
   "id": "ccfb3bf9-4a53-437c-a2ef-8866e2a76b86",
   "metadata": {},
   "outputs": [
    {
     "data": {
      "text/plain": [
       "array([43, 46,  5])"
      ]
     },
     "execution_count": 9,
     "metadata": {},
     "output_type": "execute_result"
    }
   ],
   "source": [
    "matrix[[1, 3, 0], [2, 1, 0]]"
   ]
  },
  {
   "cell_type": "code",
   "execution_count": 10,
   "id": "59220592-a984-410e-9b0c-6fc550f2e0c5",
   "metadata": {},
   "outputs": [
    {
     "data": {
      "text/plain": [
       "array([[34, 27, 67],\n",
       "       [ 5, 10, 20]])"
      ]
     },
     "execution_count": 10,
     "metadata": {},
     "output_type": "execute_result"
    }
   ],
   "source": [
    "matrix[[-2, -4]]"
   ]
  },
  {
   "cell_type": "code",
   "execution_count": 11,
   "id": "0adda8e5-e62b-49a4-81dd-a481c009346a",
   "metadata": {},
   "outputs": [
    {
     "data": {
      "text/plain": [
       "array([[ 5, 10, 20],\n",
       "       [12, 46, 77]])"
      ]
     },
     "execution_count": 11,
     "metadata": {},
     "output_type": "execute_result"
    }
   ],
   "source": [
    "matrix[[True, False, False, True]]"
   ]
  },
  {
   "cell_type": "code",
   "execution_count": 12,
   "id": "0677edb6-9a02-41b5-ad79-b01c5e8c52f0",
   "metadata": {},
   "outputs": [
    {
     "data": {
      "text/plain": [
       "array([12, 46])"
      ]
     },
     "execution_count": 12,
     "metadata": {},
     "output_type": "execute_result"
    }
   ],
   "source": [
    "matrix [3] [:2]"
   ]
  },
  {
   "cell_type": "code",
   "execution_count": 13,
   "id": "5270bdca-3838-4c75-ac36-b2d1739dd34d",
   "metadata": {},
   "outputs": [
    {
     "data": {
      "text/plain": [
       "array([[12, 46, 77],\n",
       "       [34, 27, 67],\n",
       "       [20, 13, 43],\n",
       "       [ 5, 10, 20]])"
      ]
     },
     "execution_count": 13,
     "metadata": {},
     "output_type": "execute_result"
    }
   ],
   "source": [
    "matrix[::-1]"
   ]
  },
  {
   "cell_type": "code",
   "execution_count": 14,
   "id": "f90232c1-b56c-417d-b73e-872aee4e4aff",
   "metadata": {},
   "outputs": [
    {
     "data": {
      "text/plain": [
       "2"
      ]
     },
     "execution_count": 14,
     "metadata": {},
     "output_type": "execute_result"
    }
   ],
   "source": [
    "matrix.ndim"
   ]
  },
  {
   "cell_type": "code",
   "execution_count": 15,
   "id": "867c121f-30ae-475e-b5f1-572e5a522342",
   "metadata": {},
   "outputs": [
    {
     "data": {
      "text/plain": [
       "array([[ 5, 20, 34, 12],\n",
       "       [10, 13, 27, 46],\n",
       "       [20, 43, 67, 77]])"
      ]
     },
     "execution_count": 15,
     "metadata": {},
     "output_type": "execute_result"
    }
   ],
   "source": [
    "swapped = np.swapaxes(matrix, 1, 0)\n",
    "swapped"
   ]
  },
  {
   "cell_type": "code",
   "execution_count": 16,
   "id": "b6b54e09-94ca-4a1d-b854-84bdb5ec932b",
   "metadata": {},
   "outputs": [
    {
     "data": {
      "text/plain": [
       "array([[15, 20, 30],\n",
       "       [30, 23, 53],\n",
       "       [44, 37, 77],\n",
       "       [22, 56, 87]])"
      ]
     },
     "execution_count": 16,
     "metadata": {},
     "output_type": "execute_result"
    }
   ],
   "source": [
    "matrix + 10"
   ]
  },
  {
   "cell_type": "code",
   "execution_count": 17,
   "id": "6468e314-0009-4e83-ae54-ace66bd4e78d",
   "metadata": {},
   "outputs": [],
   "source": [
    "# import pandas as pd\n",
    "# data = {\"ONE\" : [1, 34, , 34], \n",
    "#        \"TWO\": [14, 21, 23, 21], \n",
    "#        \"THREE\" : [34, , , 32], \n",
    "#        \"FOUR\" : [, , , ,]}\n",
    "# df = pd.DataFrame(data)\n",
    "# df"
   ]
  },
  {
   "cell_type": "code",
   "execution_count": 18,
   "id": "c23803de-8e61-4193-a6f6-d619a596018f",
   "metadata": {},
   "outputs": [
    {
     "data": {
      "text/plain": [
       "array([[[-1.,  2.],\n",
       "        [ 3.,  4.]],\n",
       "\n",
       "       [[-5.,  6.],\n",
       "        [ 7.,  8.]]])"
      ]
     },
     "execution_count": 18,
     "metadata": {},
     "output_type": "execute_result"
    }
   ],
   "source": [
    "mat = np.array([[[-1.0, 2], [3, 4]], [[-5, 6],  [7, 8]]])\n",
    "mat"
   ]
  },
  {
   "cell_type": "code",
   "execution_count": 19,
   "id": "876e8f1b-3e1f-42cb-96ec-162df81bc6f2",
   "metadata": {},
   "outputs": [
    {
     "data": {
      "text/plain": [
       "array([[[0., 0.],\n",
       "        [0., 0.]],\n",
       "\n",
       "       [[0., 0.],\n",
       "        [0., 0.]]])"
      ]
     },
     "execution_count": 19,
     "metadata": {},
     "output_type": "execute_result"
    }
   ],
   "source": [
    "matlike = np.zeros_like(mat)\n",
    "matlike"
   ]
  },
  {
   "cell_type": "code",
   "execution_count": 20,
   "id": "3e603b38-c434-4d9c-b2d4-fc5fd803f227",
   "metadata": {},
   "outputs": [
    {
     "name": "stdout",
     "output_type": "stream",
     "text": [
      "(2, 2, 2)\n"
     ]
    }
   ],
   "source": [
    "print(mat.shape)"
   ]
  },
  {
   "cell_type": "code",
   "execution_count": 21,
   "id": "6d4327b2-ef4d-410c-9666-6a6542de3f81",
   "metadata": {},
   "outputs": [
    {
     "name": "stdout",
     "output_type": "stream",
     "text": [
      "float64\n"
     ]
    }
   ],
   "source": [
    "print(mat.dtype)"
   ]
  },
  {
   "cell_type": "code",
   "execution_count": 27,
   "id": "f691b10f-57af-4e21-b172-fd3b1447e402",
   "metadata": {},
   "outputs": [
    {
     "data": {
      "text/plain": [
       "array([[[ -25.,   50.],\n",
       "        [  75.,  100.]],\n",
       "\n",
       "       [[-125.,  150.],\n",
       "        [ 175.,  200.]]])"
      ]
     },
     "execution_count": 27,
     "metadata": {},
     "output_type": "execute_result"
    }
   ],
   "source": [
    "mat *25"
   ]
  },
  {
   "cell_type": "code",
   "execution_count": 2,
   "id": "24621c64-4400-42ad-850e-7cdbdfe93096",
   "metadata": {},
   "outputs": [
    {
     "data": {
      "text/html": [
       "<div>\n",
       "<style scoped>\n",
       "    .dataframe tbody tr th:only-of-type {\n",
       "        vertical-align: middle;\n",
       "    }\n",
       "\n",
       "    .dataframe tbody tr th {\n",
       "        vertical-align: top;\n",
       "    }\n",
       "\n",
       "    .dataframe thead th {\n",
       "        text-align: right;\n",
       "    }\n",
       "</style>\n",
       "<table border=\"1\" class=\"dataframe\">\n",
       "  <thead>\n",
       "    <tr style=\"text-align: right;\">\n",
       "      <th></th>\n",
       "      <th>Year</th>\n",
       "      <th>Name</th>\n",
       "      <th>Roll No</th>\n",
       "      <th>Marks</th>\n",
       "      <th>Age</th>\n",
       "    </tr>\n",
       "  </thead>\n",
       "  <tbody>\n",
       "    <tr>\n",
       "      <th>0</th>\n",
       "      <td>1</td>\n",
       "      <td>Rani</td>\n",
       "      <td>23</td>\n",
       "      <td>70</td>\n",
       "      <td>18</td>\n",
       "    </tr>\n",
       "    <tr>\n",
       "      <th>1</th>\n",
       "      <td>2</td>\n",
       "      <td>Rita</td>\n",
       "      <td>24</td>\n",
       "      <td>75</td>\n",
       "      <td>20</td>\n",
       "    </tr>\n",
       "    <tr>\n",
       "      <th>2</th>\n",
       "      <td>3</td>\n",
       "      <td>Raj</td>\n",
       "      <td>25</td>\n",
       "      <td>80</td>\n",
       "      <td>22</td>\n",
       "    </tr>\n",
       "    <tr>\n",
       "      <th>3</th>\n",
       "      <td>1</td>\n",
       "      <td>Rahul</td>\n",
       "      <td>26</td>\n",
       "      <td>65</td>\n",
       "      <td>25</td>\n",
       "    </tr>\n",
       "    <tr>\n",
       "      <th>4</th>\n",
       "      <td>2</td>\n",
       "      <td>Rohit</td>\n",
       "      <td>27</td>\n",
       "      <td>80</td>\n",
       "      <td>28</td>\n",
       "    </tr>\n",
       "  </tbody>\n",
       "</table>\n",
       "</div>"
      ],
      "text/plain": [
       "   Year   Name  Roll No  Marks  Age\n",
       "0     1   Rani       23     70   18\n",
       "1     2   Rita       24     75   20\n",
       "2     3    Raj       25     80   22\n",
       "3     1  Rahul       26     65   25\n",
       "4     2  Rohit       27     80   28"
      ]
     },
     "execution_count": 2,
     "metadata": {},
     "output_type": "execute_result"
    }
   ],
   "source": [
    "import pandas as pd\n",
    "student = pd.read_csv(\"question.csv\")\n",
    "student"
   ]
  },
  {
   "cell_type": "code",
   "execution_count": 3,
   "id": "c4239c16-50bf-47ab-a7df-04faaabb689f",
   "metadata": {},
   "outputs": [
    {
     "data": {
      "text/html": [
       "<div>\n",
       "<style scoped>\n",
       "    .dataframe tbody tr th:only-of-type {\n",
       "        vertical-align: middle;\n",
       "    }\n",
       "\n",
       "    .dataframe tbody tr th {\n",
       "        vertical-align: top;\n",
       "    }\n",
       "\n",
       "    .dataframe thead th {\n",
       "        text-align: right;\n",
       "    }\n",
       "</style>\n",
       "<table border=\"1\" class=\"dataframe\">\n",
       "  <thead>\n",
       "    <tr style=\"text-align: right;\">\n",
       "      <th></th>\n",
       "      <th>Roll No</th>\n",
       "      <th>Name</th>\n",
       "    </tr>\n",
       "  </thead>\n",
       "  <tbody>\n",
       "    <tr>\n",
       "      <th>2</th>\n",
       "      <td>25</td>\n",
       "      <td>Raj</td>\n",
       "    </tr>\n",
       "    <tr>\n",
       "      <th>3</th>\n",
       "      <td>26</td>\n",
       "      <td>Rahul</td>\n",
       "    </tr>\n",
       "  </tbody>\n",
       "</table>\n",
       "</div>"
      ],
      "text/plain": [
       "   Roll No   Name\n",
       "2       25    Raj\n",
       "3       26  Rahul"
      ]
     },
     "execution_count": 3,
     "metadata": {},
     "output_type": "execute_result"
    }
   ],
   "source": [
    "student[['Roll No', 'Name']][2:4]"
   ]
  },
  {
   "cell_type": "code",
   "execution_count": 4,
   "id": "dc660a35-e3b6-4a74-9dda-d1121fe1a10c",
   "metadata": {},
   "outputs": [
    {
     "data": {
      "text/html": [
       "<div>\n",
       "<style scoped>\n",
       "    .dataframe tbody tr th:only-of-type {\n",
       "        vertical-align: middle;\n",
       "    }\n",
       "\n",
       "    .dataframe tbody tr th {\n",
       "        vertical-align: top;\n",
       "    }\n",
       "\n",
       "    .dataframe thead th {\n",
       "        text-align: right;\n",
       "    }\n",
       "</style>\n",
       "<table border=\"1\" class=\"dataframe\">\n",
       "  <thead>\n",
       "    <tr style=\"text-align: right;\">\n",
       "      <th></th>\n",
       "      <th>Year</th>\n",
       "      <th>Name</th>\n",
       "      <th>Roll No</th>\n",
       "      <th>Marks</th>\n",
       "      <th>Age</th>\n",
       "    </tr>\n",
       "  </thead>\n",
       "  <tbody>\n",
       "    <tr>\n",
       "      <th>2</th>\n",
       "      <td>3</td>\n",
       "      <td>Raj</td>\n",
       "      <td>25</td>\n",
       "      <td>80</td>\n",
       "      <td>22</td>\n",
       "    </tr>\n",
       "    <tr>\n",
       "      <th>3</th>\n",
       "      <td>1</td>\n",
       "      <td>Rahul</td>\n",
       "      <td>26</td>\n",
       "      <td>65</td>\n",
       "      <td>25</td>\n",
       "    </tr>\n",
       "    <tr>\n",
       "      <th>4</th>\n",
       "      <td>2</td>\n",
       "      <td>Rohit</td>\n",
       "      <td>27</td>\n",
       "      <td>80</td>\n",
       "      <td>28</td>\n",
       "    </tr>\n",
       "  </tbody>\n",
       "</table>\n",
       "</div>"
      ],
      "text/plain": [
       "   Year   Name  Roll No  Marks  Age\n",
       "2     3    Raj       25     80   22\n",
       "3     1  Rahul       26     65   25\n",
       "4     2  Rohit       27     80   28"
      ]
     },
     "execution_count": 4,
     "metadata": {},
     "output_type": "execute_result"
    }
   ],
   "source": [
    "student[student['Age'] > 20]"
   ]
  },
  {
   "cell_type": "code",
   "execution_count": 5,
   "id": "6e623c35-6bc9-459f-b107-0e7e795ddd72",
   "metadata": {},
   "outputs": [
    {
     "data": {
      "text/plain": [
       "2      Raj\n",
       "3    Rahul\n",
       "4    Rohit\n",
       "Name: Name, dtype: object"
      ]
     },
     "execution_count": 5,
     "metadata": {},
     "output_type": "execute_result"
    }
   ],
   "source": [
    "student[student['Age'] > 20]['Name']"
   ]
  },
  {
   "cell_type": "code",
   "execution_count": 10,
   "id": "e478d088-9aae-4234-9d18-01a4c655adf5",
   "metadata": {},
   "outputs": [
    {
     "data": {
      "text/html": [
       "<div>\n",
       "<style scoped>\n",
       "    .dataframe tbody tr th:only-of-type {\n",
       "        vertical-align: middle;\n",
       "    }\n",
       "\n",
       "    .dataframe tbody tr th {\n",
       "        vertical-align: top;\n",
       "    }\n",
       "\n",
       "    .dataframe thead th {\n",
       "        text-align: right;\n",
       "    }\n",
       "</style>\n",
       "<table border=\"1\" class=\"dataframe\">\n",
       "  <thead>\n",
       "    <tr style=\"text-align: right;\">\n",
       "      <th></th>\n",
       "      <th>Year</th>\n",
       "      <th>Name</th>\n",
       "      <th>Roll No</th>\n",
       "      <th>Marks</th>\n",
       "      <th>Age</th>\n",
       "    </tr>\n",
       "  </thead>\n",
       "  <tbody>\n",
       "    <tr>\n",
       "      <th>1</th>\n",
       "      <td>2</td>\n",
       "      <td>Rita</td>\n",
       "      <td>24</td>\n",
       "      <td>75</td>\n",
       "      <td>20</td>\n",
       "    </tr>\n",
       "    <tr>\n",
       "      <th>2</th>\n",
       "      <td>3</td>\n",
       "      <td>Raj</td>\n",
       "      <td>25</td>\n",
       "      <td>80</td>\n",
       "      <td>22</td>\n",
       "    </tr>\n",
       "    <tr>\n",
       "      <th>4</th>\n",
       "      <td>2</td>\n",
       "      <td>Rohit</td>\n",
       "      <td>27</td>\n",
       "      <td>80</td>\n",
       "      <td>28</td>\n",
       "    </tr>\n",
       "  </tbody>\n",
       "</table>\n",
       "</div>"
      ],
      "text/plain": [
       "   Year   Name  Roll No  Marks  Age\n",
       "1     2   Rita       24     75   20\n",
       "2     3    Raj       25     80   22\n",
       "4     2  Rohit       27     80   28"
      ]
     },
     "execution_count": 10,
     "metadata": {},
     "output_type": "execute_result"
    }
   ],
   "source": [
    "import numpy as np\n",
    "avg_marks = np.mean(student.Marks)\n",
    "student[student['Marks'] > avg_marks]"
   ]
  },
  {
   "cell_type": "code",
   "execution_count": 12,
   "id": "fcf55789-44c1-4b07-b23c-5b13951c42a3",
   "metadata": {},
   "outputs": [
    {
     "data": {
      "text/plain": [
       "np.float64(67.5)"
      ]
     },
     "execution_count": 12,
     "metadata": {},
     "output_type": "execute_result"
    }
   ],
   "source": [
    "first = student[student['Year'] == 1][\"Marks\"]\n",
    "np.mean(first)"
   ]
  },
  {
   "cell_type": "code",
   "execution_count": 16,
   "id": "e2aa8175-374f-4204-a827-9c897fa705c4",
   "metadata": {},
   "outputs": [
    {
     "name": "stdout",
     "output_type": "stream",
     "text": [
      "7\n"
     ]
    }
   ],
   "source": [
    "arr = np.array([89, 54, 76, 32, 47, 21, 92, 39, 82])\n",
    "arr1 = arr[5:9]\n",
    "arr2 = arr[5:9].copy()\n",
    "arr1 = 36\n",
    "arr2 = 7\n",
    "print(arr2)"
   ]
  },
  {
   "cell_type": "code",
   "execution_count": 21,
   "id": "f4a40d7b-22dc-4c72-b3c9-f37603fd807d",
   "metadata": {},
   "outputs": [
    {
     "data": {
      "text/plain": [
       "0      6.0\n",
       "1      2.5\n",
       "2      7.0\n",
       "3      2.5\n",
       "4      8.5\n",
       "5     10.5\n",
       "6      1.0\n",
       "7      8.5\n",
       "8      4.0\n",
       "9      5.0\n",
       "10    10.5\n",
       "dtype: float64"
      ]
     },
     "execution_count": 21,
     "metadata": {},
     "output_type": "execute_result"
    }
   ],
   "source": [
    "a =pd.Series([4,1,7,1,8,9,0,8,2,3,9])\n",
    "a.rank()"
   ]
  },
  {
   "cell_type": "code",
   "execution_count": 18,
   "id": "abef38e1-d218-4ed3-91a5-675f14549dba",
   "metadata": {},
   "outputs": [
    {
     "data": {
      "text/plain": [
       "0      6.0\n",
       "1      2.0\n",
       "2      7.0\n",
       "3      3.0\n",
       "4      8.0\n",
       "5     10.0\n",
       "6      1.0\n",
       "7      9.0\n",
       "8      4.0\n",
       "9      5.0\n",
       "10    11.0\n",
       "dtype: float64"
      ]
     },
     "execution_count": 18,
     "metadata": {},
     "output_type": "execute_result"
    }
   ],
   "source": [
    "a.rank(method = 'first')"
   ]
  },
  {
   "cell_type": "code",
   "execution_count": 19,
   "id": "7e6695c2-9994-4649-824a-5947fa446e28",
   "metadata": {},
   "outputs": [
    {
     "data": {
      "text/plain": [
       "0      6.0\n",
       "1      9.5\n",
       "2      5.0\n",
       "3      9.5\n",
       "4      3.5\n",
       "5      1.5\n",
       "6     11.0\n",
       "7      3.5\n",
       "8      8.0\n",
       "9      7.0\n",
       "10     1.5\n",
       "dtype: float64"
      ]
     },
     "execution_count": 19,
     "metadata": {},
     "output_type": "execute_result"
    }
   ],
   "source": [
    "a.rank(ascending = False)"
   ]
  },
  {
   "cell_type": "code",
   "execution_count": 2,
   "id": "a95445bb-4e0e-4d24-8b8f-20553f73e091",
   "metadata": {},
   "outputs": [
    {
     "data": {
      "text/html": [
       "<div>\n",
       "<style scoped>\n",
       "    .dataframe tbody tr th:only-of-type {\n",
       "        vertical-align: middle;\n",
       "    }\n",
       "\n",
       "    .dataframe tbody tr th {\n",
       "        vertical-align: top;\n",
       "    }\n",
       "\n",
       "    .dataframe thead th {\n",
       "        text-align: right;\n",
       "    }\n",
       "</style>\n",
       "<table border=\"1\" class=\"dataframe\">\n",
       "  <thead>\n",
       "    <tr style=\"text-align: right;\">\n",
       "      <th></th>\n",
       "      <th>Name</th>\n",
       "      <th>Age</th>\n",
       "    </tr>\n",
       "  </thead>\n",
       "  <tbody>\n",
       "    <tr>\n",
       "      <th>0</th>\n",
       "      <td>Sangeeta</td>\n",
       "      <td>18</td>\n",
       "    </tr>\n",
       "    <tr>\n",
       "      <th>1</th>\n",
       "      <td>Sarika</td>\n",
       "      <td>30</td>\n",
       "    </tr>\n",
       "    <tr>\n",
       "      <th>2</th>\n",
       "      <td>Sangeeta</td>\n",
       "      <td>45</td>\n",
       "    </tr>\n",
       "    <tr>\n",
       "      <th>3</th>\n",
       "      <td>Babita</td>\n",
       "      <td>50</td>\n",
       "    </tr>\n",
       "    <tr>\n",
       "      <th>4</th>\n",
       "      <td>Sarika</td>\n",
       "      <td>32</td>\n",
       "    </tr>\n",
       "  </tbody>\n",
       "</table>\n",
       "</div>"
      ],
      "text/plain": [
       "       Name  Age\n",
       "0  Sangeeta   18\n",
       "1    Sarika   30\n",
       "2  Sangeeta   45\n",
       "3    Babita   50\n",
       "4    Sarika   32"
      ]
     },
     "execution_count": 2,
     "metadata": {},
     "output_type": "execute_result"
    }
   ],
   "source": [
    "import pandas as pd \n",
    "import numpy as np\n",
    "employee_data = {\n",
    "    \"Name\" : [\"Sangeeta\", \"Sarika\", \"Sangeeta\", \"Babita\", \"Sarika\"], \n",
    "    \"Age\" : [18, 30, 45, 50, 32]\n",
    "}\n",
    "df = pd.DataFrame(employee_data)\n",
    "df"
   ]
  },
  {
   "cell_type": "code",
   "execution_count": 10,
   "id": "57700318-13f8-4792-8b7c-0ee1ab53862c",
   "metadata": {},
   "outputs": [
    {
     "data": {
      "text/plain": [
       "3"
      ]
     },
     "execution_count": 10,
     "metadata": {},
     "output_type": "execute_result"
    }
   ],
   "source": [
    "distinct_names = df[\"Name\"].unique()\n",
    "len(distinct_names)"
   ]
  },
  {
   "cell_type": "code",
   "execution_count": 13,
   "id": "a4f33535-035f-468c-a7ca-3f5d355cdb5f",
   "metadata": {},
   "outputs": [
    {
     "data": {
      "text/plain": [
       "np.float64(31.5)"
      ]
     },
     "execution_count": 13,
     "metadata": {},
     "output_type": "execute_result"
    }
   ],
   "source": [
    "average_age_of_sangeeta_name = df[df[\"Name\"] == \"Sangeeta\"][\"Age\"].mean() \n",
    "average_age_of_sangeeta_name"
   ]
  },
  {
   "cell_type": "code",
   "execution_count": 18,
   "id": "323451f8-20d6-4153-bfa1-1ae701dc2078",
   "metadata": {},
   "outputs": [
    {
     "data": {
      "text/html": [
       "<div>\n",
       "<style scoped>\n",
       "    .dataframe tbody tr th:only-of-type {\n",
       "        vertical-align: middle;\n",
       "    }\n",
       "\n",
       "    .dataframe tbody tr th {\n",
       "        vertical-align: top;\n",
       "    }\n",
       "\n",
       "    .dataframe thead th {\n",
       "        text-align: right;\n",
       "    }\n",
       "</style>\n",
       "<table border=\"1\" class=\"dataframe\">\n",
       "  <thead>\n",
       "    <tr style=\"text-align: right;\">\n",
       "      <th></th>\n",
       "      <th>Roll No</th>\n",
       "      <th>Name</th>\n",
       "    </tr>\n",
       "  </thead>\n",
       "  <tbody>\n",
       "    <tr>\n",
       "      <th>0</th>\n",
       "      <td>1</td>\n",
       "      <td>Abhav</td>\n",
       "    </tr>\n",
       "    <tr>\n",
       "      <th>1</th>\n",
       "      <td>2</td>\n",
       "      <td>Vihaan</td>\n",
       "    </tr>\n",
       "    <tr>\n",
       "      <th>2</th>\n",
       "      <td>3</td>\n",
       "      <td>Chitra</td>\n",
       "    </tr>\n",
       "    <tr>\n",
       "      <th>3</th>\n",
       "      <td>4</td>\n",
       "      <td>Devansh</td>\n",
       "    </tr>\n",
       "  </tbody>\n",
       "</table>\n",
       "</div>"
      ],
      "text/plain": [
       "   Roll No     Name\n",
       "0        1    Abhav\n",
       "1        2   Vihaan\n",
       "2        3   Chitra\n",
       "3        4  Devansh"
      ]
     },
     "execution_count": 18,
     "metadata": {},
     "output_type": "execute_result"
    }
   ],
   "source": [
    "section1_data = {\n",
    "    \"Roll No\" : [1, 2, 3, 4], \n",
    "    \"Name\" : [\"Abhav\", \"Vihaan\", \"Chitra\", \"Devansh\"]\n",
    "}\n",
    "\n",
    "section2_data = {\n",
    "    \"Roll No\" : [1, 5, 3, 2],\n",
    "    \"Name\" : [\"Roni\", \"Kabeer\", \"Ishani\", \"Vihaan\"]\n",
    "}\n",
    "\n",
    "section1 = pd.DataFrame(section1_data)\n",
    "section2 = pd.DataFrame(section2_data)\n",
    "section1"
   ]
  },
  {
   "cell_type": "code",
   "execution_count": 20,
   "id": "99b2a5b6-c4ca-4157-ac31-562985716b79",
   "metadata": {},
   "outputs": [
    {
     "data": {
      "text/html": [
       "<div>\n",
       "<style scoped>\n",
       "    .dataframe tbody tr th:only-of-type {\n",
       "        vertical-align: middle;\n",
       "    }\n",
       "\n",
       "    .dataframe tbody tr th {\n",
       "        vertical-align: top;\n",
       "    }\n",
       "\n",
       "    .dataframe thead th {\n",
       "        text-align: right;\n",
       "    }\n",
       "</style>\n",
       "<table border=\"1\" class=\"dataframe\">\n",
       "  <thead>\n",
       "    <tr style=\"text-align: right;\">\n",
       "      <th></th>\n",
       "      <th>0</th>\n",
       "      <th>1</th>\n",
       "      <th>2</th>\n",
       "      <th>3</th>\n",
       "    </tr>\n",
       "  </thead>\n",
       "  <tbody>\n",
       "    <tr>\n",
       "      <th>Name</th>\n",
       "      <td>False</td>\n",
       "      <td>False</td>\n",
       "      <td>False</td>\n",
       "      <td>False</td>\n",
       "    </tr>\n",
       "  </tbody>\n",
       "</table>\n",
       "</div>"
      ],
      "text/plain": [
       "          0      1      2      3\n",
       "Name  False  False  False  False"
      ]
     },
     "execution_count": 20,
     "metadata": {},
     "output_type": "execute_result"
    }
   ],
   "source": [
    "[section1[\"Name\"] == section2[\"Name\"]]\n",
    "df = pd.DataFrame([section1[\"Name\"] == section2[\"Name\"]])\n",
    "df"
   ]
  },
  {
   "cell_type": "code",
   "execution_count": 36,
   "id": "aa77f15a-2e38-4637-9286-4ea3cb7d40d6",
   "metadata": {},
   "outputs": [
    {
     "name": "stdout",
     "output_type": "stream",
     "text": [
      "(4, 3)\n"
     ]
    }
   ],
   "source": [
    "import numpy as np\n",
    "a1 = np.zeros((2, 3))\n",
    "a2 = [[3, 4, 5], [7, 8, 9]]\n",
    "al = np.append(a1, a2, axis=0)\n",
    "print(al)"
   ]
  },
  {
   "cell_type": "code",
   "execution_count": 37,
   "id": "2ec3dc88-c149-489a-a59f-ae39823dd6f5",
   "metadata": {},
   "outputs": [
    {
     "data": {
      "text/plain": [
       "array([20000, 10000,  2000,  4500,  6000,  4800, 50000,  4000,  8000,\n",
       "       30000])"
      ]
     },
     "execution_count": 37,
     "metadata": {},
     "output_type": "execute_result"
    }
   ],
   "source": [
    "empSalary = [20000, 10000, 2000, 4500, 6000, 4800, 50000, 4000, 8000, 30000]\n",
    "arr = np.array(empSalary)\n",
    "arr"
   ]
  },
  {
   "cell_type": "code",
   "execution_count": 41,
   "id": "78240b50-36d1-495c-8cc0-2eb391573c76",
   "metadata": {},
   "outputs": [
    {
     "data": {
      "text/plain": [
       "6"
      ]
     },
     "execution_count": 41,
     "metadata": {},
     "output_type": "execute_result"
    }
   ],
   "source": [
    "poorSalary = arr[arr > 5000]\n",
    "len(poorSalary)"
   ]
  },
  {
   "cell_type": "code",
   "execution_count": 50,
   "id": "44a8116f-c9a1-4442-9524-864f79e74d18",
   "metadata": {},
   "outputs": [
    {
     "data": {
      "text/plain": [
       "array([2000., 1000.,  200.,  450.,  600.,  480., 5000.,  400.,  800.,\n",
       "       3000.])"
      ]
     },
     "execution_count": 50,
     "metadata": {},
     "output_type": "execute_result"
    }
   ],
   "source": [
    "incentives = arr * 0.1\n",
    "incentives"
   ]
  },
  {
   "cell_type": "code",
   "execution_count": 47,
   "id": "38f0e4fc-c86d-45d8-a10e-de29df9026f0",
   "metadata": {},
   "outputs": [
    {
     "data": {
      "text/plain": [
       "array([2000., 1000.,  200.,  450.,  600.,  480., 5000.,  400.,  800.,\n",
       "       3000.])"
      ]
     },
     "execution_count": 47,
     "metadata": {},
     "output_type": "execute_result"
    }
   ],
   "source": [
    "incentives"
   ]
  },
  {
   "cell_type": "code",
   "execution_count": 51,
   "id": "5960964a-8b9e-48e4-842a-e7d4d0bd7793",
   "metadata": {},
   "outputs": [
    {
     "data": {
      "text/html": [
       "<div>\n",
       "<style scoped>\n",
       "    .dataframe tbody tr th:only-of-type {\n",
       "        vertical-align: middle;\n",
       "    }\n",
       "\n",
       "    .dataframe tbody tr th {\n",
       "        vertical-align: top;\n",
       "    }\n",
       "\n",
       "    .dataframe thead th {\n",
       "        text-align: right;\n",
       "    }\n",
       "</style>\n",
       "<table border=\"1\" class=\"dataframe\">\n",
       "  <thead>\n",
       "    <tr style=\"text-align: right;\">\n",
       "      <th></th>\n",
       "      <th>Name</th>\n",
       "      <th>Hours_studied</th>\n",
       "      <th>Marks_obtained</th>\n",
       "    </tr>\n",
       "  </thead>\n",
       "  <tbody>\n",
       "    <tr>\n",
       "      <th>0</th>\n",
       "      <td>Mohan</td>\n",
       "      <td>2.5</td>\n",
       "      <td>40</td>\n",
       "    </tr>\n",
       "    <tr>\n",
       "      <th>1</th>\n",
       "      <td>Sohan</td>\n",
       "      <td>4.0</td>\n",
       "      <td>52</td>\n",
       "    </tr>\n",
       "    <tr>\n",
       "      <th>2</th>\n",
       "      <td>Rajeev</td>\n",
       "      <td>6.0</td>\n",
       "      <td>64</td>\n",
       "    </tr>\n",
       "    <tr>\n",
       "      <th>3</th>\n",
       "      <td>Jeevan</td>\n",
       "      <td>8.0</td>\n",
       "      <td>70</td>\n",
       "    </tr>\n",
       "    <tr>\n",
       "      <th>4</th>\n",
       "      <td>Gita</td>\n",
       "      <td>10.0</td>\n",
       "      <td>90</td>\n",
       "    </tr>\n",
       "    <tr>\n",
       "      <th>5</th>\n",
       "      <td>Meenu</td>\n",
       "      <td>1.0</td>\n",
       "      <td>10</td>\n",
       "    </tr>\n",
       "    <tr>\n",
       "      <th>6</th>\n",
       "      <td>Gopal</td>\n",
       "      <td>5.0</td>\n",
       "      <td>60</td>\n",
       "    </tr>\n",
       "  </tbody>\n",
       "</table>\n",
       "</div>"
      ],
      "text/plain": [
       "     Name  Hours_studied  Marks_obtained\n",
       "0   Mohan            2.5              40\n",
       "1   Sohan            4.0              52\n",
       "2  Rajeev            6.0              64\n",
       "3  Jeevan            8.0              70\n",
       "4    Gita           10.0              90\n",
       "5   Meenu            1.0              10\n",
       "6   Gopal            5.0              60"
      ]
     },
     "execution_count": 51,
     "metadata": {},
     "output_type": "execute_result"
    }
   ],
   "source": [
    "students = {\n",
    "    \"Name\" : [\"Mohan\", \"Sohan\", \"Rajeev\", \"Jeevan\", \"Gita\", \"Meenu\", \"Gopal\"], \n",
    "    \"Hours_studied\" : [2.5, 4.0, 6.0, 8.0, 10.0, 1.0, 5.0],\n",
    "    \"Marks_obtained\" : [40, 52, 64, 70, 90, 10, 60]\n",
    " }\n",
    "df_student = pd.DataFrame(students)\n",
    "df_student"
   ]
  },
  {
   "cell_type": "code",
   "execution_count": 57,
   "id": "43f52df8-2090-4497-a08a-4bb871145071",
   "metadata": {},
   "outputs": [
    {
     "data": {
      "text/plain": [
       "4    Gita\n",
       "Name: Name, dtype: object"
      ]
     },
     "execution_count": 57,
     "metadata": {},
     "output_type": "execute_result"
    }
   ],
   "source": [
    "topper = [df_student[\"Marks_obtained\"].max()]\n",
    "topper_name = df_student[df_student[\"Marks_obtained\"] == 90].Name\n",
    "topper_name"
   ]
  },
  {
   "cell_type": "code",
   "execution_count": null,
   "id": "0ed9309c-8e2c-4b8a-aaed-5385a8fbe1fe",
   "metadata": {},
   "outputs": [],
   "source": [
    "mean_hours_"
   ]
  }
 ],
 "metadata": {
  "kernelspec": {
   "display_name": "Python 3.13",
   "language": "python",
   "name": "python313"
  },
  "language_info": {
   "codemirror_mode": {
    "name": "ipython",
    "version": 3
   },
   "file_extension": ".py",
   "mimetype": "text/x-python",
   "name": "python",
   "nbconvert_exporter": "python",
   "pygments_lexer": "ipython3",
   "version": "3.13.1"
  }
 },
 "nbformat": 4,
 "nbformat_minor": 5
}
