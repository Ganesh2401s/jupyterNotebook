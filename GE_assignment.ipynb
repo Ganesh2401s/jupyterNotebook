{
 "cells": [
  {
   "cell_type": "code",
   "execution_count": 6,
   "id": "7ed5df0e-6d48-437f-a57f-c8150301f198",
   "metadata": {},
   "outputs": [],
   "source": [
    "import numpy as np \n",
    "import pandas as pd\n",
    "import matplotlib.pyplot as plt\n",
    "\n",
    "first_data = {\n",
    "    \"One\" : [0, 2, 5, 6],\n",
    "    \"Two\" : [\"A\", \"B\", \"D\", \"C\"]\n",
    "}\n",
    "\n",
    "second_data = {\n",
    "    \"One\" : [0, 1, 5, 2],\n",
    "    \"Two\" : [\"B\", \"C\", \"E\", \"A\"]\n",
    "}\n",
    "\n",
    "first = pd.DataFrame(first_data)\n",
    "second = pd.DataFrame(second_data)\n",
    "\n",
    "right = pd.merge(first, second, how='right', on='One')\n",
    "left = pd.merge(first, second, how='inner', on='Two')\n",
    "\n"
   ]
  },
  {
   "cell_type": "code",
   "execution_count": 10,
   "id": "d3916226-92dc-4d0f-a1ad-e39aaab478ef",
   "metadata": {},
   "outputs": [
    {
     "name": "stdout",
     "output_type": "stream",
     "text": [
      "[[ 0  1  2]\n",
      " [ 3  4  5]\n",
      " [ 6  7  8]\n",
      " [ 9 10 11]]\n"
     ]
    }
   ],
   "source": [
    "y = np.arange(12).reshape(4, 3)\n",
    "print(y)"
   ]
  },
  {
   "cell_type": "code",
   "execution_count": 11,
   "id": "0693c91e-7e4f-4b8f-b865-a24dba279171",
   "metadata": {},
   "outputs": [
    {
     "name": "stdout",
     "output_type": "stream",
     "text": [
      "[[ 0  1  2]\n",
      " [ 3  4  5]\n",
      " [-1 -1 -1]\n",
      " [-1 -1 -1]]\n"
     ]
    }
   ],
   "source": [
    "y[(y > 5)] = -1\n",
    "print(y)"
   ]
  },
  {
   "cell_type": "code",
   "execution_count": 16,
   "id": "0c0ec507-7a5f-4003-99d0-2b9ebba9c193",
   "metadata": {},
   "outputs": [
    {
     "name": "stdout",
     "output_type": "stream",
     "text": [
      "[[1 1]\n",
      " [1 1]]\n"
     ]
    }
   ],
   "source": [
    "x = np.array([[2, 4], [5, 1]])\n",
    "z = np.ones_like(x)\n",
    "print(z)"
   ]
  },
  {
   "cell_type": "code",
   "execution_count": 29,
   "id": "9f67abbd-0f37-44d3-b9e4-e0ab2b679e5b",
   "metadata": {},
   "outputs": [
    {
     "name": "stdout",
     "output_type": "stream",
     "text": [
      "[[2. 0.]\n",
      " [0. 1.]]\n"
     ]
    }
   ],
   "source": [
    "w = np.eye(2) * x\n",
    "print(w)"
   ]
  },
  {
   "cell_type": "code",
   "execution_count": 27,
   "id": "1e98f2bb-f8c6-48d6-8f98-7af78920f34e",
   "metadata": {},
   "outputs": [
    {
     "data": {
      "text/plain": [
       "array([[2, 4],\n",
       "       [5, 1]])"
      ]
     },
     "execution_count": 27,
     "metadata": {},
     "output_type": "execute_result"
    }
   ],
   "source": [
    "x"
   ]
  },
  {
   "cell_type": "code",
   "execution_count": 37,
   "id": "cad28544-e1a5-4221-add0-ff244dbe925f",
   "metadata": {},
   "outputs": [
    {
     "data": {
      "text/plain": [
       "A    5\n",
       "B    6\n",
       "D    7\n",
       "E    8\n",
       "Name: S2, dtype: int64"
      ]
     },
     "execution_count": 37,
     "metadata": {},
     "output_type": "execute_result"
    }
   ],
   "source": [
    "import pandas as pd\n",
    "import numpy as np\n",
    "\n",
    "series1 = {\n",
    "    \"A\" : 1, \n",
    "    \"B\" : 2, \n",
    "    \"C\" : 3, \n",
    "    \"D\" : 4 \n",
    "}\n",
    "\n",
    "series2 = {\n",
    "    \"A\" : 5, \n",
    "    \"B\" : 6, \n",
    "    \"D\" : 7, \n",
    "    \"E\" : 8 \n",
    "}\n",
    "\n",
    "S1 = pd.Series(series1, name=\"S1\")\n",
    "S2 = pd.Series(series2, name=\"S2\")\n",
    "\n",
    "S2\n",
    "\n"
   ]
  },
  {
   "cell_type": "code",
   "execution_count": 38,
   "id": "73b142c0-e296-49b0-bd6f-e3c6857803ef",
   "metadata": {},
   "outputs": [
    {
     "data": {
      "text/plain": [
       "A    10\n",
       "B    20\n",
       "C    30\n",
       "Name: S1, dtype: int64"
      ]
     },
     "execution_count": 38,
     "metadata": {},
     "output_type": "execute_result"
    }
   ],
   "source": [
    "S1[:3] * 10"
   ]
  },
  {
   "cell_type": "code",
   "execution_count": 39,
   "id": "9662fc4f-3ec6-4760-972d-e3312aba82f7",
   "metadata": {},
   "outputs": [
    {
     "data": {
      "text/plain": [
       "A     6.0\n",
       "B     8.0\n",
       "C     NaN\n",
       "D    11.0\n",
       "E     NaN\n",
       "dtype: float64"
      ]
     },
     "execution_count": 39,
     "metadata": {},
     "output_type": "execute_result"
    }
   ],
   "source": [
    "S1 + S2"
   ]
  },
  {
   "cell_type": "code",
   "execution_count": 42,
   "id": "c5a80f3b-70ef-4744-adb8-936c6383d861",
   "metadata": {},
   "outputs": [
    {
     "data": {
      "text/plain": [
       "E    40\n",
       "D    35\n",
       "B    30\n",
       "A    25\n",
       "Name: S2, dtype: int64"
      ]
     },
     "execution_count": 42,
     "metadata": {},
     "output_type": "execute_result"
    }
   ],
   "source": [
    "S2[::-1] * 5"
   ]
  },
  {
   "cell_type": "markdown",
   "id": "f370e812-f199-486c-8c19-27df2993989c",
   "metadata": {},
   "source": [
    "#### 3 (a) Consider the following numpy array matrix:\n",
    "#### [[5, 10, 20],[20, 13, 43],[34, 27, 67],[12, 46, 77]]\n",
    "#### Give the output for following numpy commands:\n",
    "#### (i) matrix.T\n",
    "#### (ii) matrix [:1, 1:]"
   ]
  },
  {
   "cell_type": "code",
   "execution_count": 7,
   "id": "1e9863d1-fc3d-4f4f-96e5-b031e02b6688",
   "metadata": {},
   "outputs": [
    {
     "data": {
      "text/plain": [
       "array([[ 5, 10, 20],\n",
       "       [20, 13, 43],\n",
       "       [34, 27, 67],\n",
       "       [12, 46, 77]])"
      ]
     },
     "execution_count": 7,
     "metadata": {},
     "output_type": "execute_result"
    }
   ],
   "source": [
    "import numpy as np\n",
    "\n",
    "matrix = [[5, 10, 20],[20, 13, 43],[34, 27, 67],[12, 46, 77]]\n",
    "matrix = np.array(matrix)\n",
    "matrix "
   ]
  },
  {
   "cell_type": "code",
   "execution_count": 8,
   "id": "f944930d-f086-4db4-8f86-84251f858876",
   "metadata": {},
   "outputs": [
    {
     "data": {
      "text/plain": [
       "array([[ 5, 20, 34, 12],\n",
       "       [10, 13, 27, 46],\n",
       "       [20, 43, 67, 77]])"
      ]
     },
     "execution_count": 8,
     "metadata": {},
     "output_type": "execute_result"
    }
   ],
   "source": [
    "matrix.T"
   ]
  },
  {
   "cell_type": "code",
   "execution_count": 9,
   "id": "51353058-b2bd-4376-a98e-3cc34964aacf",
   "metadata": {},
   "outputs": [
    {
     "data": {
      "text/plain": [
       "array([[10, 20]])"
      ]
     },
     "execution_count": 9,
     "metadata": {},
     "output_type": "execute_result"
    }
   ],
   "source": [
    "matrix[:1, 1:]  #array([[10, 20]])"
   ]
  },
  {
   "cell_type": "code",
   "execution_count": 11,
   "id": "aabce7d0-9947-4647-8f38-8491a45f3b57",
   "metadata": {},
   "outputs": [
    {
     "data": {
      "text/plain": [
       "array([43, 46,  5])"
      ]
     },
     "execution_count": 11,
     "metadata": {},
     "output_type": "execute_result"
    }
   ],
   "source": [
    "matrix[[1, 3, 0], [2, 1, 0]] # array([43, 46, 5])"
   ]
  },
  {
   "cell_type": "code",
   "execution_count": 12,
   "id": "291804d3-b4f5-4428-b7bc-b4ebdfae4f5c",
   "metadata": {},
   "outputs": [
    {
     "data": {
      "text/plain": [
       "array([[34, 27, 67],\n",
       "       [ 5, 10, 20]])"
      ]
     },
     "execution_count": 12,
     "metadata": {},
     "output_type": "execute_result"
    }
   ],
   "source": [
    "matrix[[-2, -4]] # array([[34, 27, 67],[ 5, 10, 20]])"
   ]
  },
  {
   "cell_type": "code",
   "execution_count": 13,
   "id": "d49460ba-2295-4539-8f1d-cbfd9ecda4e2",
   "metadata": {},
   "outputs": [
    {
     "data": {
      "text/plain": [
       "array([[ 5, 10, 20],\n",
       "       [12, 46, 77]])"
      ]
     },
     "execution_count": 13,
     "metadata": {},
     "output_type": "execute_result"
    }
   ],
   "source": [
    "matrix[[True, False, False, True]]"
   ]
  },
  {
   "cell_type": "code",
   "execution_count": 14,
   "id": "05456acc-9ea7-4b54-8925-3af9ad4a92c8",
   "metadata": {},
   "outputs": [
    {
     "data": {
      "text/plain": [
       "array([12, 46])"
      ]
     },
     "execution_count": 14,
     "metadata": {},
     "output_type": "execute_result"
    }
   ],
   "source": [
    "matrix[3][:2] # array([12, 46])"
   ]
  },
  {
   "cell_type": "code",
   "execution_count": 15,
   "id": "a03e146f-a9c1-4028-8e5c-36869aa21e19",
   "metadata": {},
   "outputs": [
    {
     "data": {
      "text/plain": [
       "array([[12, 46, 77],\n",
       "       [34, 27, 67],\n",
       "       [20, 13, 43],\n",
       "       [ 5, 10, 20]])"
      ]
     },
     "execution_count": 15,
     "metadata": {},
     "output_type": "execute_result"
    }
   ],
   "source": [
    "matrix[::-1]"
   ]
  },
  {
   "cell_type": "code",
   "execution_count": 16,
   "id": "dabb6c81-9f9c-4eb2-a377-f8021b1b6d90",
   "metadata": {},
   "outputs": [
    {
     "data": {
      "text/plain": [
       "2"
      ]
     },
     "execution_count": 16,
     "metadata": {},
     "output_type": "execute_result"
    }
   ],
   "source": [
    "matrix.ndim"
   ]
  },
  {
   "cell_type": "code",
   "execution_count": 17,
   "id": "0ec48979-a1ea-4126-9652-479a9d278899",
   "metadata": {},
   "outputs": [
    {
     "data": {
      "text/plain": [
       "array([[ 5, 20, 34, 12],\n",
       "       [10, 13, 27, 46],\n",
       "       [20, 43, 67, 77]])"
      ]
     },
     "execution_count": 17,
     "metadata": {},
     "output_type": "execute_result"
    }
   ],
   "source": [
    "np.swapaxes(matrix, 1, 0)"
   ]
  },
  {
   "cell_type": "code",
   "execution_count": 18,
   "id": "f7d84203-2a7c-4fee-ad9f-095d101a173c",
   "metadata": {},
   "outputs": [
    {
     "data": {
      "text/plain": [
       "array([[15, 20, 30],\n",
       "       [30, 23, 53],\n",
       "       [44, 37, 77],\n",
       "       [22, 56, 87]])"
      ]
     },
     "execution_count": 18,
     "metadata": {},
     "output_type": "execute_result"
    }
   ],
   "source": [
    "matrix + 10"
   ]
  },
  {
   "cell_type": "code",
   "execution_count": 33,
   "id": "b8d76443-c6ee-4663-a0da-b133b00a6d00",
   "metadata": {},
   "outputs": [
    {
     "data": {
      "text/html": [
       "<div>\n",
       "<style scoped>\n",
       "    .dataframe tbody tr th:only-of-type {\n",
       "        vertical-align: middle;\n",
       "    }\n",
       "\n",
       "    .dataframe tbody tr th {\n",
       "        vertical-align: top;\n",
       "    }\n",
       "\n",
       "    .dataframe thead th {\n",
       "        text-align: right;\n",
       "    }\n",
       "</style>\n",
       "<table border=\"1\" class=\"dataframe\">\n",
       "  <thead>\n",
       "    <tr style=\"text-align: right;\">\n",
       "      <th></th>\n",
       "      <th>One</th>\n",
       "      <th>Two</th>\n",
       "      <th>Three</th>\n",
       "      <th>Four</th>\n",
       "      <th>Five</th>\n",
       "    </tr>\n",
       "  </thead>\n",
       "  <tbody>\n",
       "    <tr>\n",
       "      <th>0</th>\n",
       "      <td>1.0</td>\n",
       "      <td>14</td>\n",
       "      <td>34.0</td>\n",
       "      <td>NaN</td>\n",
       "      <td>NaN</td>\n",
       "    </tr>\n",
       "    <tr>\n",
       "      <th>1</th>\n",
       "      <td>34.0</td>\n",
       "      <td>21</td>\n",
       "      <td>NaN</td>\n",
       "      <td>12.0</td>\n",
       "      <td>NaN</td>\n",
       "    </tr>\n",
       "    <tr>\n",
       "      <th>2</th>\n",
       "      <td>NaN</td>\n",
       "      <td>23</td>\n",
       "      <td>NaN</td>\n",
       "      <td>2.0</td>\n",
       "      <td>NaN</td>\n",
       "    </tr>\n",
       "    <tr>\n",
       "      <th>3</th>\n",
       "      <td>34.0</td>\n",
       "      <td>21</td>\n",
       "      <td>32.0</td>\n",
       "      <td>33.0</td>\n",
       "      <td>NaN</td>\n",
       "    </tr>\n",
       "  </tbody>\n",
       "</table>\n",
       "</div>"
      ],
      "text/plain": [
       "    One  Two  Three  Four  Five\n",
       "0   1.0   14   34.0   NaN   NaN\n",
       "1  34.0   21    NaN  12.0   NaN\n",
       "2   NaN   23    NaN   2.0   NaN\n",
       "3  34.0   21   32.0  33.0   NaN"
      ]
     },
     "execution_count": 33,
     "metadata": {},
     "output_type": "execute_result"
    }
   ],
   "source": [
    "#4a\n",
    "import pandas as pd\n",
    "import numpy as np\n",
    "import matplotlib.pyplot as plt\n",
    "\n",
    "dataframe = {\n",
    "    \"One\": [1, 34, np.nan, 34], \n",
    "    \"Two\" : [14, 21, 23, 21], \n",
    "    \"Three\" : [34,np.nan, np.nan, 32], \n",
    "    \"Four\" : [np.nan, 12, 2, 33], \n",
    "    \"Five\" : [np.nan, np.nan, np.nan, np.nan]\n",
    "}\n",
    "\n",
    "df = pd.DataFrame(dataframe)\n",
    "df"
   ]
  },
  {
   "cell_type": "code",
   "execution_count": 44,
   "id": "07306f36-f58d-480f-a062-7e2b9793bed9",
   "metadata": {},
   "outputs": [
    {
     "name": "stderr",
     "output_type": "stream",
     "text": [
      "C:\\Users\\Ganesh\\AppData\\Local\\Temp\\ipykernel_8920\\919607514.py:1: SettingWithCopyWarning: \n",
      "A value is trying to be set on a copy of a slice from a DataFrame\n",
      "\n",
      "See the caveats in the documentation: https://pandas.pydata.org/pandas-docs/stable/user_guide/indexing.html#returning-a-view-versus-a-copy\n",
      "  df[['One', 'Three', 'Four', 'Five']].dropna(inplace=True)\n"
     ]
    }
   ],
   "source": [
    "df[['One', 'Two', 'Three', 'Four', 'Five']].dropna()"
   ]
  },
  {
   "cell_type": "code",
   "execution_count": 47,
   "id": "5e5b8479-4e0c-4ec4-a881-7bd34cbdf390",
   "metadata": {},
   "outputs": [
    {
     "name": "stderr",
     "output_type": "stream",
     "text": [
      "C:\\Users\\Ganesh\\AppData\\Local\\Temp\\ipykernel_8920\\3312485998.py:2: FutureWarning: A value is trying to be set on a copy of a DataFrame or Series through chained assignment using an inplace method.\n",
      "The behavior will change in pandas 3.0. This inplace method will never work because the intermediate object on which we are setting values always behaves as a copy.\n",
      "\n",
      "For example, when doing 'df[col].method(value, inplace=True)', try using 'df.method({col: value}, inplace=True)' or df[col] = df[col].method(value) instead, to perform the operation inplace on the original object.\n",
      "\n",
      "\n",
      "  df[\"One\"].fillna(mean, inplace=True)\n"
     ]
    },
    {
     "data": {
      "text/html": [
       "<div>\n",
       "<style scoped>\n",
       "    .dataframe tbody tr th:only-of-type {\n",
       "        vertical-align: middle;\n",
       "    }\n",
       "\n",
       "    .dataframe tbody tr th {\n",
       "        vertical-align: top;\n",
       "    }\n",
       "\n",
       "    .dataframe thead th {\n",
       "        text-align: right;\n",
       "    }\n",
       "</style>\n",
       "<table border=\"1\" class=\"dataframe\">\n",
       "  <thead>\n",
       "    <tr style=\"text-align: right;\">\n",
       "      <th></th>\n",
       "      <th>One</th>\n",
       "      <th>Two</th>\n",
       "      <th>Three</th>\n",
       "      <th>Four</th>\n",
       "      <th>Five</th>\n",
       "    </tr>\n",
       "  </thead>\n",
       "  <tbody>\n",
       "    <tr>\n",
       "      <th>0</th>\n",
       "      <td>1.0</td>\n",
       "      <td>14</td>\n",
       "      <td>34.0</td>\n",
       "      <td>NaN</td>\n",
       "      <td>NaN</td>\n",
       "    </tr>\n",
       "    <tr>\n",
       "      <th>1</th>\n",
       "      <td>34.0</td>\n",
       "      <td>21</td>\n",
       "      <td>NaN</td>\n",
       "      <td>12.0</td>\n",
       "      <td>NaN</td>\n",
       "    </tr>\n",
       "    <tr>\n",
       "      <th>2</th>\n",
       "      <td>23.0</td>\n",
       "      <td>23</td>\n",
       "      <td>NaN</td>\n",
       "      <td>2.0</td>\n",
       "      <td>NaN</td>\n",
       "    </tr>\n",
       "    <tr>\n",
       "      <th>3</th>\n",
       "      <td>34.0</td>\n",
       "      <td>21</td>\n",
       "      <td>32.0</td>\n",
       "      <td>33.0</td>\n",
       "      <td>NaN</td>\n",
       "    </tr>\n",
       "  </tbody>\n",
       "</table>\n",
       "</div>"
      ],
      "text/plain": [
       "    One  Two  Three  Four  Five\n",
       "0   1.0   14   34.0   NaN   NaN\n",
       "1  34.0   21    NaN  12.0   NaN\n",
       "2  23.0   23    NaN   2.0   NaN\n",
       "3  34.0   21   32.0  33.0   NaN"
      ]
     },
     "execution_count": 47,
     "metadata": {},
     "output_type": "execute_result"
    }
   ],
   "source": [
    "mean = df[\"One\"].mean()\n",
    "df[\"One\"].fillna(mean, inplace=True)\n",
    "df"
   ]
  },
  {
   "cell_type": "code",
   "execution_count": 48,
   "id": "08991706-9a85-490a-a27d-74676398a255",
   "metadata": {},
   "outputs": [
    {
     "data": {
      "text/plain": [
       "array([[[-1,  2],\n",
       "        [ 3,  4]],\n",
       "\n",
       "       [[-5,  6],\n",
       "        [ 7,  8]]])"
      ]
     },
     "execution_count": 48,
     "metadata": {},
     "output_type": "execute_result"
    }
   ],
   "source": [
    "mat = np.array([[[-1, 2],[3, 4]], [[-5, 6], [7, 8]]])\n",
    "mat"
   ]
  },
  {
   "cell_type": "code",
   "execution_count": 49,
   "id": "53822496-0002-40c2-9d1e-e23201c71f4b",
   "metadata": {},
   "outputs": [
    {
     "data": {
      "text/plain": [
       "array([[[0, 0],\n",
       "        [0, 0]],\n",
       "\n",
       "       [[0, 0],\n",
       "        [0, 0]]])"
      ]
     },
     "execution_count": 49,
     "metadata": {},
     "output_type": "execute_result"
    }
   ],
   "source": [
    "arr1 = np.zeros_like(mat)\n",
    "arr1"
   ]
  },
  {
   "cell_type": "code",
   "execution_count": 50,
   "id": "511b66d7-3dca-46c9-bb2c-94e5045257ee",
   "metadata": {},
   "outputs": [
    {
     "data": {
      "text/plain": [
       "(2, 2, 2)"
      ]
     },
     "execution_count": 50,
     "metadata": {},
     "output_type": "execute_result"
    }
   ],
   "source": [
    "mat.shape"
   ]
  },
  {
   "cell_type": "code",
   "execution_count": 51,
   "id": "f5e2e1d2-6acb-4959-93e0-2c66004d1b84",
   "metadata": {},
   "outputs": [
    {
     "data": {
      "text/plain": [
       "dtype('int64')"
      ]
     },
     "execution_count": 51,
     "metadata": {},
     "output_type": "execute_result"
    }
   ],
   "source": [
    "mat.dtype"
   ]
  },
  {
   "cell_type": "code",
   "execution_count": 52,
   "id": "fbe17ffe-7280-4610-b68d-770145420be4",
   "metadata": {},
   "outputs": [
    {
     "data": {
      "text/plain": [
       "array([7, 8])"
      ]
     },
     "execution_count": 52,
     "metadata": {},
     "output_type": "execute_result"
    }
   ],
   "source": [
    "mat[mat > 6]"
   ]
  },
  {
   "cell_type": "code",
   "execution_count": 57,
   "id": "fac83df3-cb95-41bb-befa-b2c866ccddd9",
   "metadata": {},
   "outputs": [
    {
     "data": {
      "text/plain": [
       "dtype('float64')"
      ]
     },
     "execution_count": 57,
     "metadata": {},
     "output_type": "execute_result"
    }
   ],
   "source": [
    "mat_float = mat.astype(np.float64)  # astype makes new copy of the ndarray\n",
    "mat_float.dtype"
   ]
  },
  {
   "cell_type": "code",
   "execution_count": 58,
   "id": "25070677-4ba3-48d7-b25c-6f35b953d000",
   "metadata": {},
   "outputs": [
    {
     "data": {
      "text/plain": [
       "array([[[ -25,   50],\n",
       "        [  75,  100]],\n",
       "\n",
       "       [[-125,  150],\n",
       "        [ 175,  200]]])"
      ]
     },
     "execution_count": 58,
     "metadata": {},
     "output_type": "execute_result"
    }
   ],
   "source": [
    "mat * 25"
   ]
  },
  {
   "cell_type": "code",
   "execution_count": 61,
   "id": "9a558f7d-c087-40f1-b08b-c6e7ce96f9ec",
   "metadata": {},
   "outputs": [
    {
     "data": {
      "text/html": [
       "<div>\n",
       "<style scoped>\n",
       "    .dataframe tbody tr th:only-of-type {\n",
       "        vertical-align: middle;\n",
       "    }\n",
       "\n",
       "    .dataframe tbody tr th {\n",
       "        vertical-align: top;\n",
       "    }\n",
       "\n",
       "    .dataframe thead th {\n",
       "        text-align: right;\n",
       "    }\n",
       "</style>\n",
       "<table border=\"1\" class=\"dataframe\">\n",
       "  <thead>\n",
       "    <tr style=\"text-align: right;\">\n",
       "      <th></th>\n",
       "      <th>Key</th>\n",
       "      <th>Value</th>\n",
       "    </tr>\n",
       "  </thead>\n",
       "  <tbody>\n",
       "    <tr>\n",
       "      <th>0</th>\n",
       "      <td>A</td>\n",
       "      <td>List of numbers from 1 to 10 skipping 2 at a time</td>\n",
       "    </tr>\n",
       "    <tr>\n",
       "      <th>1</th>\n",
       "      <td>B</td>\n",
       "      <td>List of Strings from A to E</td>\n",
       "    </tr>\n",
       "    <tr>\n",
       "      <th>2</th>\n",
       "      <td>C</td>\n",
       "      <td>List of 5 numbers obtained using random normal...</td>\n",
       "    </tr>\n",
       "    <tr>\n",
       "      <th>3</th>\n",
       "      <td>D</td>\n",
       "      <td>List of  random integers from 20 to 30</td>\n",
       "    </tr>\n",
       "    <tr>\n",
       "      <th>4</th>\n",
       "      <td>E</td>\n",
       "      <td>Square root of 5 random numbers from 50 to 70</td>\n",
       "    </tr>\n",
       "  </tbody>\n",
       "</table>\n",
       "</div>"
      ],
      "text/plain": [
       "  Key                                              Value\n",
       "0   A  List of numbers from 1 to 10 skipping 2 at a time\n",
       "1   B                        List of Strings from A to E\n",
       "2   C  List of 5 numbers obtained using random normal...\n",
       "3   D             List of  random integers from 20 to 30\n",
       "4   E      Square root of 5 random numbers from 50 to 70"
      ]
     },
     "execution_count": 61,
     "metadata": {},
     "output_type": "execute_result"
    }
   ],
   "source": [
    "#5a \n",
    "\n",
    "import numpy as np\n",
    "import pandas as pd\n",
    "import matplotlib.pyplot as plt\n",
    "\n",
    "dict_data = {\n",
    "    \"Key\" : [\"A\", \"B\", \"C\", \"D\", \"E\"], \n",
    "    \"Value\" : [\"List of numbers from 1 to 10 skipping 2 at a time\", \n",
    "              \"List of Strings from A to E\", \n",
    "              \"List of 5 numbers obtained using random normal distribution function\", \n",
    "              \"List of  random integers from 20 to 30\", \n",
    "              \"Square root of 5 random numbers from 50 to 70\"]\n",
    "}\n",
    "\n",
    "df = pd.DataFrame(dict_data)\n",
    "df\n"
   ]
  },
  {
   "cell_type": "code",
   "execution_count": 63,
   "id": "8de953d7-02e7-4657-9e61-d0ac36322b8e",
   "metadata": {},
   "outputs": [
    {
     "data": {
      "text/html": [
       "<div>\n",
       "<style scoped>\n",
       "    .dataframe tbody tr th:only-of-type {\n",
       "        vertical-align: middle;\n",
       "    }\n",
       "\n",
       "    .dataframe tbody tr th {\n",
       "        vertical-align: top;\n",
       "    }\n",
       "\n",
       "    .dataframe thead th {\n",
       "        text-align: right;\n",
       "    }\n",
       "</style>\n",
       "<table border=\"1\" class=\"dataframe\">\n",
       "  <thead>\n",
       "    <tr style=\"text-align: right;\">\n",
       "      <th></th>\n",
       "      <th>Key</th>\n",
       "      <th>Value</th>\n",
       "    </tr>\n",
       "    <tr>\n",
       "      <th>Key</th>\n",
       "      <th></th>\n",
       "      <th></th>\n",
       "    </tr>\n",
       "  </thead>\n",
       "  <tbody>\n",
       "    <tr>\n",
       "      <th>A</th>\n",
       "      <td>A</td>\n",
       "      <td>List of numbers from 1 to 10 skipping 2 at a time</td>\n",
       "    </tr>\n",
       "    <tr>\n",
       "      <th>B</th>\n",
       "      <td>B</td>\n",
       "      <td>List of Strings from A to E</td>\n",
       "    </tr>\n",
       "    <tr>\n",
       "      <th>C</th>\n",
       "      <td>C</td>\n",
       "      <td>List of 5 numbers obtained using random normal...</td>\n",
       "    </tr>\n",
       "    <tr>\n",
       "      <th>D</th>\n",
       "      <td>D</td>\n",
       "      <td>List of  random integers from 20 to 30</td>\n",
       "    </tr>\n",
       "    <tr>\n",
       "      <th>E</th>\n",
       "      <td>E</td>\n",
       "      <td>Square root of 5 random numbers from 50 to 70</td>\n",
       "    </tr>\n",
       "  </tbody>\n",
       "</table>\n",
       "</div>"
      ],
      "text/plain": [
       "    Key                                              Value\n",
       "Key                                                       \n",
       "A     A  List of numbers from 1 to 10 skipping 2 at a time\n",
       "B     B                        List of Strings from A to E\n",
       "C     C  List of 5 numbers obtained using random normal...\n",
       "D     D             List of  random integers from 20 to 30\n",
       "E     E      Square root of 5 random numbers from 50 to 70"
      ]
     },
     "execution_count": 63,
     "metadata": {},
     "output_type": "execute_result"
    }
   ],
   "source": [
    "# index = [\"A\", \"B\", \"C\",\"D\", \"E\"]\n",
    "index = df[\"Key\"]\n",
    "df = pd.DataFrame(dict_data , index=index)\n",
    "df"
   ]
  },
  {
   "cell_type": "code",
   "execution_count": null,
   "id": "672b6c85-1a1d-4a08-a3c0-43e7c347aa33",
   "metadata": {},
   "outputs": [],
   "source": []
  }
 ],
 "metadata": {
  "kernelspec": {
   "display_name": "Python 3.13",
   "language": "python",
   "name": "python313"
  },
  "language_info": {
   "codemirror_mode": {
    "name": "ipython",
    "version": 3
   },
   "file_extension": ".py",
   "mimetype": "text/x-python",
   "name": "python",
   "nbconvert_exporter": "python",
   "pygments_lexer": "ipython3",
   "version": "3.13.1"
  }
 },
 "nbformat": 4,
 "nbformat_minor": 5
}
