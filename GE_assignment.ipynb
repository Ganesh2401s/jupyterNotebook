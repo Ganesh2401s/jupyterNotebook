{
 "cells": [
  {
   "cell_type": "code",
   "execution_count": 6,
   "id": "7ed5df0e-6d48-437f-a57f-c8150301f198",
   "metadata": {},
   "outputs": [],
   "source": [
    "import numpy as np \n",
    "import pandas as pd\n",
    "import matplotlib.pyplot as plt\n",
    "\n",
    "first_data = {\n",
    "    \"One\" : [0, 2, 5, 6],\n",
    "    \"Two\" : [\"A\", \"B\", \"D\", \"C\"]\n",
    "}\n",
    "\n",
    "second_data = {\n",
    "    \"One\" : [0, 1, 5, 2],\n",
    "    \"Two\" : [\"B\", \"C\", \"E\", \"A\"]\n",
    "}\n",
    "\n",
    "first = pd.DataFrame(first_data)\n",
    "second = pd.DataFrame(second_data)\n",
    "\n",
    "right = pd.merge(first, second, how='right', on='One')\n",
    "left = pd.merge(first, second, how='inner', on='Two')\n",
    "\n"
   ]
  },
  {
   "cell_type": "code",
   "execution_count": 10,
   "id": "d3916226-92dc-4d0f-a1ad-e39aaab478ef",
   "metadata": {},
   "outputs": [
    {
     "name": "stdout",
     "output_type": "stream",
     "text": [
      "[[ 0  1  2]\n",
      " [ 3  4  5]\n",
      " [ 6  7  8]\n",
      " [ 9 10 11]]\n"
     ]
    }
   ],
   "source": [
    "y = np.arange(12).reshape(4, 3)\n",
    "print(y)"
   ]
  },
  {
   "cell_type": "code",
   "execution_count": 11,
   "id": "0693c91e-7e4f-4b8f-b865-a24dba279171",
   "metadata": {},
   "outputs": [
    {
     "name": "stdout",
     "output_type": "stream",
     "text": [
      "[[ 0  1  2]\n",
      " [ 3  4  5]\n",
      " [-1 -1 -1]\n",
      " [-1 -1 -1]]\n"
     ]
    }
   ],
   "source": [
    "y[(y > 5)] = -1\n",
    "print(y)"
   ]
  },
  {
   "cell_type": "code",
   "execution_count": 16,
   "id": "0c0ec507-7a5f-4003-99d0-2b9ebba9c193",
   "metadata": {},
   "outputs": [
    {
     "name": "stdout",
     "output_type": "stream",
     "text": [
      "[[1 1]\n",
      " [1 1]]\n"
     ]
    }
   ],
   "source": [
    "x = np.array([[2, 4], [5, 1]])\n",
    "z = np.ones_like(x)\n",
    "print(z)"
   ]
  },
  {
   "cell_type": "code",
   "execution_count": 29,
   "id": "9f67abbd-0f37-44d3-b9e4-e0ab2b679e5b",
   "metadata": {},
   "outputs": [
    {
     "name": "stdout",
     "output_type": "stream",
     "text": [
      "[[2. 0.]\n",
      " [0. 1.]]\n"
     ]
    }
   ],
   "source": [
    "w = np.eye(2) * x\n",
    "print(w)"
   ]
  },
  {
   "cell_type": "code",
   "execution_count": 27,
   "id": "1e98f2bb-f8c6-48d6-8f98-7af78920f34e",
   "metadata": {},
   "outputs": [
    {
     "data": {
      "text/plain": [
       "array([[2, 4],\n",
       "       [5, 1]])"
      ]
     },
     "execution_count": 27,
     "metadata": {},
     "output_type": "execute_result"
    }
   ],
   "source": [
    "x"
   ]
  },
  {
   "cell_type": "code",
   "execution_count": 37,
   "id": "cad28544-e1a5-4221-add0-ff244dbe925f",
   "metadata": {},
   "outputs": [
    {
     "data": {
      "text/plain": [
       "A    5\n",
       "B    6\n",
       "D    7\n",
       "E    8\n",
       "Name: S2, dtype: int64"
      ]
     },
     "execution_count": 37,
     "metadata": {},
     "output_type": "execute_result"
    }
   ],
   "source": [
    "import pandas as pd\n",
    "import numpy as np\n",
    "\n",
    "series1 = {\n",
    "    \"A\" : 1, \n",
    "    \"B\" : 2, \n",
    "    \"C\" : 3, \n",
    "    \"D\" : 4 \n",
    "}\n",
    "\n",
    "series2 = {\n",
    "    \"A\" : 5, \n",
    "    \"B\" : 6, \n",
    "    \"D\" : 7, \n",
    "    \"E\" : 8 \n",
    "}\n",
    "\n",
    "S1 = pd.Series(series1, name=\"S1\")\n",
    "S2 = pd.Series(series2, name=\"S2\")\n",
    "\n",
    "S2\n",
    "\n"
   ]
  },
  {
   "cell_type": "code",
   "execution_count": 38,
   "id": "73b142c0-e296-49b0-bd6f-e3c6857803ef",
   "metadata": {},
   "outputs": [
    {
     "data": {
      "text/plain": [
       "A    10\n",
       "B    20\n",
       "C    30\n",
       "Name: S1, dtype: int64"
      ]
     },
     "execution_count": 38,
     "metadata": {},
     "output_type": "execute_result"
    }
   ],
   "source": [
    "S1[:3] * 10"
   ]
  },
  {
   "cell_type": "code",
   "execution_count": 39,
   "id": "9662fc4f-3ec6-4760-972d-e3312aba82f7",
   "metadata": {},
   "outputs": [
    {
     "data": {
      "text/plain": [
       "A     6.0\n",
       "B     8.0\n",
       "C     NaN\n",
       "D    11.0\n",
       "E     NaN\n",
       "dtype: float64"
      ]
     },
     "execution_count": 39,
     "metadata": {},
     "output_type": "execute_result"
    }
   ],
   "source": [
    "S1 + S2"
   ]
  },
  {
   "cell_type": "code",
   "execution_count": 42,
   "id": "c5a80f3b-70ef-4744-adb8-936c6383d861",
   "metadata": {},
   "outputs": [
    {
     "data": {
      "text/plain": [
       "E    40\n",
       "D    35\n",
       "B    30\n",
       "A    25\n",
       "Name: S2, dtype: int64"
      ]
     },
     "execution_count": 42,
     "metadata": {},
     "output_type": "execute_result"
    }
   ],
   "source": [
    "S2[::-1] * 5"
   ]
  },
  {
   "cell_type": "code",
   "execution_count": null,
   "id": "38ea9d7a-43d3-440f-9341-667ce3b8b3b3",
   "metadata": {},
   "outputs": [],
   "source": []
  }
 ],
 "metadata": {
  "kernelspec": {
   "display_name": "Python 3.13",
   "language": "python",
   "name": "python313"
  },
  "language_info": {
   "codemirror_mode": {
    "name": "ipython",
    "version": 3
   },
   "file_extension": ".py",
   "mimetype": "text/x-python",
   "name": "python",
   "nbconvert_exporter": "python",
   "pygments_lexer": "ipython3",
   "version": "3.13.1"
  }
 },
 "nbformat": 4,
 "nbformat_minor": 5
}
