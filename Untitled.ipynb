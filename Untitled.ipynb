{
 "cells": [
  {
   "cell_type": "markdown",
   "id": "1c5e94c7-618d-4698-82f2-1ab681f0c1ed",
   "metadata": {},
   "source": [
    "Pandas library contains two data structures : Series & DataFrame\n",
    "\n",
    "Series is a one-dimensional array-like object containing a sequence of values and an associated array of data labels, called it's index.\n",
    "The simplest series is formed from only an array of data."
   ]
  },
  {
   "cell_type": "code",
   "execution_count": 1,
   "id": "3c550d1d-c35d-4879-a1d9-1567b9757f1f",
   "metadata": {},
   "outputs": [
    {
     "data": {
      "text/plain": [
       "0    4\n",
       "1    5\n",
       "2   -9\n",
       "3    3\n",
       "4    8\n",
       "dtype: int64"
      ]
     },
     "execution_count": 1,
     "metadata": {},
     "output_type": "execute_result"
    }
   ],
   "source": [
    "import pandas as pd\n",
    "list = [4, 5, -9, 3, 8]\n",
    "obj = pd.Series(list)\n",
    "obj"
   ]
  },
  {
   "cell_type": "code",
   "execution_count": 2,
   "id": "17f4013c-8340-47e5-9b81-3a35defe551f",
   "metadata": {},
   "outputs": [
    {
     "data": {
      "text/plain": [
       "array([ 4,  5, -9,  3,  8])"
      ]
     },
     "execution_count": 2,
     "metadata": {},
     "output_type": "execute_result"
    }
   ],
   "source": [
    "obj.values"
   ]
  },
  {
   "cell_type": "code",
   "execution_count": 3,
   "id": "fd52acaf-267f-434d-85f6-6f52fe2aa258",
   "metadata": {},
   "outputs": [
    {
     "data": {
      "text/plain": [
       "RangeIndex(start=0, stop=5, step=1)"
      ]
     },
     "execution_count": 3,
     "metadata": {},
     "output_type": "execute_result"
    }
   ],
   "source": [
    "obj.index"
   ]
  },
  {
   "cell_type": "code",
   "execution_count": 4,
   "id": "f81efb2a-979d-4266-9e58-8452ed3a6f3f",
   "metadata": {},
   "outputs": [
    {
     "data": {
      "text/plain": [
       "a    4\n",
       "b    5\n",
       "c   -9\n",
       "d    3\n",
       "e    8\n",
       "dtype: int64"
      ]
     },
     "execution_count": 4,
     "metadata": {},
     "output_type": "execute_result"
    }
   ],
   "source": [
    "# it starts to give ValueError if length of values and index doesn't matches.\n",
    "\n",
    "list = [4, 5, -9, 3, 8]\n",
    "obj2 = pd.Series(list, index = ['a', 'b', 'c', 'd', 'e'])\n",
    "obj2"
   ]
  },
  {
   "cell_type": "code",
   "execution_count": 5,
   "id": "29ed95c2-d73e-4dc6-af6b-58a61ed684dc",
   "metadata": {},
   "outputs": [
    {
     "data": {
      "text/plain": [
       "array([ 4,  5, -9,  3,  8])"
      ]
     },
     "execution_count": 5,
     "metadata": {},
     "output_type": "execute_result"
    }
   ],
   "source": [
    "obj2.values"
   ]
  },
  {
   "cell_type": "code",
   "execution_count": 6,
   "id": "581eceda-e85c-48ac-9df2-6ef5cce12771",
   "metadata": {},
   "outputs": [
    {
     "data": {
      "text/plain": [
       "Index(['a', 'b', 'c', 'd', 'e'], dtype='object')"
      ]
     },
     "execution_count": 6,
     "metadata": {},
     "output_type": "execute_result"
    }
   ],
   "source": [
    "obj2.index"
   ]
  },
  {
   "cell_type": "code",
   "execution_count": 7,
   "id": "f08ed821-b78c-47b4-b490-4491b7e345e1",
   "metadata": {},
   "outputs": [
    {
     "data": {
      "text/plain": [
       "np.int64(4)"
      ]
     },
     "execution_count": 7,
     "metadata": {},
     "output_type": "execute_result"
    }
   ],
   "source": [
    "# Assessing values of obj using it's custom index, can also access multiple items by passing the list of indices\n",
    "obj2['a']"
   ]
  },
  {
   "cell_type": "code",
   "execution_count": 8,
   "id": "3bcae770-cd5a-4a11-905c-8abc436dc13e",
   "metadata": {},
   "outputs": [
    {
     "data": {
      "text/plain": [
       "np.int64(-9)"
      ]
     },
     "execution_count": 8,
     "metadata": {},
     "output_type": "execute_result"
    }
   ],
   "source": [
    "obj2[\"c\"]"
   ]
  },
  {
   "cell_type": "code",
   "execution_count": 9,
   "id": "1da88273-a504-4596-9f2f-aaf3d208ff04",
   "metadata": {},
   "outputs": [
    {
     "data": {
      "text/plain": [
       "a    4\n",
       "d    3\n",
       "c   -9\n",
       "dtype: int64"
      ]
     },
     "execution_count": 9,
     "metadata": {},
     "output_type": "execute_result"
    }
   ],
   "source": [
    "obj2[[\"a\", \"d\", \"c\"]]"
   ]
  },
  {
   "cell_type": "code",
   "execution_count": 10,
   "id": "823298ea-e2bd-48ac-8645-df5ac1cffe85",
   "metadata": {},
   "outputs": [
    {
     "data": {
      "text/plain": [
       "a    4\n",
       "b    5\n",
       "d    3\n",
       "e    8\n",
       "dtype: int64"
      ]
     },
     "execution_count": 10,
     "metadata": {},
     "output_type": "execute_result"
    }
   ],
   "source": [
    "obj2[obj2 > 2]"
   ]
  },
  {
   "cell_type": "code",
   "execution_count": 11,
   "id": "0c67b682-34f4-4966-a240-76907343d474",
   "metadata": {},
   "outputs": [
    {
     "data": {
      "text/plain": [
       "a     8\n",
       "b    10\n",
       "c   -18\n",
       "d     6\n",
       "e    16\n",
       "dtype: int64"
      ]
     },
     "execution_count": 11,
     "metadata": {},
     "output_type": "execute_result"
    }
   ],
   "source": [
    " obj2 * 2"
   ]
  },
  {
   "cell_type": "code",
   "execution_count": 12,
   "id": "0c0d446a-51a9-4e46-bf3e-1ba8f81d374b",
   "metadata": {},
   "outputs": [
    {
     "data": {
      "text/plain": [
       "a      54.598150\n",
       "b     148.413159\n",
       "c       0.000123\n",
       "d      20.085537\n",
       "e    2980.957987\n",
       "dtype: float64"
      ]
     },
     "execution_count": 12,
     "metadata": {},
     "output_type": "execute_result"
    }
   ],
   "source": [
    "#e raised to the power of values in obj2, where e is equal to 2.718.\n",
    "import numpy as np\n",
    "np.exp(obj2)"
   ]
  },
  {
   "cell_type": "code",
   "execution_count": 13,
   "id": "4046322e-bd16-41a4-8851-fcc0b9dd0063",
   "metadata": {},
   "outputs": [
    {
     "data": {
      "text/plain": [
       "False"
      ]
     },
     "execution_count": 13,
     "metadata": {},
     "output_type": "execute_result"
    }
   ],
   "source": [
    "\"f\" in obj2"
   ]
  },
  {
   "cell_type": "code",
   "execution_count": 14,
   "id": "c36f2ced-5029-4911-9de8-4619532ff503",
   "metadata": {},
   "outputs": [
    {
     "data": {
      "text/plain": [
       "True"
      ]
     },
     "execution_count": 14,
     "metadata": {},
     "output_type": "execute_result"
    }
   ],
   "source": [
    "\"a\" in obj2"
   ]
  },
  {
   "cell_type": "code",
   "execution_count": 15,
   "id": "90647cf8-5090-405f-ab07-70a41c798857",
   "metadata": {},
   "outputs": [
    {
     "data": {
      "text/plain": [
       "Delhi        25000\n",
       "Mumbai       54000\n",
       "Kolkata      45000\n",
       "Bangalore    65000\n",
       "dtype: int64"
      ]
     },
     "execution_count": 15,
     "metadata": {},
     "output_type": "execute_result"
    }
   ],
   "source": [
    "# Time to pass a python dictionary inside Series method instead of lists for dataset\n",
    "\n",
    "sdata = {\n",
    "    \"Delhi\" : 25000, \n",
    "    \"Mumbai\" : 54000, \n",
    "    \"Kolkata\" : 45000,\n",
    "    \"Bangalore\" : 65000\n",
    "}\n",
    "\n",
    "obj3 = pd.Series(sdata)\n",
    "obj3"
   ]
  },
  {
   "cell_type": "code",
   "execution_count": 16,
   "id": "9540e590-5829-453c-9902-3f6163919725",
   "metadata": {},
   "outputs": [
    {
     "data": {
      "text/plain": [
       "Delhi        25000.0\n",
       "Mumbai       54000.0\n",
       "Bihar            NaN\n",
       "Gujarat          NaN\n",
       "Bangalore    65000.0\n",
       "dtype: float64"
      ]
     },
     "execution_count": 16,
     "metadata": {},
     "output_type": "execute_result"
    }
   ],
   "source": [
    "indexList = [\"Delhi\", \"Mumbai\", \"Bihar\", \"Gujarat\", \"Bangalore\"]\n",
    "obj4 = pd.Series(sdata, index = indexList)\n",
    "obj4\n",
    "# if you remove the NaN value indexes then dtype will change back to int64"
   ]
  },
  {
   "cell_type": "code",
   "execution_count": 17,
   "id": "9d0fc886-627b-4fde-b33c-cdede08d33ed",
   "metadata": {},
   "outputs": [
    {
     "data": {
      "text/plain": [
       "Delhi        False\n",
       "Mumbai       False\n",
       "Bihar         True\n",
       "Gujarat       True\n",
       "Bangalore    False\n",
       "dtype: bool"
      ]
     },
     "execution_count": 17,
     "metadata": {},
     "output_type": "execute_result"
    }
   ],
   "source": [
    "# Series and pandas both have isnull() and notnull() instance methods\n",
    "obj4.isnull()"
   ]
  },
  {
   "cell_type": "code",
   "execution_count": 18,
   "id": "9c67b49b-44d0-449d-a1ee-c26607b91a84",
   "metadata": {},
   "outputs": [
    {
     "data": {
      "text/plain": [
       "Delhi         True\n",
       "Mumbai        True\n",
       "Bihar        False\n",
       "Gujarat      False\n",
       "Bangalore     True\n",
       "dtype: bool"
      ]
     },
     "execution_count": 18,
     "metadata": {},
     "output_type": "execute_result"
    }
   ],
   "source": [
    "obj4.notnull()"
   ]
  },
  {
   "cell_type": "code",
   "execution_count": 19,
   "id": "e071eae9-d319-4837-ba38-619373e5652e",
   "metadata": {},
   "outputs": [
    {
     "data": {
      "text/plain": [
       "Delhi        False\n",
       "Mumbai       False\n",
       "Bihar         True\n",
       "Gujarat       True\n",
       "Bangalore    False\n",
       "dtype: bool"
      ]
     },
     "execution_count": 19,
     "metadata": {},
     "output_type": "execute_result"
    }
   ],
   "source": [
    "pd.isnull(obj4)"
   ]
  },
  {
   "cell_type": "code",
   "execution_count": 20,
   "id": "9643e050-76db-4446-8a22-3fd149e56348",
   "metadata": {},
   "outputs": [
    {
     "data": {
      "text/plain": [
       "Bangalore    130000.0\n",
       "Bihar             NaN\n",
       "Delhi         50000.0\n",
       "Gujarat           NaN\n",
       "Kolkata           NaN\n",
       "Mumbai       108000.0\n",
       "dtype: float64"
      ]
     },
     "execution_count": 20,
     "metadata": {},
     "output_type": "execute_result"
    }
   ],
   "source": [
    "obj3 + obj4\n",
    "# only adds those where same dict keys are present otherwise it will return NaN"
   ]
  },
  {
   "cell_type": "code",
   "execution_count": 21,
   "id": "de7a0ae5-66b7-43b5-a867-0c3243c5e97b",
   "metadata": {},
   "outputs": [
    {
     "data": {
      "text/plain": [
       "Delhi        25000.0\n",
       "Mumbai       54000.0\n",
       "Bihar            NaN\n",
       "Gujarat          NaN\n",
       "Bangalore    65000.0\n",
       "dtype: float64"
      ]
     },
     "execution_count": 21,
     "metadata": {},
     "output_type": "execute_result"
    }
   ],
   "source": [
    "obj4"
   ]
  },
  {
   "cell_type": "code",
   "execution_count": 22,
   "id": "8b552031-de06-4e18-b4a1-0ba422f953dc",
   "metadata": {},
   "outputs": [
    {
     "data": {
      "text/plain": [
       "Delhi        25000\n",
       "Mumbai       54000\n",
       "Kolkata      45000\n",
       "Bangalore    65000\n",
       "dtype: int64"
      ]
     },
     "execution_count": 22,
     "metadata": {},
     "output_type": "execute_result"
    }
   ],
   "source": [
    "obj3"
   ]
  },
  {
   "cell_type": "code",
   "execution_count": 23,
   "id": "1a23f172-d0cf-44c7-a7c4-06bb65ceca1a",
   "metadata": {},
   "outputs": [
    {
     "data": {
      "text/plain": [
       "States of India\n",
       "Delhi        25000\n",
       "Mumbai       54000\n",
       "Kolkata      45000\n",
       "Bangalore    65000\n",
       "Name: Number of luxury Cars, dtype: int64"
      ]
     },
     "execution_count": 23,
     "metadata": {},
     "output_type": "execute_result"
    }
   ],
   "source": [
    "obj3.name =\"Number of luxury Cars\"\n",
    "obj3.index.name = \"States of India\"\n",
    "obj3"
   ]
  },
  {
   "cell_type": "code",
   "execution_count": 24,
   "id": "74de9390-eb3d-414e-b5b6-84805571905e",
   "metadata": {},
   "outputs": [
    {
     "data": {
      "text/plain": [
       "Index(['Delhi', 'Mumbai', 'Kolkata', 'Bangalore'], dtype='object', name='States of India')"
      ]
     },
     "execution_count": 24,
     "metadata": {},
     "output_type": "execute_result"
    }
   ],
   "source": [
    "obj3.index "
   ]
  },
  {
   "cell_type": "markdown",
   "id": "ba5ef603-36ff-4cf7-a58d-d1567720cef2",
   "metadata": {},
   "source": [
    "DataFrame : A DataFrame is a two- dimesional labelled data struture commonly used in data analysis and manipulation. \n",
    "It's similar to a table in a database or an excel spreadsheet."
   ]
  },
  {
   "cell_type": "markdown",
   "id": "4af50430-bc60-41ec-a9df-f3598f3f1b05",
   "metadata": {},
   "source": [
    "PYQ 3"
   ]
  },
  {
   "cell_type": "code",
   "execution_count": 25,
   "id": "0165bc3d-15a4-4f66-a080-a714552882b6",
   "metadata": {},
   "outputs": [
    {
     "data": {
      "text/html": [
       "<div>\n",
       "<style scoped>\n",
       "    .dataframe tbody tr th:only-of-type {\n",
       "        vertical-align: middle;\n",
       "    }\n",
       "\n",
       "    .dataframe tbody tr th {\n",
       "        vertical-align: top;\n",
       "    }\n",
       "\n",
       "    .dataframe thead th {\n",
       "        text-align: right;\n",
       "    }\n",
       "</style>\n",
       "<table border=\"1\" class=\"dataframe\">\n",
       "  <thead>\n",
       "    <tr style=\"text-align: right;\">\n",
       "      <th></th>\n",
       "      <th>Items</th>\n",
       "      <th>Sugar Type</th>\n",
       "      <th>Price</th>\n",
       "    </tr>\n",
       "  </thead>\n",
       "  <tbody>\n",
       "    <tr>\n",
       "      <th>0</th>\n",
       "      <td>Yogurt</td>\n",
       "      <td>Low Fat</td>\n",
       "      <td>45</td>\n",
       "    </tr>\n",
       "    <tr>\n",
       "      <th>1</th>\n",
       "      <td>Chips</td>\n",
       "      <td>Regular</td>\n",
       "      <td>30</td>\n",
       "    </tr>\n",
       "    <tr>\n",
       "      <th>2</th>\n",
       "      <td>Soda</td>\n",
       "      <td>Low Fat</td>\n",
       "      <td>50</td>\n",
       "    </tr>\n",
       "    <tr>\n",
       "      <th>3</th>\n",
       "      <td>Yogurt</td>\n",
       "      <td>High Fat</td>\n",
       "      <td>70</td>\n",
       "    </tr>\n",
       "    <tr>\n",
       "      <th>4</th>\n",
       "      <td>Cake</td>\n",
       "      <td>Regular</td>\n",
       "      <td>140</td>\n",
       "    </tr>\n",
       "    <tr>\n",
       "      <th>5</th>\n",
       "      <td>Chips</td>\n",
       "      <td>Low Fat</td>\n",
       "      <td>40</td>\n",
       "    </tr>\n",
       "    <tr>\n",
       "      <th>6</th>\n",
       "      <td>Yogurt</td>\n",
       "      <td>Regular</td>\n",
       "      <td>50</td>\n",
       "    </tr>\n",
       "  </tbody>\n",
       "</table>\n",
       "</div>"
      ],
      "text/plain": [
       "    Items Sugar Type  Price\n",
       "0  Yogurt    Low Fat     45\n",
       "1   Chips    Regular     30\n",
       "2    Soda    Low Fat     50\n",
       "3  Yogurt   High Fat     70\n",
       "4    Cake    Regular    140\n",
       "5   Chips    Low Fat     40\n",
       "6  Yogurt    Regular     50"
      ]
     },
     "execution_count": 25,
     "metadata": {},
     "output_type": "execute_result"
    }
   ],
   "source": [
    "data = {\n",
    "    \"Items\" : [\"Yogurt\", \"Chips\", \"Soda\", \"Yogurt\", \"Cake\", \"Chips\", \"Yogurt\"],\n",
    "    \"Sugar Type\" : [\"Low Fat\", \"Regular\", \"Low Fat\", \"High Fat\", \"Regular\", \"Low Fat\", \"Regular\"],\n",
    "    \"Price\" : [45, 30, 50, 70, 140 ,40, 50]\n",
    "}\n",
    "df = pd.DataFrame(data)\n",
    "df"
   ]
  },
  {
   "cell_type": "code",
   "execution_count": 32,
   "id": "f9a1c148-fe9d-4b78-b022-2abe886cb11a",
   "metadata": {},
   "outputs": [
    {
     "data": {
      "text/plain": [
       "np.float64(45.0)"
      ]
     },
     "execution_count": 32,
     "metadata": {},
     "output_type": "execute_result"
    }
   ],
   "source": [
    "df[df[\"Sugar Type\"] == \"Low Fat\"][\"Price\"].mean()"
   ]
  },
  {
   "cell_type": "code",
   "execution_count": 30,
   "id": "35e765ce-2ec0-4a82-abe3-e23294a8e596",
   "metadata": {},
   "outputs": [
    {
     "name": "stdout",
     "output_type": "stream",
     "text": [
      "45.0\n"
     ]
    }
   ],
   "source": [
    "avg_price_low_fat = df[df['Sugar Type'] == 'Low Fat']['Price'].mean()\n",
    "print(avg_price_low_fat)\n"
   ]
  },
  {
   "cell_type": "code",
   "execution_count": 34,
   "id": "acd8c2df-1785-4b9d-a4a8-d2e6ba35825c",
   "metadata": {},
   "outputs": [
    {
     "data": {
      "text/plain": [
       "array(['Yogurt', 'Chips', 'Soda', 'Cake'], dtype=object)"
      ]
     },
     "execution_count": 34,
     "metadata": {},
     "output_type": "execute_result"
    }
   ],
   "source": [
    "unique_items = df[\"Items\"].unique()\n",
    "unique_items"
   ]
  },
  {
   "cell_type": "code",
   "execution_count": 43,
   "id": "01471d1e-9ea2-41eb-be27-89985cab33df",
   "metadata": {},
   "outputs": [
    {
     "name": "stdout",
     "output_type": "stream",
     "text": [
      "2    Certificate\n",
      "4       Bachelor\n",
      "6         Master\n",
      "8      Doctorate\n",
      "dtype: object\n"
     ]
    }
   ],
   "source": [
    "import pandas as pd\n",
    "s1 = pd.Series([\"Certificate\", \"Bachelor\", \"Master\", \"Doctorate\"], index= [2, 4, 6, 8])\n",
    "s1.reindex(range(10), method =\"ffill\")\n",
    "print(s1)\n"
   ]
  },
  {
   "cell_type": "code",
   "execution_count": null,
   "id": "88e6d30f-cf0e-4a9e-8446-948482f067fd",
   "metadata": {},
   "outputs": [],
   "source": []
  }
 ],
 "metadata": {
  "kernelspec": {
   "display_name": "Python 3.13",
   "language": "python",
   "name": "python313"
  },
  "language_info": {
   "codemirror_mode": {
    "name": "ipython",
    "version": 3
   },
   "file_extension": ".py",
   "mimetype": "text/x-python",
   "name": "python",
   "nbconvert_exporter": "python",
   "pygments_lexer": "ipython3",
   "version": "3.13.1"
  }
 },
 "nbformat": 4,
 "nbformat_minor": 5
}
