{
 "cells": [
  {
   "cell_type": "markdown",
   "id": "1c5e94c7-618d-4698-82f2-1ab681f0c1ed",
   "metadata": {},
   "source": [
    "Pandas library contains two data structures : Series & DataFrame\n",
    "\n",
    "Series is a one-dimensional array-like object containing a sequence of values and an associated array of data labels, called it's index.\n",
    "The simplest series is formed from only an array of data."
   ]
  },
  {
   "cell_type": "code",
   "execution_count": 1,
   "id": "3c550d1d-c35d-4879-a1d9-1567b9757f1f",
   "metadata": {},
   "outputs": [
    {
     "data": {
      "text/plain": [
       "0    4\n",
       "1    5\n",
       "2   -9\n",
       "3    3\n",
       "4    8\n",
       "dtype: int64"
      ]
     },
     "execution_count": 1,
     "metadata": {},
     "output_type": "execute_result"
    }
   ],
   "source": [
    "import pandas as pd\n",
    "list = [4, 5, -9, 3, 8]\n",
    "obj = pd.Series(list)\n",
    "obj"
   ]
  },
  {
   "cell_type": "code",
   "execution_count": 2,
   "id": "17f4013c-8340-47e5-9b81-3a35defe551f",
   "metadata": {},
   "outputs": [
    {
     "data": {
      "text/plain": [
       "array([ 4,  5, -9,  3,  8])"
      ]
     },
     "execution_count": 2,
     "metadata": {},
     "output_type": "execute_result"
    }
   ],
   "source": [
    "obj.values"
   ]
  },
  {
   "cell_type": "code",
   "execution_count": 3,
   "id": "fd52acaf-267f-434d-85f6-6f52fe2aa258",
   "metadata": {},
   "outputs": [
    {
     "data": {
      "text/plain": [
       "RangeIndex(start=0, stop=5, step=1)"
      ]
     },
     "execution_count": 3,
     "metadata": {},
     "output_type": "execute_result"
    }
   ],
   "source": [
    "obj.index"
   ]
  },
  {
   "cell_type": "code",
   "execution_count": 4,
   "id": "f81efb2a-979d-4266-9e58-8452ed3a6f3f",
   "metadata": {},
   "outputs": [
    {
     "data": {
      "text/plain": [
       "a    4\n",
       "b    5\n",
       "c   -9\n",
       "d    3\n",
       "e    8\n",
       "dtype: int64"
      ]
     },
     "execution_count": 4,
     "metadata": {},
     "output_type": "execute_result"
    }
   ],
   "source": [
    "# it starts to give ValueError if length of values and index doesn't matches.\n",
    "\n",
    "list = [4, 5, -9, 3, 8]\n",
    "obj2 = pd.Series(list, index = ['a', 'b', 'c', 'd', 'e'])\n",
    "obj2"
   ]
  },
  {
   "cell_type": "code",
   "execution_count": 5,
   "id": "29ed95c2-d73e-4dc6-af6b-58a61ed684dc",
   "metadata": {},
   "outputs": [
    {
     "data": {
      "text/plain": [
       "array([ 4,  5, -9,  3,  8])"
      ]
     },
     "execution_count": 5,
     "metadata": {},
     "output_type": "execute_result"
    }
   ],
   "source": [
    "obj2.values"
   ]
  },
  {
   "cell_type": "code",
   "execution_count": 6,
   "id": "581eceda-e85c-48ac-9df2-6ef5cce12771",
   "metadata": {},
   "outputs": [
    {
     "data": {
      "text/plain": [
       "Index(['a', 'b', 'c', 'd', 'e'], dtype='object')"
      ]
     },
     "execution_count": 6,
     "metadata": {},
     "output_type": "execute_result"
    }
   ],
   "source": [
    "obj2.index"
   ]
  },
  {
   "cell_type": "code",
   "execution_count": 7,
   "id": "f08ed821-b78c-47b4-b490-4491b7e345e1",
   "metadata": {},
   "outputs": [
    {
     "data": {
      "text/plain": [
       "np.int64(4)"
      ]
     },
     "execution_count": 7,
     "metadata": {},
     "output_type": "execute_result"
    }
   ],
   "source": [
    "# Assessing values of obj using it's custom index, can also access multiple items by passing the list of indices\n",
    "obj2['a']"
   ]
  },
  {
   "cell_type": "code",
   "execution_count": 8,
   "id": "3bcae770-cd5a-4a11-905c-8abc436dc13e",
   "metadata": {},
   "outputs": [
    {
     "data": {
      "text/plain": [
       "np.int64(-9)"
      ]
     },
     "execution_count": 8,
     "metadata": {},
     "output_type": "execute_result"
    }
   ],
   "source": [
    "obj2[\"c\"]"
   ]
  },
  {
   "cell_type": "code",
   "execution_count": 9,
   "id": "1da88273-a504-4596-9f2f-aaf3d208ff04",
   "metadata": {},
   "outputs": [
    {
     "data": {
      "text/plain": [
       "a    4\n",
       "d    3\n",
       "c   -9\n",
       "dtype: int64"
      ]
     },
     "execution_count": 9,
     "metadata": {},
     "output_type": "execute_result"
    }
   ],
   "source": [
    "obj2[[\"a\", \"d\", \"c\"]]"
   ]
  },
  {
   "cell_type": "code",
   "execution_count": 10,
   "id": "823298ea-e2bd-48ac-8645-df5ac1cffe85",
   "metadata": {},
   "outputs": [
    {
     "data": {
      "text/plain": [
       "a    4\n",
       "b    5\n",
       "d    3\n",
       "e    8\n",
       "dtype: int64"
      ]
     },
     "execution_count": 10,
     "metadata": {},
     "output_type": "execute_result"
    }
   ],
   "source": [
    "obj2[obj2 > 2]"
   ]
  },
  {
   "cell_type": "code",
   "execution_count": 11,
   "id": "0c67b682-34f4-4966-a240-76907343d474",
   "metadata": {},
   "outputs": [
    {
     "data": {
      "text/plain": [
       "a     8\n",
       "b    10\n",
       "c   -18\n",
       "d     6\n",
       "e    16\n",
       "dtype: int64"
      ]
     },
     "execution_count": 11,
     "metadata": {},
     "output_type": "execute_result"
    }
   ],
   "source": [
    " obj2 * 2"
   ]
  },
  {
   "cell_type": "code",
   "execution_count": 12,
   "id": "0c0d446a-51a9-4e46-bf3e-1ba8f81d374b",
   "metadata": {},
   "outputs": [
    {
     "data": {
      "text/plain": [
       "a      54.598150\n",
       "b     148.413159\n",
       "c       0.000123\n",
       "d      20.085537\n",
       "e    2980.957987\n",
       "dtype: float64"
      ]
     },
     "execution_count": 12,
     "metadata": {},
     "output_type": "execute_result"
    }
   ],
   "source": [
    "#e raised to the power of values in obj2, where e is equal to 2.718.\n",
    "import numpy as np\n",
    "np.exp(obj2)"
   ]
  },
  {
   "cell_type": "code",
   "execution_count": 13,
   "id": "4046322e-bd16-41a4-8851-fcc0b9dd0063",
   "metadata": {},
   "outputs": [
    {
     "data": {
      "text/plain": [
       "False"
      ]
     },
     "execution_count": 13,
     "metadata": {},
     "output_type": "execute_result"
    }
   ],
   "source": [
    "\"f\" in obj2"
   ]
  },
  {
   "cell_type": "code",
   "execution_count": 14,
   "id": "c36f2ced-5029-4911-9de8-4619532ff503",
   "metadata": {},
   "outputs": [
    {
     "data": {
      "text/plain": [
       "True"
      ]
     },
     "execution_count": 14,
     "metadata": {},
     "output_type": "execute_result"
    }
   ],
   "source": [
    "\"a\" in obj2"
   ]
  },
  {
   "cell_type": "code",
   "execution_count": 15,
   "id": "90647cf8-5090-405f-ab07-70a41c798857",
   "metadata": {},
   "outputs": [
    {
     "data": {
      "text/plain": [
       "Delhi        25000\n",
       "Mumbai       54000\n",
       "Kolkata      45000\n",
       "Bangalore    65000\n",
       "dtype: int64"
      ]
     },
     "execution_count": 15,
     "metadata": {},
     "output_type": "execute_result"
    }
   ],
   "source": [
    "# Time to pass a python dictionary inside Series method instead of lists for dataset\n",
    "\n",
    "sdata = {\n",
    "    \"Delhi\" : 25000, \n",
    "    \"Mumbai\" : 54000, \n",
    "    \"Kolkata\" : 45000,\n",
    "    \"Bangalore\" : 65000\n",
    "}\n",
    "\n",
    "obj3 = pd.Series(sdata)\n",
    "obj3"
   ]
  },
  {
   "cell_type": "code",
   "execution_count": 16,
   "id": "9540e590-5829-453c-9902-3f6163919725",
   "metadata": {},
   "outputs": [
    {
     "data": {
      "text/plain": [
       "Delhi        25000.0\n",
       "Mumbai       54000.0\n",
       "Bihar            NaN\n",
       "Gujarat          NaN\n",
       "Bangalore    65000.0\n",
       "dtype: float64"
      ]
     },
     "execution_count": 16,
     "metadata": {},
     "output_type": "execute_result"
    }
   ],
   "source": [
    "indexList = [\"Delhi\", \"Mumbai\", \"Bihar\", \"Gujarat\", \"Bangalore\"]\n",
    "obj4 = pd.Series(sdata, index = indexList)\n",
    "obj4\n",
    "# if you remove the NaN value indexes then dtype will change back to int64"
   ]
  },
  {
   "cell_type": "code",
   "execution_count": 17,
   "id": "9d0fc886-627b-4fde-b33c-cdede08d33ed",
   "metadata": {},
   "outputs": [
    {
     "data": {
      "text/plain": [
       "Delhi        False\n",
       "Mumbai       False\n",
       "Bihar         True\n",
       "Gujarat       True\n",
       "Bangalore    False\n",
       "dtype: bool"
      ]
     },
     "execution_count": 17,
     "metadata": {},
     "output_type": "execute_result"
    }
   ],
   "source": [
    "# Series and pandas both have isnull() and notnull() instance methods\n",
    "obj4.isnull()"
   ]
  },
  {
   "cell_type": "code",
   "execution_count": 18,
   "id": "9c67b49b-44d0-449d-a1ee-c26607b91a84",
   "metadata": {},
   "outputs": [
    {
     "data": {
      "text/plain": [
       "Delhi         True\n",
       "Mumbai        True\n",
       "Bihar        False\n",
       "Gujarat      False\n",
       "Bangalore     True\n",
       "dtype: bool"
      ]
     },
     "execution_count": 18,
     "metadata": {},
     "output_type": "execute_result"
    }
   ],
   "source": [
    "obj4.notnull()"
   ]
  },
  {
   "cell_type": "code",
   "execution_count": 19,
   "id": "e071eae9-d319-4837-ba38-619373e5652e",
   "metadata": {},
   "outputs": [
    {
     "data": {
      "text/plain": [
       "Delhi        False\n",
       "Mumbai       False\n",
       "Bihar         True\n",
       "Gujarat       True\n",
       "Bangalore    False\n",
       "dtype: bool"
      ]
     },
     "execution_count": 19,
     "metadata": {},
     "output_type": "execute_result"
    }
   ],
   "source": [
    "pd.isnull(obj4)"
   ]
  },
  {
   "cell_type": "code",
   "execution_count": 20,
   "id": "9643e050-76db-4446-8a22-3fd149e56348",
   "metadata": {},
   "outputs": [
    {
     "data": {
      "text/plain": [
       "Bangalore    130000.0\n",
       "Bihar             NaN\n",
       "Delhi         50000.0\n",
       "Gujarat           NaN\n",
       "Kolkata           NaN\n",
       "Mumbai       108000.0\n",
       "dtype: float64"
      ]
     },
     "execution_count": 20,
     "metadata": {},
     "output_type": "execute_result"
    }
   ],
   "source": [
    "obj3 + obj4\n",
    "# only adds those where same dict keys are present otherwise it will return NaN"
   ]
  },
  {
   "cell_type": "code",
   "execution_count": 21,
   "id": "de7a0ae5-66b7-43b5-a867-0c3243c5e97b",
   "metadata": {},
   "outputs": [
    {
     "data": {
      "text/plain": [
       "Delhi        25000.0\n",
       "Mumbai       54000.0\n",
       "Bihar            NaN\n",
       "Gujarat          NaN\n",
       "Bangalore    65000.0\n",
       "dtype: float64"
      ]
     },
     "execution_count": 21,
     "metadata": {},
     "output_type": "execute_result"
    }
   ],
   "source": [
    "obj4"
   ]
  },
  {
   "cell_type": "code",
   "execution_count": 22,
   "id": "8b552031-de06-4e18-b4a1-0ba422f953dc",
   "metadata": {},
   "outputs": [
    {
     "data": {
      "text/plain": [
       "Delhi        25000\n",
       "Mumbai       54000\n",
       "Kolkata      45000\n",
       "Bangalore    65000\n",
       "dtype: int64"
      ]
     },
     "execution_count": 22,
     "metadata": {},
     "output_type": "execute_result"
    }
   ],
   "source": [
    "obj3"
   ]
  },
  {
   "cell_type": "code",
   "execution_count": 23,
   "id": "1a23f172-d0cf-44c7-a7c4-06bb65ceca1a",
   "metadata": {},
   "outputs": [
    {
     "data": {
      "text/plain": [
       "States of India\n",
       "Delhi        25000\n",
       "Mumbai       54000\n",
       "Kolkata      45000\n",
       "Bangalore    65000\n",
       "Name: Number of luxury Cars, dtype: int64"
      ]
     },
     "execution_count": 23,
     "metadata": {},
     "output_type": "execute_result"
    }
   ],
   "source": [
    "obj3.name =\"Number of luxury Cars\"\n",
    "obj3.index.name = \"States of India\"\n",
    "obj3"
   ]
  },
  {
   "cell_type": "code",
   "execution_count": 24,
   "id": "74de9390-eb3d-414e-b5b6-84805571905e",
   "metadata": {},
   "outputs": [
    {
     "data": {
      "text/plain": [
       "Index(['Delhi', 'Mumbai', 'Kolkata', 'Bangalore'], dtype='object', name='States of India')"
      ]
     },
     "execution_count": 24,
     "metadata": {},
     "output_type": "execute_result"
    }
   ],
   "source": [
    "obj3.index "
   ]
  },
  {
   "cell_type": "markdown",
   "id": "ba5ef603-36ff-4cf7-a58d-d1567720cef2",
   "metadata": {},
   "source": [
    "DataFrame : A DataFrame is a two- dimesional labelled data struture commonly used in data analysis and manipulation. \n",
    "It's similar to a table in a database or an excel spreadsheet."
   ]
  },
  {
   "cell_type": "markdown",
   "id": "4af50430-bc60-41ec-a9df-f3598f3f1b05",
   "metadata": {},
   "source": [
    "PYQ 3"
   ]
  },
  {
   "cell_type": "code",
   "execution_count": 25,
   "id": "0165bc3d-15a4-4f66-a080-a714552882b6",
   "metadata": {},
   "outputs": [
    {
     "data": {
      "text/html": [
       "<div>\n",
       "<style scoped>\n",
       "    .dataframe tbody tr th:only-of-type {\n",
       "        vertical-align: middle;\n",
       "    }\n",
       "\n",
       "    .dataframe tbody tr th {\n",
       "        vertical-align: top;\n",
       "    }\n",
       "\n",
       "    .dataframe thead th {\n",
       "        text-align: right;\n",
       "    }\n",
       "</style>\n",
       "<table border=\"1\" class=\"dataframe\">\n",
       "  <thead>\n",
       "    <tr style=\"text-align: right;\">\n",
       "      <th></th>\n",
       "      <th>Items</th>\n",
       "      <th>Sugar Type</th>\n",
       "      <th>Price</th>\n",
       "    </tr>\n",
       "  </thead>\n",
       "  <tbody>\n",
       "    <tr>\n",
       "      <th>0</th>\n",
       "      <td>Yogurt</td>\n",
       "      <td>Low Fat</td>\n",
       "      <td>45</td>\n",
       "    </tr>\n",
       "    <tr>\n",
       "      <th>1</th>\n",
       "      <td>Chips</td>\n",
       "      <td>Regular</td>\n",
       "      <td>30</td>\n",
       "    </tr>\n",
       "    <tr>\n",
       "      <th>2</th>\n",
       "      <td>Soda</td>\n",
       "      <td>Low Fat</td>\n",
       "      <td>50</td>\n",
       "    </tr>\n",
       "    <tr>\n",
       "      <th>3</th>\n",
       "      <td>Yogurt</td>\n",
       "      <td>High Fat</td>\n",
       "      <td>70</td>\n",
       "    </tr>\n",
       "    <tr>\n",
       "      <th>4</th>\n",
       "      <td>Cake</td>\n",
       "      <td>Regular</td>\n",
       "      <td>140</td>\n",
       "    </tr>\n",
       "    <tr>\n",
       "      <th>5</th>\n",
       "      <td>Chips</td>\n",
       "      <td>Low Fat</td>\n",
       "      <td>40</td>\n",
       "    </tr>\n",
       "    <tr>\n",
       "      <th>6</th>\n",
       "      <td>Yogurt</td>\n",
       "      <td>Regular</td>\n",
       "      <td>50</td>\n",
       "    </tr>\n",
       "  </tbody>\n",
       "</table>\n",
       "</div>"
      ],
      "text/plain": [
       "    Items Sugar Type  Price\n",
       "0  Yogurt    Low Fat     45\n",
       "1   Chips    Regular     30\n",
       "2    Soda    Low Fat     50\n",
       "3  Yogurt   High Fat     70\n",
       "4    Cake    Regular    140\n",
       "5   Chips    Low Fat     40\n",
       "6  Yogurt    Regular     50"
      ]
     },
     "execution_count": 25,
     "metadata": {},
     "output_type": "execute_result"
    }
   ],
   "source": [
    "data = {\n",
    "    \"Items\" : [\"Yogurt\", \"Chips\", \"Soda\", \"Yogurt\", \"Cake\", \"Chips\", \"Yogurt\"],\n",
    "    \"Sugar Type\" : [\"Low Fat\", \"Regular\", \"Low Fat\", \"High Fat\", \"Regular\", \"Low Fat\", \"Regular\"],\n",
    "    \"Price\" : [45, 30, 50, 70, 140 ,40, 50]\n",
    "}\n",
    "df = pd.DataFrame(data)\n",
    "df"
   ]
  },
  {
   "cell_type": "code",
   "execution_count": 26,
   "id": "f9a1c148-fe9d-4b78-b022-2abe886cb11a",
   "metadata": {},
   "outputs": [
    {
     "data": {
      "text/plain": [
       "np.float64(45.0)"
      ]
     },
     "execution_count": 26,
     "metadata": {},
     "output_type": "execute_result"
    }
   ],
   "source": [
    "df[df[\"Sugar Type\"] == \"Low Fat\"][\"Price\"].mean()"
   ]
  },
  {
   "cell_type": "code",
   "execution_count": 27,
   "id": "35e765ce-2ec0-4a82-abe3-e23294a8e596",
   "metadata": {},
   "outputs": [
    {
     "name": "stdout",
     "output_type": "stream",
     "text": [
      "45.0\n"
     ]
    }
   ],
   "source": [
    "avg_price_low_fat = df[df['Sugar Type'] == 'Low Fat']['Price'].mean()\n",
    "print(avg_price_low_fat)\n"
   ]
  },
  {
   "cell_type": "code",
   "execution_count": 28,
   "id": "acd8c2df-1785-4b9d-a4a8-d2e6ba35825c",
   "metadata": {},
   "outputs": [
    {
     "data": {
      "text/plain": [
       "array(['Yogurt', 'Chips', 'Soda', 'Cake'], dtype=object)"
      ]
     },
     "execution_count": 28,
     "metadata": {},
     "output_type": "execute_result"
    }
   ],
   "source": [
    "unique_items = df[\"Items\"].unique()\n",
    "unique_items"
   ]
  },
  {
   "cell_type": "code",
   "execution_count": 29,
   "id": "01471d1e-9ea2-41eb-be27-89985cab33df",
   "metadata": {},
   "outputs": [
    {
     "name": "stdout",
     "output_type": "stream",
     "text": [
      "2    Certificate\n",
      "4       Bachelor\n",
      "6         Master\n",
      "8      Doctorate\n",
      "dtype: object\n"
     ]
    }
   ],
   "source": [
    "import pandas as pd\n",
    "s1 = pd.Series([\"Certificate\", \"Bachelor\", \"Master\", \"Doctorate\"], index= [2, 4, 6, 8])\n",
    "s1.reindex(range(10), method =\"ffill\")\n",
    "print(s1)\n"
   ]
  },
  {
   "cell_type": "code",
   "execution_count": 30,
   "id": "88e6d30f-cf0e-4a9e-8446-948482f067fd",
   "metadata": {},
   "outputs": [
    {
     "data": {
      "text/html": [
       "<div>\n",
       "<style scoped>\n",
       "    .dataframe tbody tr th:only-of-type {\n",
       "        vertical-align: middle;\n",
       "    }\n",
       "\n",
       "    .dataframe tbody tr th {\n",
       "        vertical-align: top;\n",
       "    }\n",
       "\n",
       "    .dataframe thead th {\n",
       "        text-align: right;\n",
       "    }\n",
       "</style>\n",
       "<table border=\"1\" class=\"dataframe\">\n",
       "  <thead>\n",
       "    <tr style=\"text-align: right;\">\n",
       "      <th></th>\n",
       "      <th>person</th>\n",
       "      <th>sales</th>\n",
       "      <th>quarter</th>\n",
       "      <th>country</th>\n",
       "    </tr>\n",
       "  </thead>\n",
       "  <tbody>\n",
       "    <tr>\n",
       "      <th>0</th>\n",
       "      <td>A</td>\n",
       "      <td>1000</td>\n",
       "      <td>1</td>\n",
       "      <td>US</td>\n",
       "    </tr>\n",
       "    <tr>\n",
       "      <th>1</th>\n",
       "      <td>B</td>\n",
       "      <td>300</td>\n",
       "      <td>1</td>\n",
       "      <td>Japan</td>\n",
       "    </tr>\n",
       "    <tr>\n",
       "      <th>2</th>\n",
       "      <td>C</td>\n",
       "      <td>400</td>\n",
       "      <td>1</td>\n",
       "      <td>Brazil</td>\n",
       "    </tr>\n",
       "    <tr>\n",
       "      <th>3</th>\n",
       "      <td>D</td>\n",
       "      <td>500</td>\n",
       "      <td>1</td>\n",
       "      <td>UK</td>\n",
       "    </tr>\n",
       "    <tr>\n",
       "      <th>4</th>\n",
       "      <td>E</td>\n",
       "      <td>800</td>\n",
       "      <td>1</td>\n",
       "      <td>US</td>\n",
       "    </tr>\n",
       "    <tr>\n",
       "      <th>5</th>\n",
       "      <td>A</td>\n",
       "      <td>1000</td>\n",
       "      <td>2</td>\n",
       "      <td>Brazil</td>\n",
       "    </tr>\n",
       "    <tr>\n",
       "      <th>6</th>\n",
       "      <td>B</td>\n",
       "      <td>500</td>\n",
       "      <td>2</td>\n",
       "      <td>Japan</td>\n",
       "    </tr>\n",
       "    <tr>\n",
       "      <th>7</th>\n",
       "      <td>C</td>\n",
       "      <td>700</td>\n",
       "      <td>2</td>\n",
       "      <td>Brazil</td>\n",
       "    </tr>\n",
       "    <tr>\n",
       "      <th>8</th>\n",
       "      <td>D</td>\n",
       "      <td>50</td>\n",
       "      <td>2</td>\n",
       "      <td>US</td>\n",
       "    </tr>\n",
       "  </tbody>\n",
       "</table>\n",
       "</div>"
      ],
      "text/plain": [
       "  person  sales  quarter country\n",
       "0      A   1000        1      US\n",
       "1      B    300        1   Japan\n",
       "2      C    400        1  Brazil\n",
       "3      D    500        1      UK\n",
       "4      E    800        1      US\n",
       "5      A   1000        2  Brazil\n",
       "6      B    500        2   Japan\n",
       "7      C    700        2  Brazil\n",
       "8      D     50        2      US"
      ]
     },
     "execution_count": 30,
     "metadata": {},
     "output_type": "execute_result"
    }
   ],
   "source": [
    "import pandas as pd\n",
    "import numpy as np\n",
    "sales = {\n",
    "    \"person\" : [\"A\", \"B\", \"C\", \"D\", \"E\", \"A\", \"B\", \"C\", \"D\"],\n",
    "    \"sales\" : [1000, 300, 400, 500, 800, 1000, 500, 700, 50], \n",
    "    \"quarter\" : [1, 1, 1, 1, 1, 2, 2, 2, 2], \n",
    "    \"country\" : [\"US\", \"Japan\", \"Brazil\", \"UK\", \"US\", \"Brazil\", \"Japan\", \"Brazil\", \"US\"]\n",
    "}\n",
    "\n",
    "df = pd.DataFrame(sales)\n",
    "df"
   ]
  },
  {
   "cell_type": "code",
   "execution_count": 31,
   "id": "cd6c2e77-4d8b-4607-adf8-ed00f23cc378",
   "metadata": {},
   "outputs": [
    {
     "data": {
      "text/plain": [
       "np.int64(1000)"
      ]
     },
     "execution_count": 31,
     "metadata": {},
     "output_type": "execute_result"
    }
   ],
   "source": [
    "df[df[\"country\"] == \"Brazil\"][\"sales\"].max()"
   ]
  },
  {
   "cell_type": "code",
   "execution_count": 32,
   "id": "bad4ee70-acf3-4be3-a3d3-553679d219a2",
   "metadata": {},
   "outputs": [
    {
     "data": {
      "text/plain": [
       "np.int64(400)"
      ]
     },
     "execution_count": 32,
     "metadata": {},
     "output_type": "execute_result"
    }
   ],
   "source": [
    " df[df[\"country\"] == \"Brazil\"][\"sales\"].min()"
   ]
  },
  {
   "cell_type": "code",
   "execution_count": 33,
   "id": "b52945ba-c078-4c6c-ac37-69369bf7c683",
   "metadata": {},
   "outputs": [],
   "source": [
    "US_sales = df[df[\"country\"] == \"US\"][\"sales\"].sum()\n",
    "Japan_sales =  df[df[\"country\"] == \"Japan\"][\"sales\"].sum()\n",
    "Brazil_sales =  df[df[\"country\"] == \"Brazil\"][\"sales\"].sum()\n",
    "UK_sales =  df[df[\"country\"] == \"UK\"][\"sales\"].sum()"
   ]
  },
  {
   "cell_type": "code",
   "execution_count": 34,
   "id": "bcfad250-f740-4789-955c-08fc637eaf17",
   "metadata": {},
   "outputs": [],
   "source": [
    "countries = df[\"country\"].unique()"
   ]
  },
  {
   "cell_type": "code",
   "execution_count": 35,
   "id": "9dfe5044-4f50-44bc-bac0-541203f66358",
   "metadata": {},
   "outputs": [
    {
     "data": {
      "text/plain": [
       "US sales        1850\n",
       "Japan sales      800\n",
       "Brazil sales    2100\n",
       "UK sales         500\n",
       "dtype: int64"
      ]
     },
     "execution_count": 35,
     "metadata": {},
     "output_type": "execute_result"
    }
   ],
   "source": [
    "import pandas as pd\n",
    "\n",
    "US_sales = df[df[\"country\"] == \"US\"][\"sales\"].sum()\n",
    "Japan_sales =  df[df[\"country\"] == \"Japan\"][\"sales\"].sum()\n",
    "Brazil_sales =  df[df[\"country\"] == \"Brazil\"][\"sales\"].sum()\n",
    "UK_sales =  df[df[\"country\"] == \"UK\"][\"sales\"].sum()\n",
    "\n",
    "data_sales = {\n",
    "    \"US sales\" : US_sales, \n",
    "    \"Japan sales\" : Japan_sales, \n",
    "    \"Brazil sales\" : Brazil_sales, \n",
    "    \"UK sales\" : UK_sales\n",
    "}\n",
    "\n",
    "sales_df = pd.Series(data_sales)\n",
    "sales_df\n",
    "    "
   ]
  },
  {
   "cell_type": "code",
   "execution_count": 36,
   "id": "9e8934b8-238a-4d7c-bfc1-1b9621145a32",
   "metadata": {},
   "outputs": [
    {
     "data": {
      "text/plain": [
       "np.float64(583.3333333333334)"
      ]
     },
     "execution_count": 36,
     "metadata": {},
     "output_type": "execute_result"
    }
   ],
   "source": [
    "df[\"sales\"].mean()"
   ]
  },
  {
   "cell_type": "code",
   "execution_count": 37,
   "id": "a91cefc7-d6ef-4a89-93fd-55dc9a600ede",
   "metadata": {},
   "outputs": [
    {
     "data": {
      "text/plain": [
       "Person A    1000.0\n",
       "Person B     400.0\n",
       "Person C     550.0\n",
       "Person D     275.0\n",
       "Person E     800.0\n",
       "dtype: float64"
      ]
     },
     "execution_count": 37,
     "metadata": {},
     "output_type": "execute_result"
    }
   ],
   "source": [
    "person_A = df[df[\"person\"] == \"A\"][\"sales\"].mean()\n",
    "person_B = df[df[\"person\"] == \"B\"][\"sales\"].mean()\n",
    "person_C = df[df[\"person\"] == \"C\"][\"sales\"].mean()\n",
    "person_D = df[df[\"person\"] == \"D\"][\"sales\"].mean()\n",
    "person_E = df[df[\"person\"] == \"E\"][\"sales\"].mean()\n",
    "\n",
    "av_sales = {\n",
    "    \"Person A\" : person_A, \n",
    "    \"Person B\" : person_B, \n",
    "    \"Person C\" : person_C, \n",
    "    \"Person D\" : person_D, \n",
    "    \"Person E\" : person_E\n",
    "}\n",
    "\n",
    "dataset = pd.Series(av_sales)\n",
    "dataset"
   ]
  },
  {
   "cell_type": "code",
   "execution_count": 38,
   "id": "4c596f94-ba72-4ef3-9444-84df844b1938",
   "metadata": {},
   "outputs": [
    {
     "name": "stdout",
     "output_type": "stream",
     "text": [
      "<class 'pandas.core.frame.DataFrame'>\n",
      "RangeIndex: 9 entries, 0 to 8\n",
      "Data columns (total 4 columns):\n",
      " #   Column   Non-Null Count  Dtype \n",
      "---  ------   --------------  ----- \n",
      " 0   person   9 non-null      object\n",
      " 1   sales    9 non-null      int64 \n",
      " 2   quarter  9 non-null      int64 \n",
      " 3   country  9 non-null      object\n",
      "dtypes: int64(2), object(2)\n",
      "memory usage: 420.0+ bytes\n"
     ]
    }
   ],
   "source": [
    " df.info()"
   ]
  },
  {
   "cell_type": "code",
   "execution_count": 39,
   "id": "d239bb3c-53fa-4b24-9dd9-4e87e51c6c09",
   "metadata": {},
   "outputs": [
    {
     "data": {
      "text/html": [
       "<div>\n",
       "<style scoped>\n",
       "    .dataframe tbody tr th:only-of-type {\n",
       "        vertical-align: middle;\n",
       "    }\n",
       "\n",
       "    .dataframe tbody tr th {\n",
       "        vertical-align: top;\n",
       "    }\n",
       "\n",
       "    .dataframe thead th {\n",
       "        text-align: right;\n",
       "    }\n",
       "</style>\n",
       "<table border=\"1\" class=\"dataframe\">\n",
       "  <thead>\n",
       "    <tr style=\"text-align: right;\">\n",
       "      <th></th>\n",
       "      <th>sales</th>\n",
       "      <th>quarter</th>\n",
       "    </tr>\n",
       "  </thead>\n",
       "  <tbody>\n",
       "    <tr>\n",
       "      <th>count</th>\n",
       "      <td>9.000000</td>\n",
       "      <td>9.000000</td>\n",
       "    </tr>\n",
       "    <tr>\n",
       "      <th>mean</th>\n",
       "      <td>583.333333</td>\n",
       "      <td>1.444444</td>\n",
       "    </tr>\n",
       "    <tr>\n",
       "      <th>std</th>\n",
       "      <td>320.156212</td>\n",
       "      <td>0.527046</td>\n",
       "    </tr>\n",
       "    <tr>\n",
       "      <th>min</th>\n",
       "      <td>50.000000</td>\n",
       "      <td>1.000000</td>\n",
       "    </tr>\n",
       "    <tr>\n",
       "      <th>25%</th>\n",
       "      <td>400.000000</td>\n",
       "      <td>1.000000</td>\n",
       "    </tr>\n",
       "    <tr>\n",
       "      <th>50%</th>\n",
       "      <td>500.000000</td>\n",
       "      <td>1.000000</td>\n",
       "    </tr>\n",
       "    <tr>\n",
       "      <th>75%</th>\n",
       "      <td>800.000000</td>\n",
       "      <td>2.000000</td>\n",
       "    </tr>\n",
       "    <tr>\n",
       "      <th>max</th>\n",
       "      <td>1000.000000</td>\n",
       "      <td>2.000000</td>\n",
       "    </tr>\n",
       "  </tbody>\n",
       "</table>\n",
       "</div>"
      ],
      "text/plain": [
       "             sales   quarter\n",
       "count     9.000000  9.000000\n",
       "mean    583.333333  1.444444\n",
       "std     320.156212  0.527046\n",
       "min      50.000000  1.000000\n",
       "25%     400.000000  1.000000\n",
       "50%     500.000000  1.000000\n",
       "75%     800.000000  2.000000\n",
       "max    1000.000000  2.000000"
      ]
     },
     "execution_count": 39,
     "metadata": {},
     "output_type": "execute_result"
    }
   ],
   "source": [
    "df.describe()"
   ]
  },
  {
   "cell_type": "code",
   "execution_count": 40,
   "id": "9ed85d8a-a0b5-4d4f-85e6-8da790e5a076",
   "metadata": {},
   "outputs": [
    {
     "name": "stdout",
     "output_type": "stream",
     "text": [
      "[ 0  2  4  6  8 10 12 14 16 18 20 22]\n",
      "[[ 0  2  4  6  8 10]\n",
      " [12 14 16 18 20 22]]\n",
      "[[ 0  2  4  6]\n",
      " [ 8 10 12 14]\n",
      " [16 18 20 22]]\n"
     ]
    }
   ],
   "source": [
    "import numpy as np\n",
    "c1 = np.arange(0, 24, 2)\n",
    "c2 = c1.reshape((2, 6))\n",
    "print(c1, c2, sep=\"\\n\")\n",
    "print(c2.reshape((3, 4)))\n",
    "\n"
   ]
  },
  {
   "cell_type": "code",
   "execution_count": 41,
   "id": "4f121bf3-eb8b-404f-abe6-66a7bbe77604",
   "metadata": {},
   "outputs": [
    {
     "data": {
      "text/html": [
       "<div>\n",
       "<style scoped>\n",
       "    .dataframe tbody tr th:only-of-type {\n",
       "        vertical-align: middle;\n",
       "    }\n",
       "\n",
       "    .dataframe tbody tr th {\n",
       "        vertical-align: top;\n",
       "    }\n",
       "\n",
       "    .dataframe thead th {\n",
       "        text-align: right;\n",
       "    }\n",
       "</style>\n",
       "<table border=\"1\" class=\"dataframe\">\n",
       "  <thead>\n",
       "    <tr style=\"text-align: right;\">\n",
       "      <th></th>\n",
       "      <th>Gender</th>\n",
       "      <th>Role</th>\n",
       "      <th>Experience</th>\n",
       "      <th>Salary</th>\n",
       "    </tr>\n",
       "  </thead>\n",
       "  <tbody>\n",
       "    <tr>\n",
       "      <th>0</th>\n",
       "      <td>Male</td>\n",
       "      <td>Data Analyst</td>\n",
       "      <td>1</td>\n",
       "      <td>48000</td>\n",
       "    </tr>\n",
       "    <tr>\n",
       "      <th>1</th>\n",
       "      <td>Male</td>\n",
       "      <td>Data Analyst</td>\n",
       "      <td>1</td>\n",
       "      <td>42000</td>\n",
       "    </tr>\n",
       "    <tr>\n",
       "      <th>2</th>\n",
       "      <td>Male</td>\n",
       "      <td>Data Analyst</td>\n",
       "      <td>3</td>\n",
       "      <td>51000</td>\n",
       "    </tr>\n",
       "    <tr>\n",
       "      <th>3</th>\n",
       "      <td>Male</td>\n",
       "      <td>Data Scientist</td>\n",
       "      <td>5</td>\n",
       "      <td>62000</td>\n",
       "    </tr>\n",
       "    <tr>\n",
       "      <th>4</th>\n",
       "      <td>Female</td>\n",
       "      <td>Data Scientist</td>\n",
       "      <td>6</td>\n",
       "      <td>71000</td>\n",
       "    </tr>\n",
       "    <tr>\n",
       "      <th>5</th>\n",
       "      <td>Female</td>\n",
       "      <td>Data Scientist</td>\n",
       "      <td>8</td>\n",
       "      <td>73000</td>\n",
       "    </tr>\n",
       "    <tr>\n",
       "      <th>6</th>\n",
       "      <td>Male</td>\n",
       "      <td>Manager</td>\n",
       "      <td>10</td>\n",
       "      <td>82000</td>\n",
       "    </tr>\n",
       "    <tr>\n",
       "      <th>7</th>\n",
       "      <td>Female</td>\n",
       "      <td>Manager</td>\n",
       "      <td>11</td>\n",
       "      <td>87000</td>\n",
       "    </tr>\n",
       "    <tr>\n",
       "      <th>8</th>\n",
       "      <td>Female</td>\n",
       "      <td>Manager</td>\n",
       "      <td>12</td>\n",
       "      <td>91000</td>\n",
       "    </tr>\n",
       "  </tbody>\n",
       "</table>\n",
       "</div>"
      ],
      "text/plain": [
       "   Gender            Role  Experience  Salary\n",
       "0    Male    Data Analyst           1   48000\n",
       "1    Male    Data Analyst           1   42000\n",
       "2    Male    Data Analyst           3   51000\n",
       "3    Male  Data Scientist           5   62000\n",
       "4  Female  Data Scientist           6   71000\n",
       "5  Female  Data Scientist           8   73000\n",
       "6    Male         Manager          10   82000\n",
       "7  Female         Manager          11   87000\n",
       "8  Female         Manager          12   91000"
      ]
     },
     "execution_count": 41,
     "metadata": {},
     "output_type": "execute_result"
    }
   ],
   "source": [
    "employee_csv = {\n",
    "    \"Gender\" : [\"Male\", \"Male\", \"Male\", \"Male\", \"Female\", \"Female\", \"Male\", \"Female\", \"Female\"],\n",
    "    \"Role\" : [\"Data Analyst\", \"Data Analyst\", \"Data Analyst\", \"Data Scientist\", \"Data Scientist\", \"Data Scientist\", \"Manager\", \"Manager\", \"Manager\"], \n",
    "    \"Experience\" : [1, 1, 3, 5, 6, 8, 10, 11, 12],\n",
    "    \"Salary\" : [48000, 42000, 51000, 62000, 71000, 73000, 82000, 87000, 91000]\n",
    "}\n",
    "\n",
    "df_employees = pd.DataFrame(employee_csv)\n",
    "df_employees"
   ]
  },
  {
   "cell_type": "code",
   "execution_count": 42,
   "id": "08a8c473-fa80-4cf0-a14b-88a608be9230",
   "metadata": {},
   "outputs": [
    {
     "name": "stdout",
     "output_type": "stream",
     "text": [
      "Total salary for the role of Data Analyst: 141000\n",
      "Total salary for the role of Data Scientist: 206000\n",
      "Total salary for the role of Manager: 260000\n"
     ]
    }
   ],
   "source": [
    "Data_analyst_total_salary = df_employees[df_employees[\"Role\"] == \"Data Analyst\"][\"Salary\"].sum()\n",
    "Data_scientist_total_salary = df_employees[df_employees[\"Role\"] == \"Data Scientist\"][\"Salary\"].sum()\n",
    "Manager_total_salary = df_employees[df_employees[\"Role\"] == \"Manager\"][\"Salary\"].sum()\n",
    "print(f\"Total salary for the role of Data Analyst: {Data_analyst_total_salary}\")\n",
    "print(f\"Total salary for the role of Data Scientist: {Data_scientist_total_salary}\")\n",
    "print(f\"Total salary for the role of Manager: {Manager_total_salary}\")"
   ]
  },
  {
   "cell_type": "code",
   "execution_count": 43,
   "id": "999d4780-f545-47a4-8b16-af9ab0d9a99f",
   "metadata": {},
   "outputs": [
    {
     "name": "stdout",
     "output_type": "stream",
     "text": [
      "Number of females : 4\n",
      "Average Salary of Females : 80500.0\n",
      "Highest salary for female employees is 91000\n"
     ]
    }
   ],
   "source": [
    "female = df_employees[df_employees[\"Gender\"] == \"Female\"][\"Salary\"]\n",
    "male = df_employees[df_employees[\"Gender\"] == \"Male\"][\"Salary\"]\n",
    "print(f\"Number of females : {len(female)}\")\n",
    "print(f\"Average Salary of Females : {female.mean()}\")\n",
    "print(f\"Highest salary for female employees is {female.max()}\")"
   ]
  },
  {
   "cell_type": "code",
   "execution_count": 44,
   "id": "2d65d3e4-146c-4204-ba89-142504671349",
   "metadata": {},
   "outputs": [
    {
     "name": "stdout",
     "output_type": "stream",
     "text": [
      "Highest salary for male employees is 82000\n"
     ]
    }
   ],
   "source": [
    "male = df_employees[df_employees[\"Gender\"] == \"Male\"][\"Salary\"]\n",
    "print(f\"Highest salary for male employees is {male.max()}\")"
   ]
  },
  {
   "cell_type": "code",
   "execution_count": 45,
   "id": "7b6b0a9c-0d53-4128-8189-cc8c66893d6c",
   "metadata": {},
   "outputs": [
    {
     "data": {
      "text/html": [
       "<div>\n",
       "<style scoped>\n",
       "    .dataframe tbody tr th:only-of-type {\n",
       "        vertical-align: middle;\n",
       "    }\n",
       "\n",
       "    .dataframe tbody tr th {\n",
       "        vertical-align: top;\n",
       "    }\n",
       "\n",
       "    .dataframe thead th {\n",
       "        text-align: right;\n",
       "    }\n",
       "</style>\n",
       "<table border=\"1\" class=\"dataframe\">\n",
       "  <thead>\n",
       "    <tr style=\"text-align: right;\">\n",
       "      <th></th>\n",
       "      <th>Gender</th>\n",
       "      <th>Role</th>\n",
       "      <th>Experience</th>\n",
       "      <th>Salary</th>\n",
       "    </tr>\n",
       "  </thead>\n",
       "  <tbody>\n",
       "    <tr>\n",
       "      <th>4</th>\n",
       "      <td>Female</td>\n",
       "      <td>Data Scientist</td>\n",
       "      <td>6</td>\n",
       "      <td>71000</td>\n",
       "    </tr>\n",
       "    <tr>\n",
       "      <th>5</th>\n",
       "      <td>Female</td>\n",
       "      <td>Data Scientist</td>\n",
       "      <td>8</td>\n",
       "      <td>73000</td>\n",
       "    </tr>\n",
       "    <tr>\n",
       "      <th>6</th>\n",
       "      <td>Male</td>\n",
       "      <td>Manager</td>\n",
       "      <td>10</td>\n",
       "      <td>82000</td>\n",
       "    </tr>\n",
       "    <tr>\n",
       "      <th>7</th>\n",
       "      <td>Female</td>\n",
       "      <td>Manager</td>\n",
       "      <td>11</td>\n",
       "      <td>87000</td>\n",
       "    </tr>\n",
       "    <tr>\n",
       "      <th>8</th>\n",
       "      <td>Female</td>\n",
       "      <td>Manager</td>\n",
       "      <td>12</td>\n",
       "      <td>91000</td>\n",
       "    </tr>\n",
       "  </tbody>\n",
       "</table>\n",
       "</div>"
      ],
      "text/plain": [
       "   Gender            Role  Experience  Salary\n",
       "4  Female  Data Scientist           6   71000\n",
       "5  Female  Data Scientist           8   73000\n",
       "6    Male         Manager          10   82000\n",
       "7  Female         Manager          11   87000\n",
       "8  Female         Manager          12   91000"
      ]
     },
     "execution_count": 45,
     "metadata": {},
     "output_type": "execute_result"
    }
   ],
   "source": [
    "av_salary = df_employees[\"Salary\"].mean()\n",
    "av_salary\n",
    "df_employees[df_employees[\"Salary\"] > av_salary]"
   ]
  },
  {
   "cell_type": "code",
   "execution_count": 53,
   "id": "7adaff89-25f4-425e-ab74-dc168c7102fc",
   "metadata": {},
   "outputs": [
    {
     "data": {
      "image/png": "[encoded data removed]",
      "text/plain": [
       "<Figure size 640x480 with 1 Axes>"
      ]
     },
     "metadata": {},
     "output_type": "display_data"
    }
   ],
   "source": [
    "import numpy as np\n",
    "import pandas as pd\n",
    "import matplotlib.pyplot as plt\n",
    "y =  df_employees[\"Salary\"]\n",
    "x =  df_employees[\"Gender\"]\n",
    "plt.bar(x, y, color = \"red\" , edgecolor = \"green\", linewidth=2)\n",
    "plt.set_ylim = 100000\n",
    "plt.title(\"Salary vs Gender\")\n",
    "plt.xlabel(\"Gender\")\n",
    "plt.ylabel(\"Salary of Employees\")\n",
    "plt.show()\n"
   ]
  },
  {
   "cell_type": "code",
   "execution_count": null,
   "id": "61ff3f8b-9378-484c-8e55-950377c1fdcf",
   "metadata": {},
   "outputs": [],
   "source": []
  }
 ],
 "metadata": {
  "kernelspec": {
   "display_name": "Python 3.13",
   "language": "python",
   "name": "python313"
  },
  "language_info": {
   "codemirror_mode": {
    "name": "ipython",
    "version": 3
   },
   "file_extension": ".py",
   "mimetype": "text/x-python",
   "name": "python",
   "nbconvert_exporter": "python",
   "pygments_lexer": "ipython3",
   "version": "3.13.1"
  }
 },
 "nbformat": 4,
 "nbformat_minor": 5
}
