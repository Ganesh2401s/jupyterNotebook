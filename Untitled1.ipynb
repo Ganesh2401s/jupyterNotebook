{
 "cells": [
  {
   "cell_type": "code",
   "execution_count": 2,
   "id": "9e6bd1f5",
   "metadata": {},
   "outputs": [
    {
     "name": "stdout",
     "output_type": "stream",
     "text": [
      "Pandas Version: 2.2.3\n",
      "numpy Version: 2.2.2\n"
     ]
    }
   ],
   "source": [
    "import pandas as pd # type: ignore\n",
    "import numpy as np # type: ignore\n",
    "print(f\"Pandas Version: {pd.__version__}\")\n",
    "print(f\"numpy Version: {np.__version__}\")\n"
   ]
  },
  {
   "cell_type": "markdown",
   "id": "17158a8b",
   "metadata": {},
   "source": [
    "### Pandas Data Structures : Series & DataFrame\n",
    "\n",
    "##### Series is a one-dimensional array-like object containing a sequence of values and an associated array of labels, called it's index."
   ]
  },
  {
   "cell_type": "code",
   "execution_count": null,
   "id": "22483c1c",
   "metadata": {},
   "outputs": [],
   "source": []
  }
 ],
 "metadata": {
  "kernelspec": {
   "display_name": "Python 3",
   "language": "python",
   "name": "python3"
  },
  "language_info": {
   "codemirror_mode": {
    "name": "ipython",
    "version": 3
   },
   "file_extension": ".py",
   "mimetype": "text/x-python",
   "name": "python",
   "nbconvert_exporter": "python",
   "pygments_lexer": "ipython3",
   "version": "3.13.1"
  }
 },
 "nbformat": 4,
 "nbformat_minor": 5
}
