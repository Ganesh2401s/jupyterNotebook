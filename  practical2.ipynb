{
 "cells": [
  {
   "cell_type": "code",
   "execution_count": 1,
   "id": "7e9dff3d-dbca-45a5-aded-17899580e269",
   "metadata": {},
   "outputs": [
    {
     "name": "stdout",
     "output_type": "stream",
     "text": [
      "The DataFrame, Iris:  \n",
      "      Id  Sepal Length  Sepal Width  Petal Length  Petal Width         Species\n",
      "0      1           5.1          3.5           1.4          0.2     Iris-setosa\n",
      "1      2           4.9          3.0           1.4          0.2     Iris-setosa\n",
      "2      3           4.7          3.2           1.3          0.2     Iris-setosa\n",
      "3      4           4.6          3.1           1.5          0.2     Iris-setosa\n",
      "4      5           5.0          3.6           1.4          0.2     Iris-setosa\n",
      "..   ...           ...          ...           ...          ...             ...\n",
      "145  146           6.7          3.0           5.2          2.3  Iris-virginica\n",
      "146  147           6.3          2.5           5.0          1.9  Iris-virginica\n",
      "147  148           6.5          3.0           5.2          2.0  Iris-virginica\n",
      "148  149           6.2          3.4           5.4          2.3  Iris-virginica\n",
      "149  150           5.9          3.0           5.1          1.8  Iris-virginica\n",
      "\n",
      "[150 rows x 6 columns]\n"
     ]
    }
   ],
   "source": [
    "import numpy as np\n",
    "import pandas as pd\n",
    "import scipy.stats as sts\n",
    "import matplotlib.pyplot as plt \n",
    "\n",
    "iris_data = pd.read_csv(\"iris.csv\")\n",
    "\n",
    "#Renaming column names for better presentation of dataset\n",
    "new_column = {\n",
    "    \"SepalLengthCm\" : \"Sepal Length\",\n",
    "    \"SepalWidthCm\" : \"Sepal Width\",\n",
    "    \"PetalLengthCm\" : \"Petal Length\", \n",
    "    \"PetalWidthCm\" : \"Petal Width\"\n",
    "}\n",
    "\n",
    "iris_data.rename(columns = new_column, inplace=True)\n",
    "\n",
    "print(\"The DataFrame, Iris:  \")\n",
    "print(iris_data)"
   ]
  },
  {
   "cell_type": "code",
   "execution_count": 2,
   "id": "8273de01-0c95-495e-8206-20d5e02c485a",
   "metadata": {},
   "outputs": [
    {
     "name": "stdout",
     "output_type": "stream",
     "text": [
      "Columns of Iris Data: \n",
      "Index(['Id', 'Sepal Length', 'Sepal Width', 'Petal Length', 'Petal Width',\n",
      "       'Species'],\n",
      "      dtype='object')\n"
     ]
    }
   ],
   "source": [
    "print(\"Columns of Iris Data: \")\n",
    "print(iris_data.columns) "
   ]
  },
  {
   "cell_type": "code",
   "execution_count": 3,
   "id": "0c1edc69-8775-490f-a083-e288c46bb5ab",
   "metadata": {},
   "outputs": [
    {
     "name": "stdout",
     "output_type": "stream",
     "text": [
      "Mean of each Feature: \n",
      "Sepal Length    5.843333\n",
      "Sepal Width     3.054000\n",
      "Petal Length    3.758667\n",
      "Petal Width     1.198667\n",
      "dtype: float64\n"
     ]
    }
   ],
   "source": [
    "mean_data = iris_data[['Sepal Length', 'Sepal Width', 'Petal Length', 'Petal Width']].mean()\n",
    "print(\"Mean of each Feature: \")\n",
    "print(mean_data)"
   ]
  },
  {
   "cell_type": "code",
   "execution_count": 4,
   "id": "3bc42796-21d7-4ffe-bdef-70c61c0df0a0",
   "metadata": {},
   "outputs": [
    {
     "name": "stdout",
     "output_type": "stream",
     "text": [
      "Median of each Feature: \n",
      "Sepal Length    5.80\n",
      "Sepal Width     3.00\n",
      "Petal Length    4.35\n",
      "Petal Width     1.30\n",
      "dtype: float64\n"
     ]
    }
   ],
   "source": [
    "median_data = iris_data[['Sepal Length', 'Sepal Width', 'Petal Length', 'Petal Width']].median()\n",
    "print(\"Median of each Feature: \")\n",
    "print(median_data)"
   ]
  },
  {
   "cell_type": "code",
   "execution_count": 5,
   "id": "a39e14a3-50f3-43bd-b6aa-5c3e60c75261",
   "metadata": {},
   "outputs": [
    {
     "name": "stdout",
     "output_type": "stream",
     "text": [
      "Mode of each Feature: \n",
      "   Sepal Length  Sepal Width  Petal Length  Petal Width\n",
      "0           5.0          3.0           1.5          0.2\n"
     ]
    }
   ],
   "source": [
    "mode_data = iris_data[['Sepal Length', 'Sepal Width', 'Petal Length', 'Petal Width']].mode()\n",
    "print(\"Mode of each Feature: \")\n",
    "print(mode_data)"
   ]
  },
  {
   "cell_type": "code",
   "execution_count": 6,
   "id": "b204e14f-78b8-4a71-9df6-f316e5e0ccec",
   "metadata": {},
   "outputs": [
    {
     "name": "stdout",
     "output_type": "stream",
     "text": [
      "Standard Deviation of each Feature: \n",
      "Sepal Length    0.828066\n",
      "Sepal Width     0.433594\n",
      "Petal Length    1.764420\n",
      "Petal Width     0.763161\n",
      "dtype: float64\n"
     ]
    }
   ],
   "source": [
    "standard_deviation_data = iris_data[['Sepal Length', 'Sepal Width', 'Petal Length', 'Petal Width']].std()\n",
    "print(\"Standard Deviation of each Feature: \")\n",
    "print(standard_deviation_data)"
   ]
  },
  {
   "cell_type": "code",
   "execution_count": 7,
   "id": "c034fa49-ac35-46b4-bb47-c639673b8fa2",
   "metadata": {},
   "outputs": [
    {
     "name": "stdout",
     "output_type": "stream",
     "text": [
      "The bounds of Confidence Interval for Sepal Length feature is : \n",
      "Upper Bounds:  68.49048955684367\n",
      "Lower Bounds:  82.50951044315633\n",
      "\n",
      "\n",
      "The bounds of Confidence Interval for Sepal Width feature is : \n",
      "Upper Bounds:  5.709732481507366\n",
      "Lower Bounds:  5.976934185159301\n",
      "\n",
      "\n",
      "The bounds of Confidence Interval for Petal Length feature is : \n",
      "Upper Bounds:  2.9840435467800845\n",
      "Lower Bounds:  3.123956453219916\n",
      "\n",
      "\n",
      "The bounds of Confidence Interval for Petal Width feature is : \n",
      "Upper Bounds:  3.473993663967714\n",
      "Lower Bounds:  4.0433396693656185\n",
      "\n",
      "\n"
     ]
    }
   ],
   "source": [
    "#confidence interval \n",
    "for i in range(4):\n",
    "    \n",
    "    select_feature = iris_data.iloc[:, i]\n",
    "    sample_mean = np.mean(select_feature)\n",
    "    stad_error_sam = sts.sem(select_feature)\n",
    "    confidence_level = 0.95\n",
    "    conf_interval = sts.t.interval(confidence_level, len(select_feature) - 1, loc = sample_mean, scale = stad_error_sam)\n",
    "    column = iris_data.columns[1:5]\n",
    "    print(f\"The bounds of Confidence Interval for {column[i]} feature is : \")\n",
    "    print(\"Upper Bounds: \", conf_interval[0])\n",
    "    print(\"Lower Bounds: \", conf_interval[1])\n",
    "    print(\"\\n\")"
   ]
  },
  {
   "cell_type": "code",
   "execution_count": 8,
   "id": "57f19a70-a325-40f7-98f7-b09269593187",
   "metadata": {},
   "outputs": [
    {
     "name": "stdout",
     "output_type": "stream",
     "text": [
      "Standard Error: \n",
      "Sepal Length    0.067611\n",
      "Sepal Width     0.035403\n",
      "Petal Length    0.144064\n",
      "Petal Width     0.062312\n",
      "dtype: float64\n",
      "\n",
      "\n"
     ]
    }
   ],
   "source": [
    "#Standard error for each feature:\n",
    "Length_sample = len(iris_data)\n",
    "std_error =standard_deviation_data / (np.sqrt(Length_sample))\n",
    "print(\"Standard Error: \")\n",
    "print(std_error)\n",
    "print(\"\\n\")"
   ]
  },
  {
   "cell_type": "code",
   "execution_count": 13,
   "id": "26d42960-b99a-4357-b055-a7cd54528fe2",
   "metadata": {},
   "outputs": [
    {
     "data": {
      "image/png": "[encoded data removed]",
      "text/plain": [
       "<Figure size 640x480 with 2 Axes>"
      ]
     },
     "metadata": {},
     "output_type": "display_data"
    },
    {
     "name": "stdout",
     "output_type": "stream",
     "text": [
      "\n",
      "\n"
     ]
    }
   ],
   "source": [
    "# b. Compute correlation coefficients between each pair of features and plot heatmap\n",
    "\n",
    "correlation_matrix =  iris_data[['Sepal Length', 'Sepal Width', 'Petal Length', 'Petal Width']].corr()\n",
    "label = ['Sepal Length', 'Sepal Width', 'Petal Length', 'Petal Width']\n",
    "size_ln = len(label)\n",
    "plt.imshow(correlation_matrix, cmap=\"coolwarm\")\n",
    "plt.colorbar()\n",
    "plt.xticks(np.arange(size_ln), label)\n",
    "plt.yticks(np.arange(size_ln), label)  # Added y-axis labels\n",
    "plt.title(\"Correlation Coefficient of features: Heatmap\")\n",
    "plt.show()\n",
    "print(\"\\n\")"
   ]
  },
  {
   "cell_type": "code",
   "execution_count": 10,
   "id": "686ff39f-b600-4a5a-9497-052381813e80",
   "metadata": {},
   "outputs": [
    {
     "name": "stdout",
     "output_type": "stream",
     "text": [
      "The Covariance of the lengths of sepal and petal is : 1.2736823266219242\n"
     ]
    }
   ],
   "source": [
    "#Covariance\n",
    "sepal_data = iris_data[\"Sepal Length\"]\n",
    "petal_data = iris_data[\"Petal Length\"]\n",
    "covariance_data = sepal_data.cov(petal_data)\n",
    "print(\"The Covariance of the lengths of sepal and petal is :\", covariance_data)\n",
    " "
   ]
  },
  {
   "cell_type": "code",
   "execution_count": 11,
   "id": "eb5edcfb-992c-4a13-a049-aac10f00253c",
   "metadata": {},
   "outputs": [
    {
     "name": "stdout",
     "output_type": "stream",
     "text": [
      " Sepal Length  Count  Sepal Length  Count\n",
      "          4.3      1           6.1    6.0\n",
      "          4.4      3           6.2    4.0\n",
      "          4.5      1           6.3    9.0\n",
      "          4.6      4           6.4    7.0\n",
      "          4.7      2           6.5    5.0\n",
      "          4.8      5           6.6    2.0\n",
      "          4.9      6           6.7    8.0\n",
      "          5.0     10           6.8    3.0\n",
      "          5.1      9           6.9    4.0\n",
      "          5.2      4           7.0    1.0\n",
      "          5.3      1           7.1    1.0\n",
      "          5.4      6           7.2    3.0\n",
      "          5.5      7           7.3    1.0\n",
      "          5.6      6           7.4    1.0\n",
      "          5.7      8           7.6    1.0\n",
      "          5.8      7           7.7    4.0\n",
      "          5.9      3           7.9    1.0\n",
      "          6.0      6           NaN    NaN\n"
     ]
    }
   ],
   "source": [
    "#crosstab\n",
    "cont_table = pd.crosstab(index=iris_data[\"Sepal Length\"], columns=\"count\")\n",
    "\n",
    "# Splited the table into two halves for better visulaization, \n",
    "half = len(cont_table) // 2 + len(cont_table) % 2  # If odd, first half will be bigger\n",
    "left = cont_table.iloc[:half]\n",
    "right = cont_table.iloc[half:]\n",
    "\n",
    "# Combined them side by side\n",
    "combined = pd.concat([left.reset_index(), right.reset_index()], axis=1)\n",
    "\n",
    "# Renamed columns for clarity\n",
    "combined.columns = [\"Sepal Length\", \"Count\", \"Sepal Length\", \"Count\"]\n",
    "\n",
    "print(combined.to_string(index=False))\n"
   ]
  },
  {
   "cell_type": "code",
   "execution_count": 12,
   "id": "054ed278-2f58-42d8-9bcd-d74790dc3f55",
   "metadata": {},
   "outputs": [
    {
     "name": "stdout",
     "output_type": "stream",
     "text": [
      "Statistical Summary:\n",
      "                        mean  median  mode       std\n",
      "sepal length (cm)  5.843333    5.80   5.0  0.828066\n",
      "sepal width (cm)   3.057333    3.00   3.0  0.435866\n",
      "petal length (cm)  3.758000    4.35   1.4  1.765298\n",
      "petal width (cm)   1.199333    1.30   0.2  0.762238\n",
      "Confidence Intervals:\n",
      "           sepal length (cm)  sepal width (cm)  petal length (cm)  \\\n",
      "Lower CI           5.709732          2.987010           3.473185   \n",
      "Upper CI           5.976934          3.127656           4.042815   \n",
      "\n",
      "          petal width (cm)  \n",
      "Lower CI          1.076353  \n",
      "Upper CI          1.322313  \n",
      "Standard Errors:\n",
      "                 sepal length (cm)  sepal width (cm)  petal length (cm)  \\\n",
      "Standard Error           0.067611          0.035588           0.144136   \n",
      "\n",
      "                petal width (cm)  \n",
      "Standard Error          0.062236  \n"
     ]
    },
    {
     "data": {
      "image/png": "[encoded data removed]",
      "text/plain": [
       "<Figure size 800x600 with 2 Axes>"
      ]
     },
     "metadata": {},
     "output_type": "display_data"
    },
    {
     "name": "stdout",
     "output_type": "stream",
     "text": [
      "Covariance between Sepal Length and Petal Length: 1.2743154362416107\n",
      "Contingency Table:\n",
      " species   0   1   2\n",
      "count    50  50  50\n"
     ]
    }
   ],
   "source": [
    "import numpy as np\n",
    "import pandas as pd\n",
    "import seaborn as sns\n",
    "import matplotlib.pyplot as plt\n",
    "from scipy import stats\n",
    "from sklearn.datasets import load_iris\n",
    "\n",
    "# Load the Iris dataset\n",
    "iris = load_iris()\n",
    "data = pd.DataFrame(iris.data, columns=iris.feature_names)\n",
    "data['species'] = iris.target\n",
    "\n",
    "# a. Compute statistical measures for each feature\n",
    "mean_values = data.iloc[:, :-1].mean()\n",
    "median_values = data.iloc[:, :-1].median()\n",
    "std_values = data.iloc[:, :-1].std()\n",
    "mode_values = data.iloc[:, :-1].mode().iloc[0]\n",
    "\n",
    "# Create a DataFrame for statistical summary\n",
    "stats_summary = pd.DataFrame({'mean': mean_values, 'median': median_values, 'mode': mode_values, 'std': std_values})\n",
    "\n",
    "# Compute confidence interval and standard error\n",
    "confidence_interval = {}  # Dictionary to store confidence intervals\n",
    "standard_error = {}  # Dictionary to store standard errors\n",
    "for col in data.columns[:-1]:\n",
    "    se = stats.sem(data[col])\n",
    "    standard_error[col] = se\n",
    "    ci = stats.t.interval(0.95, len(data[col])-1, loc=np.mean(data[col]), scale=se)\n",
    "    confidence_interval[col] = ci\n",
    "\n",
    "# Convert to DataFrame\n",
    "ci_df = pd.DataFrame(confidence_interval, index=['Lower CI', 'Upper CI'])\n",
    "se_df = pd.DataFrame(standard_error, index=['Standard Error'])\n",
    "\n",
    "print(\"Statistical Summary:\\n\", stats_summary)\n",
    "print(\"Confidence Intervals:\\n\", ci_df)\n",
    "print(\"Standard Errors:\\n\", se_df)\n",
    "\n",
    "# b. Compute correlation matrix and plot heatmap\n",
    "correlation_matrix = data.iloc[:, :-1].corr()\n",
    "plt.figure(figsize=(8, 6))\n",
    "sns.heatmap(correlation_matrix, annot=True, cmap='coolwarm', fmt='.2f')\n",
    "plt.title(\"Feature Correlation Heatmap\")\n",
    "plt.show()\n",
    "\n",
    "# c. Compute covariance between sepal length and petal length\n",
    "covariance = np.cov(data['sepal length (cm)'], data['petal length (cm)'])[0, 1]\n",
    "print(\"Covariance between Sepal Length and Petal Length:\", covariance)\n",
    "\n",
    "# d. Build contingency table for class feature\n",
    "contingency_table = data['species'].value_counts().to_frame().T\n",
    "print(\"Contingency Table:\\n\", contingency_table)\n"
   ]
  },
  {
   "cell_type": "code",
   "execution_count": null,
   "id": "2a605105-ca44-4e20-98c8-854963d76d86",
   "metadata": {},
   "outputs": [],
   "source": []
  }
 ],
 "metadata": {
  "kernelspec": {
   "display_name": "Python 3.13",
   "language": "python",
   "name": "python313"
  },
  "language_info": {
   "codemirror_mode": {
    "name": "ipython",
    "version": 3
   },
   "file_extension": ".py",
   "mimetype": "text/x-python",
   "name": "python",
   "nbconvert_exporter": "python",
   "pygments_lexer": "ipython3",
   "version": "3.13.1"
  }
 },
 "nbformat": 4,
 "nbformat_minor": 5
}
