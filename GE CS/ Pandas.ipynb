{
 "cells": [
  {
   "cell_type": "code",
   "execution_count": 1,
   "id": "b32e21b1-5885-4168-b94e-8c08ed603192",
   "metadata": {},
   "outputs": [
    {
     "name": "stdout",
     "output_type": "stream",
     "text": [
      "   Id  SepalLengthCm  SepalWidthCm  PetalLengthCm  PetalWidthCm      Species\n",
      "0   1            5.1           3.5            1.4           0.2  Iris-setosa\n",
      "1   2            4.9           3.0            1.4           0.2  Iris-setosa\n",
      "2   3            4.7           3.2            1.3           0.2  Iris-setosa\n",
      "3   4            4.6           3.1            1.5           0.2  Iris-setosa\n",
      "4   5            5.0           3.6            1.4           0.2  Iris-setosa\n"
     ]
    }
   ],
   "source": [
    "import numpy as np\n",
    "import pandas as pd\n",
    "import matplotlib.pyplot as plt\n",
    "import seaborn as sns\n",
    "\n",
    "data = pd.read_csv(\"iris.csv\")\n",
    "print(data.head())    # prints first 5 rows of dataset\n",
    "# print(data.head(10))   prints first 10 rows of dataset \n",
    "# print(data.tail())     prints last 5 rows of dataset\n",
    "# print(data.tail(10))   prints last 10 rows of dataset\n",
    "# print(data.sample(5))  prints random 5 rows from dataset\n",
    "# data.columns           prints column names present in given dataset \n",
    "# data.shape           prints shape of the dataset (rows, columns)\n",
    "# print(data[10:21])   prints rows from 10 to 20\n",
    "# data.describe()\n",
    "# data.info()"
   ]
  },
  {
   "cell_type": "code",
   "execution_count": 2,
   "id": "37456b85-5282-4a16-8fbb-e10543efa2a9",
   "metadata": {},
   "outputs": [
    {
     "name": "stdout",
     "output_type": "stream",
     "text": [
      "<class 'pandas.core.frame.DataFrame'>\n",
      "RangeIndex: 150 entries, 0 to 149\n",
      "Data columns (total 2 columns):\n",
      " #   Column   Non-Null Count  Dtype \n",
      "---  ------   --------------  ----- \n",
      " 0   Id       150 non-null    int64 \n",
      " 1   Species  150 non-null    object\n",
      "dtypes: int64(1), object(1)\n",
      "memory usage: 2.5+ KB\n"
     ]
    }
   ],
   "source": [
    "specified_data = data[[\"Id\", \"Species\"]]\n",
    "# specified_data.head()\n",
    "specified_data.info()"
   ]
  },
  {
   "cell_type": "code",
   "execution_count": 3,
   "id": "804acfe7-cf8b-4f18-bd4f-95447d10e787",
   "metadata": {},
   "outputs": [
    {
     "name": "stdout",
     "output_type": "stream",
     "text": [
      "    Id  SepalLengthCm  SepalWidthCm  PetalLengthCm  PetalWidthCm      Species\n",
      "13  14            4.3           3.0            1.1           0.1  Iris-setosa\n"
     ]
    }
   ],
   "source": [
    "# prints the 10th row from available iris dataset\n",
    "# print(data.iloc[10])\n",
    "\n",
    "# prints all the rows where Species column is equal to \"Iris-setosa\"\n",
    "# print(data.loc[data[\"Species\"] == \"Iris-setosa\"]) \n",
    "\n",
    "# prints the specific row where Sepal Length is maximum\n",
    "print(data.loc[data[\"SepalLengthCm\"] == data[\"SepalLengthCm\"].min()])"
   ]
  },
  {
   "cell_type": "code",
   "execution_count": 4,
   "id": "9c7e9a76-f996-4a96-9b3d-a6bc54b43f09",
   "metadata": {},
   "outputs": [],
   "source": [
    "count = data[\"PetalLengthCm\"].value_counts()"
   ]
  },
  {
   "cell_type": "code",
   "execution_count": 5,
   "id": "6c7c5172-2452-4f22-9f25-79ce02d7db41",
   "metadata": {},
   "outputs": [],
   "source": [
    "sum_data = data[\"PetalLengthCm\"].sum()\n",
    "mean_data = data[\"PetalLengthCm\"].mean()\n",
    "median_data = data[\"PetalLengthCm\"].median()\n",
    "mode_data = data[\"PetalLengthCm\"].mode()\n",
    "max_data = data[\"PetalLengthCm\"].max()\n",
    "min_data = data[\"PetalLengthCm\"].min()"
   ]
  },
  {
   "cell_type": "code",
   "execution_count": 6,
   "id": "6fbdf87a-0716-46af-8e0b-de7b60070ce3",
   "metadata": {},
   "outputs": [
    {
     "data": {
      "text/plain": [
       "Index(['S.No.', 'Sepal Length (in Cm)', 'Sepal Width (in Cm)',\n",
       "       'Petal Length (in Cm)', 'Petal Width (in Cm)', 'Species'],\n",
       "      dtype='object')"
      ]
     },
     "execution_count": 6,
     "metadata": {},
     "output_type": "execute_result"
    }
   ],
   "source": [
    "#Renaming Columns\n",
    "new_columns = {\n",
    "    \"Id\" : \"S.No.\",\n",
    "    \"SepalLengthCm\" : \"Sepal Length (in Cm)\", \n",
    "    \"SepalWidthCm\" : \"Sepal Width (in Cm)\",\n",
    "    \"PetalLengthCm\" : \"Petal Length (in Cm)\", \n",
    "    \"PetalWidthCm\" : \"Petal Width (in Cm)\"    \n",
    "}\n",
    "\n",
    "data.rename(columns = new_columns, inplace=True)\n",
    "data.columns"
   ]
  },
  {
   "cell_type": "code",
   "execution_count": 7,
   "id": "3ad9df3c-5e1c-4f0e-84ff-fe6b24f0a7b4",
   "metadata": {},
   "outputs": [
    {
     "data": {
      "text/html": [
       "<div>\n",
       "<style scoped>\n",
       "    .dataframe tbody tr th:only-of-type {\n",
       "        vertical-align: middle;\n",
       "    }\n",
       "\n",
       "    .dataframe tbody tr th {\n",
       "        vertical-align: top;\n",
       "    }\n",
       "\n",
       "    .dataframe thead th {\n",
       "        text-align: right;\n",
       "    }\n",
       "</style>\n",
       "<table border=\"1\" class=\"dataframe\">\n",
       "  <thead>\n",
       "    <tr style=\"text-align: right;\">\n",
       "      <th></th>\n",
       "      <th>S.No.</th>\n",
       "      <th>Sepal Length (in Cm)</th>\n",
       "      <th>Sepal Width (in Cm)</th>\n",
       "      <th>Petal Length (in Cm)</th>\n",
       "      <th>Petal Width (in Cm)</th>\n",
       "      <th>Species</th>\n",
       "    </tr>\n",
       "  </thead>\n",
       "  <tbody>\n",
       "    <tr>\n",
       "      <th>0</th>\n",
       "      <td>1</td>\n",
       "      <td>5.1</td>\n",
       "      <td>3.5</td>\n",
       "      <td>1.4</td>\n",
       "      <td>0.2</td>\n",
       "      <td>Iris-setosa</td>\n",
       "    </tr>\n",
       "    <tr>\n",
       "      <th>1</th>\n",
       "      <td>2</td>\n",
       "      <td>4.9</td>\n",
       "      <td>3.0</td>\n",
       "      <td>1.4</td>\n",
       "      <td>0.2</td>\n",
       "      <td>Iris-setosa</td>\n",
       "    </tr>\n",
       "    <tr>\n",
       "      <th>2</th>\n",
       "      <td>3</td>\n",
       "      <td>4.7</td>\n",
       "      <td>3.2</td>\n",
       "      <td>1.3</td>\n",
       "      <td>0.2</td>\n",
       "      <td>Iris-setosa</td>\n",
       "    </tr>\n",
       "    <tr>\n",
       "      <th>3</th>\n",
       "      <td>4</td>\n",
       "      <td>4.6</td>\n",
       "      <td>3.1</td>\n",
       "      <td>1.5</td>\n",
       "      <td>0.2</td>\n",
       "      <td>Iris-setosa</td>\n",
       "    </tr>\n",
       "    <tr>\n",
       "      <th>4</th>\n",
       "      <td>5</td>\n",
       "      <td>5.0</td>\n",
       "      <td>3.6</td>\n",
       "      <td>1.4</td>\n",
       "      <td>0.2</td>\n",
       "      <td>Iris-setosa</td>\n",
       "    </tr>\n",
       "  </tbody>\n",
       "</table>\n",
       "</div>"
      ],
      "text/plain": [
       "   S.No.  Sepal Length (in Cm)  Sepal Width (in Cm)  Petal Length (in Cm)  \\\n",
       "0      1                   5.1                  3.5                   1.4   \n",
       "1      2                   4.9                  3.0                   1.4   \n",
       "2      3                   4.7                  3.2                   1.3   \n",
       "3      4                   4.6                  3.1                   1.5   \n",
       "4      5                   5.0                  3.6                   1.4   \n",
       "\n",
       "   Petal Width (in Cm)      Species  \n",
       "0                  0.2  Iris-setosa  \n",
       "1                  0.2  Iris-setosa  \n",
       "2                  0.2  Iris-setosa  \n",
       "3                  0.2  Iris-setosa  \n",
       "4                  0.2  Iris-setosa  "
      ]
     },
     "execution_count": 7,
     "metadata": {},
     "output_type": "execute_result"
    }
   ],
   "source": [
    "data.head()"
   ]
  },
  {
   "cell_type": "code",
   "execution_count": 8,
   "id": "e17c6a73-225a-4f81-888d-bc9910a67f35",
   "metadata": {},
   "outputs": [
    {
     "name": "stdout",
     "output_type": "stream",
     "text": [
      "<class 'pandas.core.frame.DataFrame'>\n",
      "RangeIndex: 150 entries, 0 to 149\n",
      "Data columns (total 6 columns):\n",
      " #   Column                Non-Null Count  Dtype  \n",
      "---  ------                --------------  -----  \n",
      " 0   S.No.                 150 non-null    int64  \n",
      " 1   Sepal Length (in Cm)  150 non-null    float64\n",
      " 2   Sepal Width (in Cm)   150 non-null    float64\n",
      " 3   Petal Length (in Cm)  150 non-null    float64\n",
      " 4   Petal Width (in Cm)   150 non-null    float64\n",
      " 5   Species               150 non-null    object \n",
      "dtypes: float64(4), int64(1), object(1)\n",
      "memory usage: 7.2+ KB\n"
     ]
    }
   ],
   "source": [
    "dataset = data.copy()\n",
    "dataset.describe()\n",
    "dataset.info()\n",
    "\n"
   ]
  },
  {
   "cell_type": "code",
   "execution_count": 9,
   "id": "548e1117-5d60-480c-bf96-13b40fb65130",
   "metadata": {},
   "outputs": [
    {
     "data": {
      "image/png": "[encoded data removed]",
      "text/plain": [
       "<Figure size 1000x1000 with 1 Axes>"
      ]
     },
     "metadata": {},
     "output_type": "display_data"
    }
   ],
   "source": [
    "plt.figure(figsize = (10, 10))\n",
    "x = dataset[\"Sepal Length (in Cm)\"]\n",
    "\n",
    "\n",
    "plt.hist(x, bins = 20, color=\"red\")\n",
    "plt.title(\"Sepal Length in Cm\")\n",
    "plt.xlabel(\"Sepal Length (in Cm)\")\n",
    "plt.ylabel(\"Count\")\n",
    "plt.show()"
   ]
  },
  {
   "cell_type": "code",
   "execution_count": 11,
   "id": "25c94917-3f2f-4881-bbec-912a82fdd277",
   "metadata": {},
   "outputs": [
    {
     "name": "stdout",
     "output_type": "stream",
     "text": [
      "   Sepal Length (in Cm)  Sepal Width (in Cm)  Petal Length (in Cm)  \\\n",
      "0                   5.1                  3.5                   1.4   \n",
      "1                   4.9                  3.0                   1.4   \n",
      "2                   4.7                  3.2                   1.3   \n",
      "3                   4.6                  3.1                   1.5   \n",
      "4                   5.0                  3.6                   1.4   \n",
      "\n",
      "   Petal Width (in Cm)  \n",
      "0                  0.2  \n",
      "1                  0.2  \n",
      "2                  0.2  \n",
      "3                  0.2  \n",
      "4                  0.2  \n"
     ]
    },
    {
     "data": {
      "text/plain": [
       "<Axes: >"
      ]
     },
     "execution_count": 11,
     "metadata": {},
     "output_type": "execute_result"
    },
    {
     "data": {
      "image/png": "[encoded data removed]",
      "text/plain": [
       "<Figure size 1000x1000 with 1 Axes>"
      ]
     },
     "metadata": {},
     "output_type": "display_data"
    }
   ],
   "source": [
    "new_dataBoxPlot = dataset[['Sepal Length (in Cm)', 'Sepal Width (in Cm)',\n",
    "       'Petal Length (in Cm)', 'Petal Width (in Cm)']]\n",
    "print(new_dataBoxPlot.head())\n",
    "plt.figure(figsize = (10, 10))\n",
    "new_dataBoxPlot.boxplot()"
   ]
  },
  {
   "cell_type": "code",
   "execution_count": null,
   "id": "a3b8593a-2c00-4d67-b923-6502850dd78d",
   "metadata": {},
   "outputs": [],
   "source": [
    " "
   ]
  }
 ],
 "metadata": {
  "kernelspec": {
   "display_name": "Python 3.13",
   "language": "python",
   "name": "python313"
  },
  "language_info": {
   "codemirror_mode": {
    "name": "ipython",
    "version": 3
   },
   "file_extension": ".py",
   "mimetype": "text/x-python",
   "name": "python",
   "nbconvert_exporter": "python",
   "pygments_lexer": "ipython3",
   "version": "3.13.1"
  }
 },
 "nbformat": 4,
 "nbformat_minor": 5
}
